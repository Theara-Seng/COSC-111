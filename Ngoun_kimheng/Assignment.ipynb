{
 "cells": [
  {
   "cell_type": "code",
   "execution_count": 1,
   "id": "ecc62c46",
   "metadata": {},
   "outputs": [
    {
     "name": "stdout",
     "output_type": "stream",
     "text": [
      "document\n"
     ]
    }
   ],
   "source": [
    "print(\"document\")"
   ]
  },
  {
   "cell_type": "markdown",
   "id": "90845756",
   "metadata": {},
   "source": [
    "# Pratice 1"
   ]
  },
  {
   "cell_type": "markdown",
   "id": "6b4e4738",
   "metadata": {},
   "source": [
    "#### Create a list of 4 countries: [\"Cambodia\", \"China\", \"Vietnam\", \"Laos\"] Print the first country in the list."
   ]
  },
  {
   "cell_type": "code",
   "execution_count": 8,
   "id": "391a11d4",
   "metadata": {},
   "outputs": [
    {
     "data": {
      "text/plain": [
       "'Cambodia'"
      ]
     },
     "execution_count": 8,
     "metadata": {},
     "output_type": "execute_result"
    }
   ],
   "source": [
    "List=[\"Cambodia\", \"China\", \"Vietnam\", \"Laos\"]\n",
    "List[0]"
   ]
  },
  {
   "cell_type": "markdown",
   "id": "fe2e83b6",
   "metadata": {},
   "source": [
    "#### Create a list of animal: [\"dog\",\"cat\", \"rabbit\", \"hamster\"] Print the last animal using negative indexing."
   ]
  },
  {
   "cell_type": "code",
   "execution_count": 17,
   "id": "070e204e",
   "metadata": {},
   "outputs": [
    {
     "data": {
      "text/plain": [
       "'hamster'"
      ]
     },
     "execution_count": 17,
     "metadata": {},
     "output_type": "execute_result"
    }
   ],
   "source": [
    "List=[\"dog\",\"cat\",\"rabbit\",\"hamster\",]\n",
    "List[-1]"
   ]
  },
  {
   "cell_type": "markdown",
   "id": "2fe2dacc",
   "metadata": {},
   "source": [
    "# Pratice2\n",
    "#### Create a list of Fruits: [\"apple\", \"banana\", \"cherry\"]. Change \"banana\" to\"mango\" and print the list."
   ]
  },
  {
   "cell_type": "code",
   "execution_count": 18,
   "id": "85316a8b",
   "metadata": {},
   "outputs": [
    {
     "name": "stdout",
     "output_type": "stream",
     "text": [
      "['apple', 'mangoo', 'cherry']\n"
     ]
    }
   ],
   "source": [
    "List=[\"apple\",\"banana\", \"cherry\"]\n",
    "List[1]=\"mangoo\"\n",
    "print(List)"
   ]
  },
  {
   "cell_type": "markdown",
   "id": "f6ed3035",
   "metadata": {},
   "source": [
    "##### Create a list called a = [1, 2, 3]\n",
    "##### Assign b = a\n",
    "##### Then set b[0] = 100\n",
    "##### Print both a and b."
   ]
  },
  {
   "cell_type": "code",
   "execution_count": 25,
   "id": "d9f6551b",
   "metadata": {},
   "outputs": [
    {
     "name": "stdout",
     "output_type": "stream",
     "text": [
      "a: [1, 2, 3]\n",
      "b: [100, 2, 3]\n"
     ]
    }
   ],
   "source": [
    "a=[1,2,3]\n",
    "print(\"a:\", a)\n",
    "b=a\n",
    "b[0]=100\n",
    "print(\"b:\", b)"
   ]
  },
  {
   "cell_type": "markdown",
   "id": "55cabeec",
   "metadata": {},
   "source": [
    "# Pratice 3\n",
    "#### Given two lists. Write code to print: [\"Alice Smith\", \"Bob Lee\"]. Use element access and +.\n",
    "\n"
   ]
  },
  {
   "cell_type": "code",
   "execution_count": 7,
   "id": "d4595755",
   "metadata": {},
   "outputs": [
    {
     "name": "stdout",
     "output_type": "stream",
     "text": [
      "Alice Smith\n",
      "Bob Lee\n"
     ]
    }
   ],
   "source": [
    "First_names= [\"Alice \", \"Bob \"]\n",
    "Last_names= [\"Smith\", \"Lee\"]\n",
    "name= First_names+Last_names\n",
    "print(First_names[0] + Last_names[0])\n",
    "print(First_names[1]+ Last_names[1])"
   ]
  },
  {
   "cell_type": "markdown",
   "id": "94443f1b",
   "metadata": {},
   "source": [
    "\n",
    "#### Create a new list like this: [\"A\", \"1\", \"B\", \"2\", \"C\", \"3\"]"
   ]
  },
  {
   "cell_type": "code",
   "execution_count": 17,
   "id": "b3522a55",
   "metadata": {},
   "outputs": [
    {
     "name": "stdout",
     "output_type": "stream",
     "text": [
      "['A', '1', 'B', '2', 'C', '3']\n"
     ]
    }
   ],
   "source": [
    "\n",
    "a = [\"A\", \"B\", \"C\"]\n",
    "b = [\"1\", \"2\", \"3\"]\n",
    "List=[]\n",
    "i=0\n",
    "while i<len(a):\n",
    "    List.append(a[i])\n",
    "    List.append(b[i])\n",
    "    i+=1\n",
    "print(List)\n",
    "\n"
   ]
  },
  {
   "cell_type": "markdown",
   "id": "82b1f168",
   "metadata": {},
   "source": [
    "#### Split the list into 2 halves and swap their positions.Final result: [44, 55, 66, 11,22, 33]\n"
   ]
  },
  {
   "cell_type": "code",
   "execution_count": null,
   "id": "4cd1f0c3",
   "metadata": {},
   "outputs": [
    {
     "name": "stdout",
     "output_type": "stream",
     "text": [
      "[44, 55, 66, 11, 22, 33]\n"
     ]
    }
   ],
   "source": [
    "nums=[11,22,33,44,55,66]\n",
    "haft= len(nums)//2\n",
    "new_nums=nums[haft:]+nums[: haft]\n",
    "print(new_nums)\n",
    "\n",
    "\n"
   ]
  },
  {
   "cell_type": "markdown",
   "id": "fea28ff6",
   "metadata": {},
   "source": [
    "# practice 4\n",
    "#### Change the value 30 to 99. Is it possible? Explain your answer"
   ]
  },
  {
   "cell_type": "code",
   "execution_count": 3,
   "id": "563301d2",
   "metadata": {},
   "outputs": [
    {
     "name": "stdout",
     "output_type": "stream",
     "text": [
      "(10, 20, [99, 40])\n"
     ]
    }
   ],
   "source": [
    "t = (10, 20, [30, 40])\n",
    "t[-1][-2]=99\n",
    "print(t)"
   ]
  },
  {
   "cell_type": "markdown",
   "id": "be175185",
   "metadata": {},
   "source": [
    "#### Count how many times \"a\" appears.Find the index of the first \"b\"."
   ]
  },
  {
   "cell_type": "code",
   "execution_count": 6,
   "id": "09b93495",
   "metadata": {},
   "outputs": [
    {
     "name": "stdout",
     "output_type": "stream",
     "text": [
      "Count of 'a': 3\n",
      "Index of first 'b': 1\n"
     ]
    }
   ],
   "source": [
    "data = (\"a\", \"b\", \"c\", \"a\", \"b\", \"a\")\n",
    "\n",
    "# Count how many times \"a\" appears\n",
    "count_a = data.count(\"a\")\n",
    "\n",
    "# Find the index of the first \"b\"\n",
    "first_b_index = data.index(\"b\")\n",
    "\n",
    "print(\"Count of 'a':\", count_a)\n",
    "print(\"Index of first 'b':\", first_b_index)\n"
   ]
  },
  {
   "cell_type": "markdown",
   "id": "0345b3dc",
   "metadata": {},
   "source": [
    "#### Print all names only, using a loop."
   ]
  },
  {
   "cell_type": "code",
   "execution_count": 8,
   "id": "3abf4f82",
   "metadata": {},
   "outputs": [
    {
     "name": "stdout",
     "output_type": "stream",
     "text": [
      "Alice\n",
      "Bob\n",
      "Charlie\n"
     ]
    }
   ],
   "source": [
    "students = (\n",
    "    (\"Alice\", 18),\n",
    "    (\"Bob\", 20),\n",
    "    (\"Charlie\", 19)\n",
    ")\n",
    "\n",
    "# Loop through each student and print only the name\n",
    "for student in students:\n",
    "    print(student[0])\n"
   ]
  },
  {
   "cell_type": "markdown",
   "id": "bba04f2b",
   "metadata": {},
   "source": [
    "# Practice5\n",
    "#### Print every other number (step size = 2):"
   ]
  },
  {
   "cell_type": "code",
   "execution_count": 1,
   "id": "42a6d03e",
   "metadata": {},
   "outputs": [
    {
     "name": "stdout",
     "output_type": "stream",
     "text": [
      "1\n",
      "3\n",
      "5\n",
      "7\n"
     ]
    }
   ],
   "source": [
    "data=[1,2,3,4,5,6,7,8]\n",
    "for i in range(0, len(data), 2):\n",
    "    print(data[i])\n"
   ]
  },
  {
   "cell_type": "markdown",
   "id": "3eba6c8b",
   "metadata": {},
   "source": [
    "#### Print only the weekend days from the tuple."
   ]
  },
  {
   "cell_type": "code",
   "execution_count": 3,
   "id": "41ec7693",
   "metadata": {},
   "outputs": [
    {
     "name": "stdout",
     "output_type": "stream",
     "text": [
      "('Sat', 'Sun')\n"
     ]
    }
   ],
   "source": [
    "t = (\"Mon\", \"Tue\", \"Wed\", \"Thu\", \"Fri\", \"Sat\", \"Sun\")\n",
    "print(t[5:7])"
   ]
  },
  {
   "cell_type": "markdown",
   "id": "47919842",
   "metadata": {},
   "source": [
    "#### Remove the first and last elements from this list using slicing:\n"
   ]
  },
  {
   "cell_type": "code",
   "execution_count": 6,
   "id": "4f8fe0d1",
   "metadata": {},
   "outputs": [
    {
     "name": "stdout",
     "output_type": "stream",
     "text": [
      "['B', 'C', 'D']\n"
     ]
    }
   ],
   "source": [
    "letters = [\"A\", \"B\", \"C\", \"D\", \"E\"]\n",
    "\n",
    "print(letters[1:4])"
   ]
  },
  {
   "cell_type": "markdown",
   "id": "4af97247",
   "metadata": {},
   "source": [
    "# pratice 6"
   ]
  }
 ],
 "metadata": {
  "kernelspec": {
   "display_name": ".venv",
   "language": "python",
   "name": "python3"
  },
  "language_info": {
   "codemirror_mode": {
    "name": "ipython",
    "version": 3
   },
   "file_extension": ".py",
   "mimetype": "text/x-python",
   "name": "python",
   "nbconvert_exporter": "python",
   "pygments_lexer": "ipython3",
   "version": "3.13.4"
  }
 },
 "nbformat": 4,
 "nbformat_minor": 5
}
