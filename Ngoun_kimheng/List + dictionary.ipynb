{
 "cells": [
  {
   "cell_type": "code",
   "execution_count": 1,
   "id": "ecc62c46",
   "metadata": {},
   "outputs": [
    {
     "name": "stdout",
     "output_type": "stream",
     "text": [
      "document\n"
     ]
    }
   ],
   "source": [
    "print(\"document\")"
   ]
  },
  {
   "cell_type": "markdown",
   "id": "90845756",
   "metadata": {},
   "source": [
    "# Pratice 1"
   ]
  },
  {
   "cell_type": "markdown",
   "id": "6b4e4738",
   "metadata": {},
   "source": [
    "#### Create a list of 4 countries: [\"Cambodia\", \"China\", \"Vietnam\", \"Laos\"] Print the first country in the list."
   ]
  },
  {
   "cell_type": "code",
   "execution_count": 8,
   "id": "391a11d4",
   "metadata": {},
   "outputs": [
    {
     "data": {
      "text/plain": [
       "'Cambodia'"
      ]
     },
     "execution_count": 8,
     "metadata": {},
     "output_type": "execute_result"
    }
   ],
   "source": [
    "List=[\"Cambodia\", \"China\", \"Vietnam\", \"Laos\"]\n",
    "List[0]"
   ]
  },
  {
   "cell_type": "markdown",
   "id": "fe2e83b6",
   "metadata": {},
   "source": [
    "#### Create a list of animal: [\"dog\",\"cat\", \"rabbit\", \"hamster\"] Print the last animal using negative indexing."
   ]
  },
  {
   "cell_type": "code",
   "execution_count": 17,
   "id": "070e204e",
   "metadata": {},
   "outputs": [
    {
     "data": {
      "text/plain": [
       "'hamster'"
      ]
     },
     "execution_count": 17,
     "metadata": {},
     "output_type": "execute_result"
    }
   ],
   "source": [
    "List=[\"dog\",\"cat\",\"rabbit\",\"hamster\",]\n",
    "List[-1]"
   ]
  },
  {
   "cell_type": "markdown",
   "id": "2fe2dacc",
   "metadata": {},
   "source": [
    "# Pratice2\n",
    "#### Create a list of Fruits: [\"apple\", \"banana\", \"cherry\"]. Change \"banana\" to\"mango\" and print the list."
   ]
  },
  {
   "cell_type": "code",
   "execution_count": 18,
   "id": "85316a8b",
   "metadata": {},
   "outputs": [
    {
     "name": "stdout",
     "output_type": "stream",
     "text": [
      "['apple', 'mangoo', 'cherry']\n"
     ]
    }
   ],
   "source": [
    "List=[\"apple\",\"banana\", \"cherry\"]\n",
    "List[1]=\"mangoo\"\n",
    "print(List)"
   ]
  },
  {
   "cell_type": "markdown",
   "id": "f6ed3035",
   "metadata": {},
   "source": [
    "##### Create a list called a = [1, 2, 3]\n",
    "##### Assign b = a\n",
    "##### Then set b[0] = 100\n",
    "##### Print both a and b."
   ]
  },
  {
   "cell_type": "code",
   "execution_count": 25,
   "id": "d9f6551b",
   "metadata": {},
   "outputs": [
    {
     "name": "stdout",
     "output_type": "stream",
     "text": [
      "a: [1, 2, 3]\n",
      "b: [100, 2, 3]\n"
     ]
    }
   ],
   "source": [
    "a=[1,2,3]\n",
    "print(\"a:\", a)\n",
    "b=a\n",
    "b[0]=100\n",
    "print(\"b:\", b)"
   ]
  },
  {
   "cell_type": "markdown",
   "id": "55cabeec",
   "metadata": {},
   "source": [
    "# Pratice 3\n",
    "#### Given two lists. Write code to print: [\"Alice Smith\", \"Bob Lee\"]. Use element access and +.\n",
    "\n"
   ]
  },
  {
   "cell_type": "code",
   "execution_count": 7,
   "id": "d4595755",
   "metadata": {},
   "outputs": [
    {
     "name": "stdout",
     "output_type": "stream",
     "text": [
      "Alice Smith\n",
      "Bob Lee\n"
     ]
    }
   ],
   "source": [
    "First_names= [\"Alice \", \"Bob \"]\n",
    "Last_names= [\"Smith\", \"Lee\"]\n",
    "name= First_names+Last_names\n",
    "print(First_names[0] + Last_names[0])\n",
    "print(First_names[1]+ Last_names[1])"
   ]
  },
  {
   "cell_type": "markdown",
   "id": "94443f1b",
   "metadata": {},
   "source": [
    "\n",
    "#### Create a new list like this: [\"A\", \"1\", \"B\", \"2\", \"C\", \"3\"]"
   ]
  },
  {
   "cell_type": "code",
   "execution_count": 17,
   "id": "b3522a55",
   "metadata": {},
   "outputs": [
    {
     "name": "stdout",
     "output_type": "stream",
     "text": [
      "['A', '1', 'B', '2', 'C', '3']\n"
     ]
    }
   ],
   "source": [
    "\n",
    "a = [\"A\", \"B\", \"C\"]\n",
    "b = [\"1\", \"2\", \"3\"]\n",
    "List=[]\n",
    "i=0\n",
    "while i<len(a):\n",
    "    List.append(a[i])\n",
    "    List.append(b[i])\n",
    "    i+=1\n",
    "print(List)\n",
    "\n"
   ]
  },
  {
   "cell_type": "markdown",
   "id": "82b1f168",
   "metadata": {},
   "source": [
    "#### Split the list into 2 halves and swap their positions.Final result: [44, 55, 66, 11,22, 33]\n"
   ]
  },
  {
   "cell_type": "code",
   "execution_count": null,
   "id": "4cd1f0c3",
   "metadata": {},
   "outputs": [
    {
     "name": "stdout",
     "output_type": "stream",
     "text": [
      "[44, 55, 66, 11, 22, 33]\n"
     ]
    }
   ],
   "source": [
    "nums=[11,22,33,44,55,66]\n",
    "haft= len(nums)//2\n",
    "new_nums=nums[haft:]+nums[: haft]\n",
    "print(new_nums)\n",
    "\n",
    "\n"
   ]
  },
  {
   "cell_type": "markdown",
   "id": "fea28ff6",
   "metadata": {},
   "source": [
    "# practice 4\n",
    "#### Change the value 30 to 99. Is it possible? Explain your answer"
   ]
  },
  {
   "cell_type": "code",
   "execution_count": 3,
   "id": "563301d2",
   "metadata": {},
   "outputs": [
    {
     "name": "stdout",
     "output_type": "stream",
     "text": [
      "(10, 20, [99, 40])\n"
     ]
    }
   ],
   "source": [
    "t = (10, 20, [30, 40])\n",
    "t[-1][-2]=99\n",
    "print(t)"
   ]
  },
  {
   "cell_type": "markdown",
   "id": "be175185",
   "metadata": {},
   "source": [
    "#### Count how many times \"a\" appears.Find the index of the first \"b\"."
   ]
  },
  {
   "cell_type": "code",
   "execution_count": 6,
   "id": "09b93495",
   "metadata": {},
   "outputs": [
    {
     "name": "stdout",
     "output_type": "stream",
     "text": [
      "Count of 'a': 3\n",
      "Index of first 'b': 1\n"
     ]
    }
   ],
   "source": [
    "data = (\"a\", \"b\", \"c\", \"a\", \"b\", \"a\")\n",
    "\n",
    "# Count how many times \"a\" appears\n",
    "count_a = data.count(\"a\")\n",
    "\n",
    "# Find the index of the first \"b\"\n",
    "first_b_index = data.index(\"b\")\n",
    "\n",
    "print(\"Count of 'a':\", count_a)\n",
    "print(\"Index of first 'b':\", first_b_index)\n"
   ]
  },
  {
   "cell_type": "markdown",
   "id": "0345b3dc",
   "metadata": {},
   "source": [
    "#### Print all names only, using a loop."
   ]
  },
  {
   "cell_type": "code",
   "execution_count": 8,
   "id": "3abf4f82",
   "metadata": {},
   "outputs": [
    {
     "name": "stdout",
     "output_type": "stream",
     "text": [
      "Alice\n",
      "Bob\n",
      "Charlie\n"
     ]
    }
   ],
   "source": [
    "students = (\n",
    "    (\"Alice\", 18),\n",
    "    (\"Bob\", 20),\n",
    "    (\"Charlie\", 19)\n",
    ")\n",
    "\n",
    "# Loop through each student and print only the name\n",
    "for student in students:\n",
    "    print(student[0])\n"
   ]
  },
  {
   "cell_type": "markdown",
   "id": "bba04f2b",
   "metadata": {},
   "source": [
    "# Practice5\n",
    "#### Print every other number (step size = 2):"
   ]
  },
  {
   "cell_type": "code",
   "execution_count": 1,
   "id": "42a6d03e",
   "metadata": {},
   "outputs": [
    {
     "name": "stdout",
     "output_type": "stream",
     "text": [
      "1\n",
      "3\n",
      "5\n",
      "7\n"
     ]
    }
   ],
   "source": [
    "data=[1,2,3,4,5,6,7,8]\n",
    "for i in range(0, len(data), 2):\n",
    "    print(data[i])\n"
   ]
  },
  {
   "cell_type": "markdown",
   "id": "3eba6c8b",
   "metadata": {},
   "source": [
    "#### Print only the weekend days from the tuple."
   ]
  },
  {
   "cell_type": "code",
   "execution_count": 3,
   "id": "41ec7693",
   "metadata": {},
   "outputs": [
    {
     "name": "stdout",
     "output_type": "stream",
     "text": [
      "('Sat', 'Sun')\n"
     ]
    }
   ],
   "source": [
    "t = (\"Mon\", \"Tue\", \"Wed\", \"Thu\", \"Fri\", \"Sat\", \"Sun\")\n",
    "print(t[5:7])"
   ]
  },
  {
   "cell_type": "markdown",
   "id": "47919842",
   "metadata": {},
   "source": [
    "#### Remove the first and last elements from this list using slicing:\n"
   ]
  },
  {
   "cell_type": "code",
   "execution_count": 6,
   "id": "4f8fe0d1",
   "metadata": {},
   "outputs": [
    {
     "name": "stdout",
     "output_type": "stream",
     "text": [
      "['B', 'C', 'D']\n"
     ]
    }
   ],
   "source": [
    "letters = [\"A\", \"B\", \"C\", \"D\", \"E\"]\n",
    "\n",
    "print(letters[1:4])"
   ]
  },
  {
   "cell_type": "markdown",
   "id": "4af97247",
   "metadata": {},
   "source": [
    "# pratice 6"
   ]
  },
  {
   "cell_type": "code",
   "execution_count": 19,
   "id": "96bf009e",
   "metadata": {},
   "outputs": [
    {
     "name": "stdout",
     "output_type": "stream",
     "text": [
      "\n",
      "===== Student Grade Manager =====\n",
      "1. Add Student\n",
      "2. Update Score\n",
      "3. View Student Record\n",
      "4. Remove Student\n",
      "5. Show Grade Summary\n",
      "6. Show Last 3 Students Added\n",
      "7. Exit\n",
      "Student 'Heng' added.\n",
      "\n",
      "===== Student Grade Manager =====\n",
      "1. Add Student\n",
      "2. Update Score\n",
      "3. View Student Record\n",
      "4. Remove Student\n",
      "5. Show Grade Summary\n",
      "6. Show Last 3 Students Added\n",
      "7. Exit\n",
      "Student 'Heang' added.\n",
      "\n",
      "===== Student Grade Manager =====\n",
      "1. Add Student\n",
      "2. Update Score\n",
      "3. View Student Record\n",
      "4. Remove Student\n",
      "5. Show Grade Summary\n",
      "6. Show Last 3 Students Added\n",
      "7. Exit\n",
      "Invalid choice. Please try again.\n",
      "\n",
      "===== Student Grade Manager =====\n",
      "1. Add Student\n",
      "2. Update Score\n",
      "3. View Student Record\n",
      "4. Remove Student\n",
      "5. Show Grade Summary\n",
      "6. Show Last 3 Students Added\n",
      "7. Exit\n",
      "Invalid choice. Please try again.\n",
      "\n",
      "===== Student Grade Manager =====\n",
      "1. Add Student\n",
      "2. Update Score\n",
      "3. View Student Record\n",
      "4. Remove Student\n",
      "5. Show Grade Summary\n",
      "6. Show Last 3 Students Added\n",
      "7. Exit\n",
      "Invalid choice. Please try again.\n",
      "\n",
      "===== Student Grade Manager =====\n",
      "1. Add Student\n",
      "2. Update Score\n",
      "3. View Student Record\n",
      "4. Remove Student\n",
      "5. Show Grade Summary\n",
      "6. Show Last 3 Students Added\n",
      "7. Exit\n",
      "Invalid choice. Please try again.\n",
      "\n",
      "===== Student Grade Manager =====\n",
      "1. Add Student\n",
      "2. Update Score\n",
      "3. View Student Record\n",
      "4. Remove Student\n",
      "5. Show Grade Summary\n",
      "6. Show Last 3 Students Added\n",
      "7. Exit\n",
      "Invalid choice. Please try again.\n",
      "\n",
      "===== Student Grade Manager =====\n",
      "1. Add Student\n",
      "2. Update Score\n",
      "3. View Student Record\n",
      "4. Remove Student\n",
      "5. Show Grade Summary\n",
      "6. Show Last 3 Students Added\n",
      "7. Exit\n",
      "Invalid choice. Please try again.\n",
      "\n",
      "===== Student Grade Manager =====\n",
      "1. Add Student\n",
      "2. Update Score\n",
      "3. View Student Record\n",
      "4. Remove Student\n",
      "5. Show Grade Summary\n",
      "6. Show Last 3 Students Added\n",
      "7. Exit\n",
      "Invalid choice. Please try again.\n",
      "\n",
      "===== Student Grade Manager =====\n",
      "1. Add Student\n",
      "2. Update Score\n",
      "3. View Student Record\n",
      "4. Remove Student\n",
      "5. Show Grade Summary\n",
      "6. Show Last 3 Students Added\n",
      "7. Exit\n",
      "Invalid choice. Please try again.\n",
      "\n",
      "===== Student Grade Manager =====\n",
      "1. Add Student\n",
      "2. Update Score\n",
      "3. View Student Record\n",
      "4. Remove Student\n",
      "5. Show Grade Summary\n",
      "6. Show Last 3 Students Added\n",
      "7. Exit\n",
      "Exiting program. Goodbye!\n"
     ]
    }
   ],
   "source": [
    "# === Student Data ===\n",
    "students = [\n",
    "    (\"Alice\", [85, 90, 88]),\n",
    "    (\"Bob\", [70, 75, 80]),\n",
    "    (\"Charlie\", [95, 100, 98])\n",
    "]\n",
    "\n",
    "# === Function to Calculate Average ===\n",
    "def get_average(scores):\n",
    "    return sum(scores) / len(scores)\n",
    "\n",
    "# === Function to Add a New Student (No Duplicates) ===\n",
    "def add_student(name, scores):\n",
    "    for student in students:\n",
    "        if student[0] == name:\n",
    "            print(f\"Student '{name}' already exists.\")\n",
    "            return\n",
    "    students.append((name, scores))\n",
    "    print(f\"Student '{name}' added.\")\n",
    "\n",
    "# === Function to Get All Averages ===\n",
    "def get_all_averages(students):\n",
    "    return [(name, get_average(scores)) for name, scores in students]\n",
    "\n",
    "# === Function to Update a Specific Score ===\n",
    "def update_score(name, index, new_score):\n",
    "    for i, (student_name, scores) in enumerate(students):\n",
    "        if student_name == name:\n",
    "            if 0 <= index < len(scores):\n",
    "                scores[index] = new_score\n",
    "                students[i] = (student_name, scores)\n",
    "                print(f\"Score updated for '{name}'.\")\n",
    "                return\n",
    "            else:\n",
    "                print(\"Invalid score index.\")\n",
    "                return\n",
    "    print(\"Student not found.\")\n",
    "\n",
    "# === Function to Print a Student's Record ===\n",
    "def print_student_record(name):\n",
    "    for student_name, scores in students:\n",
    "        if student_name == name:\n",
    "            print(f\"{name}'s scores: {scores}\")\n",
    "            return\n",
    "    print(f\"No record found for '{name}'.\")\n",
    "\n",
    "# === Function to Remove a Student ===\n",
    "def remove_student(name):\n",
    "    global students\n",
    "    for i, (student_name, _) in enumerate(students):\n",
    "        if student_name == name:\n",
    "            del students[i]\n",
    "            print(f\"Student '{name}' removed.\")\n",
    "            return\n",
    "    print(f\"No student named '{name}' found.\")\n",
    "\n",
    "# === Function to Print Grade Summary ===\n",
    "def print_summary():\n",
    "    print(\"\\nGrade Summary Report\")\n",
    "    print(\"-\" * 30)\n",
    "    averages = get_all_averages(students)\n",
    "    sorted_averages = sorted(averages, key=lambda x: x[1], reverse=True)\n",
    "    for name, avg in sorted_averages:\n",
    "        print(f\"{name:<10} | Average: {avg:.2f}\")\n",
    "    print(\"-\" * 30)\n",
    "\n",
    "# === Function to Show Last 3 Students Added (Slicing) ===\n",
    "def show_last_students():\n",
    "    print(\"\\nLast 3 Students Added:\")\n",
    "    for name, scores in students[-3:]:\n",
    "        print(f\"{name}: {scores}\")\n",
    "\n",
    "# === Program Menu (User Interaction) ===\n",
    "def menu():\n",
    "    while True:\n",
    "        print(\"\\n===== Student Grade Manager =====\")\n",
    "        print(\"1. Add Student\")\n",
    "        print(\"2. Update Score\")\n",
    "        print(\"3. View Student Record\")\n",
    "        print(\"4. Remove Student\")\n",
    "        print(\"5. Show Grade Summary\")\n",
    "        print(\"6. Show Last 3 Students Added\")\n",
    "        print(\"7. Exit\")\n",
    "        choice = input(\"Enter your choice (1–7): \")\n",
    "\n",
    "        if choice == \"1\":\n",
    "            name = input(\"Enter student name: \")\n",
    "            scores = input(\"Enter 3 scores separated by space: \")\n",
    "            try:\n",
    "                scores_list = list(map(int, scores.split()))\n",
    "                if len(scores_list) != 3:\n",
    "                    print(\"Please enter exactly 3 scores.\")\n",
    "                    continue\n",
    "                add_student(name, scores_list)\n",
    "            except:\n",
    "                print(\"Invalid input. Use numbers only.\")\n",
    "        elif choice == \"2\":\n",
    "            name = input(\"Enter student name: \")\n",
    "            try:\n",
    "                index = int(input(\"Enter score index (0, 1, 2): \"))\n",
    "                new_score = int(input(\"Enter new score: \"))\n",
    "                update_score(name, index, new_score)\n",
    "            except:\n",
    "                print(\"Invalid input.\")\n",
    "        elif choice == \"3\":\n",
    "            name = input(\"Enter student name: \")\n",
    "            print_student_record(name)\n",
    "        elif choice == \"4\":\n",
    "            name = input(\"Enter student name to remove: \")\n",
    "            remove_student(name)\n",
    "        elif choice == \"5\":\n",
    "            print_summary()\n",
    "        elif choice == \"6\":\n",
    "            show_last_students()\n",
    "        elif choice == \"7\":\n",
    "            print(\"Exiting program. Goodbye!\")\n",
    "            break\n",
    "        else:\n",
    "            print(\"Invalid choice. Please try again.\")\n",
    "\n",
    "# === Start the Program ===\n",
    "menu()\n"
   ]
  },
  {
   "cell_type": "markdown",
   "id": "72d45c6f",
   "metadata": {},
   "source": [
    "# Dictionary Assignment\n",
    "#### 1.You are given the following dictionary representing students and their scores on a test:\n",
    "#### Write a Python program to:\n",
    "#### •Find and print the name(s) of the student(s) with the highest score.\n",
    "#### •Calculate and print the average score of the class.\n",
    "#### •Create a new dictionary that only includes students who scored at least 80."
   ]
  },
  {
   "cell_type": "code",
   "execution_count": 20,
   "id": "438e1705",
   "metadata": {},
   "outputs": [
    {
     "name": "stdout",
     "output_type": "stream",
     "text": [
      "Highest score is 92 by Bob\n",
      "86.6\n",
      "{'Alice': 85, 'Bob': 92, 'David': 90, 'Eve': 88}\n"
     ]
    }
   ],
   "source": [
    "scores = {\n",
    "'Alice': 85,\n",
    "'Bob': 92,\n",
    "'Charlie': 78,\n",
    "'David': 90,\n",
    "'Eve': 88\n",
    "}\n",
    "highest = max(scores, key=scores.get)\n",
    "print(\"Highest score is\", scores[highest], \"by\", highest)\n",
    "Average=((scores['Alice']+scores['Bob']+scores['Charlie']+scores['David']+scores['Eve'])/5)\n",
    "print(Average)\n",
    "new_list={name: score for name, score in scores.items()\n",
    "           if score >= 80\n",
    "}\n",
    "print(new_list)\n"
   ]
  },
  {
   "cell_type": "markdown",
   "id": "ba9bf369",
   "metadata": {},
   "source": [
    "#### Write a program to:\n",
    "#### •Find the top 3 students with the highest scores and print their names and scores."
   ]
  },
  {
   "cell_type": "code",
   "execution_count": 21,
   "id": "c9651b4d",
   "metadata": {},
   "outputs": [
    {
     "name": "stdout",
     "output_type": "stream",
     "text": [
      "Top 3 students:\n",
      "Frank: 95\n",
      "Bob: 92\n",
      "David: 90\n"
     ]
    }
   ],
   "source": [
    "scores = {\n",
    "    'Alice': 85, 'Bob': 92, 'Charlie': 78,\n",
    "    'David': 90, 'Eve': 88, 'Frank': 95, 'Grace': 80\n",
    "}\n",
    "\n",
    "# Step 1: Sort the dictionary by score (highest first)\n",
    "sorted_scores = sorted(scores.items(), key=lambda x: x[1], reverse=True)\n",
    "\n",
    "# Step 2: Get the top 3 students\n",
    "top_3 = sorted_scores[:3]\n",
    "\n",
    "# Step 3: Print their names and scores\n",
    "print(\"Top 3 students:\")\n",
    "for name, score in top_3:\n",
    "    print(f\"{name}: {score}\")"
   ]
  },
  {
   "cell_type": "code",
   "execution_count": 22,
   "id": "36589132",
   "metadata": {},
   "outputs": [
    {
     "name": "stdout",
     "output_type": "stream",
     "text": [
      "Monthly Profits:\n",
      "January: Profit = 600\n",
      "February: Profit = 700\n",
      "March: Profit = 450\n",
      "\n",
      "Total Sales for the Quarter: 3100\n",
      "Total Expenses for the Quarter: 1350\n"
     ]
    }
   ],
   "source": [
    "data = {\n",
    "    'January': {'sales': 1000, 'expenses': 400},\n",
    "    'February': {'sales': 1200, 'expenses': 500},\n",
    "    'March': {'sales': 900, 'expenses': 450}\n",
    "}\n",
    "\n",
    "total_sales = 0\n",
    "total_expenses = 0\n",
    "\n",
    "print(\"Monthly Profits:\")\n",
    "\n",
    "for month, info in data.items():\n",
    "    sales = info['sales']\n",
    "    expenses = info['expenses']\n",
    "    profit = sales - expenses\n",
    "\n",
    "    # Add to totals\n",
    "    total_sales += sales\n",
    "    total_expenses += expenses\n",
    "\n",
    "    # Print profit for the month\n",
    "    print(f\"{month}: Profit = {profit}\")\n",
    "\n",
    "# Print total sales and expenses\n",
    "print(\"\\nTotal Sales for the Quarter:\", total_sales)\n",
    "print(\"Total Expenses for the Quarter:\", total_expenses)\n"
   ]
  }
 ],
 "metadata": {
  "kernelspec": {
   "display_name": ".venv",
   "language": "python",
   "name": "python3"
  },
  "language_info": {
   "codemirror_mode": {
    "name": "ipython",
    "version": 3
   },
   "file_extension": ".py",
   "mimetype": "text/x-python",
   "name": "python",
   "nbconvert_exporter": "python",
   "pygments_lexer": "ipython3",
   "version": "3.13.4"
  }
 },
 "nbformat": 4,
 "nbformat_minor": 5
}
