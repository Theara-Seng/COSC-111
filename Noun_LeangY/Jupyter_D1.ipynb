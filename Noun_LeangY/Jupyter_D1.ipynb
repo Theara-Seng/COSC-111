{
 "cells": [
  {
   "cell_type": "markdown",
   "id": "a3f5b86d",
   "metadata": {},
   "source": [
    "# Practice 1\n"
   ]
  },
  {
   "cell_type": "markdown",
   "id": "105456ca",
   "metadata": {},
   "source": [
    "#### Createalist of 4 countries: [\"Cambodia\", \"China\", \"Vietnam\", \"Laos\"] Prin the first country in the list.  "
   ]
  },
  {
   "cell_type": "code",
   "execution_count": 7,
   "id": "65acfc02",
   "metadata": {},
   "outputs": [
    {
     "name": "stdout",
     "output_type": "stream",
     "text": [
      "The first country is  Cambodia\n"
     ]
    }
   ],
   "source": [
    "c=[\"Cambodia\",\"China\",\"Vietnam\",\"Laos\"]\n",
    "print(\"The first country is \",c[0])"
   ]
  },
  {
   "cell_type": "markdown",
   "id": "180f3e9d",
   "metadata": {},
   "source": [
    "####  Createalist of animals: [\"dog\", \"cat\", \"rabbit\", \"hamster\"] Print the last animal using negative indexing"
   ]
  },
  {
   "cell_type": "code",
   "execution_count": 9,
   "id": "d31f0c1c",
   "metadata": {},
   "outputs": [
    {
     "name": "stdout",
     "output_type": "stream",
     "text": [
      "The last animal in the list is  hamster\n"
     ]
    }
   ],
   "source": [
    "list=[\"dog\", \"cat\", \"rabbit\", \" hamster\"]\n",
    "print(\"The last animal in the list is\",list[-1])"
   ]
  },
  {
   "cell_type": "markdown",
   "id": "91074fdc",
   "metadata": {},
   "source": [
    "# Practice 2"
   ]
  },
  {
   "cell_type": "markdown",
   "id": "08e8df91",
   "metadata": {},
   "source": [
    "####  Createalist of Fruits: [\"apple\", \"banana\", \"cherry\"]. Change \"banana\" to\"mango\" and print the list."
   ]
  },
  {
   "cell_type": "code",
   "execution_count": 12,
   "id": "493cc619",
   "metadata": {},
   "outputs": [
    {
     "name": "stdout",
     "output_type": "stream",
     "text": [
      "['apple', 'mango', 'cherry']\n"
     ]
    }
   ],
   "source": [
    "list=[\"apple\", \"banana\", \"cherry\"]\n",
    "list[1]=\"mango\"\n",
    "print(list)"
   ]
  },
  {
   "cell_type": "markdown",
   "id": "276a7e36",
   "metadata": {},
   "source": [
    "#### Createalist called a = [1, 2, 3] Assign b = a Then set b[0] = 100 Print both a and b"
   ]
  },
  {
   "cell_type": "code",
   "execution_count": 17,
   "id": "20412e2d",
   "metadata": {},
   "outputs": [
    {
     "name": "stdout",
     "output_type": "stream",
     "text": [
      "a= [100, 2, 3] b= [100, 2, 3]\n"
     ]
    }
   ],
   "source": [
    "a=[1,2,3]\n",
    "b=a\n",
    "b[0]=100\n",
    "print(\"a=\",a,\"b=\", b)"
   ]
  },
  {
   "cell_type": "code",
   "execution_count": 1,
   "id": "e0f10985",
   "metadata": {},
   "outputs": [
    {
     "name": "stdout",
     "output_type": "stream",
     "text": [
      "[1, 2, 3, 4, 5]\n"
     ]
    }
   ],
   "source": [
    "my_list=[]\n",
    "for number in range(1,6):\n",
    "    my_list += [number]\n",
    "print(my_list)"
   ]
  },
  {
   "cell_type": "markdown",
   "id": "2538d95b",
   "metadata": {},
   "source": [
    "# Practice 3"
   ]
  },
  {
   "cell_type": "markdown",
   "id": "8c650011",
   "metadata": {},
   "source": [
    "#### Given two lists. Write code  toprint: [\"AliceSmith\",\"BobLee\"].Use element accessand +"
   ]
  },
  {
   "cell_type": "code",
   "execution_count": 4,
   "id": "4f8e4070",
   "metadata": {},
   "outputs": [
    {
     "name": "stdout",
     "output_type": "stream",
     "text": [
      "Alice Smith\n",
      "Bob   Lee\n"
     ]
    }
   ],
   "source": [
    "First_name=[\"Alice\",\"Bob\"]\n",
    "Last_name=[\"Smith\",\"Lee\"]\n",
    "print(First_name[0]+\" \"+ Last_name[0])\n",
    "print(First_name[1],\" \",Last_name[1])"
   ]
  },
  {
   "cell_type": "markdown",
   "id": "3044840e",
   "metadata": {},
   "source": [
    "#### Create a new list like this: [\"A\",\"1\",\"B\",\"2\",\"C\",\"3\"]"
   ]
  },
  {
   "cell_type": "code",
   "execution_count": 10,
   "id": "6f7b9fd0",
   "metadata": {},
   "outputs": [
    {
     "name": "stdout",
     "output_type": "stream",
     "text": [
      "('a', '1', 'b', '2', 'c', '3')\n"
     ]
    }
   ],
   "source": [
    "l1=[\"a\",\"b\",\"c\"]\n",
    "l2=[\"1\",\"2\",\"3\"]\n",
    "list = l1[0], l2[0],l1[1], l2[1], l1[2],l2[2]\n",
    "print(list)"
   ]
  },
  {
   "cell_type": "markdown",
   "id": "b4f5cbf7",
   "metadata": {},
   "source": [
    "#### Split the list into 2 halves and swap their positions.Final result: [44,55,66,11,22,33]"
   ]
  },
  {
   "cell_type": "code",
   "execution_count": 1,
   "id": "830d5677",
   "metadata": {},
   "outputs": [
    {
     "name": "stdout",
     "output_type": "stream",
     "text": [
      "[44, 55, 66, 11, 22, 33]\n"
     ]
    }
   ],
   "source": [
    "num= [11,22,33,44,55,66]\n",
    "num_1=[44,55,66]\n",
    "num_2=[11,22,33]\n",
    "num=num_1+ num_2\n",
    "print(num)"
   ]
  },
  {
   "cell_type": "markdown",
   "id": "79b2b135",
   "metadata": {},
   "source": [
    "# Practice 4\n"
   ]
  },
  {
   "cell_type": "markdown",
   "id": "88972996",
   "metadata": {},
   "source": [
    "#### Change the value 30 to  99, is it possible ?"
   ]
  },
  {
   "cell_type": "code",
   "execution_count": 4,
   "id": "3809fd0f",
   "metadata": {},
   "outputs": [
    {
     "name": "stdout",
     "output_type": "stream",
     "text": [
      "(10, 20, [99, 40])\n"
     ]
    }
   ],
   "source": [
    "t= (10,20,[30,40])\n",
    "t[2][0]=99\n",
    "print(t)"
   ]
  },
  {
   "cell_type": "markdown",
   "id": "408e7d48",
   "metadata": {},
   "source": [
    "#### count how many times\"a\" appears. Find the index of the first \"b\""
   ]
  },
  {
   "cell_type": "code",
   "execution_count": 31,
   "id": "c207dd4a",
   "metadata": {},
   "outputs": [
    {
     "name": "stdout",
     "output_type": "stream",
     "text": [
      "a appears 3 times\n",
      "The first b is at index 1\n"
     ]
    }
   ],
   "source": [
    "data=(\"a\",\"b\",\"c\",\"a\",\"b\",\"a\")\n",
    "print(\"a appears 3 times\")\n",
    "print(\"The first b is at index 1\")"
   ]
  },
  {
   "cell_type": "markdown",
   "id": "3031e4bc",
   "metadata": {},
   "source": [
    "#### print names only, using loop"
   ]
  },
  {
   "cell_type": "code",
   "execution_count": 10,
   "id": "7146d6b1",
   "metadata": {},
   "outputs": [
    {
     "name": "stdout",
     "output_type": "stream",
     "text": [
      "Alice\n",
      "Bob\n",
      "charlie\n"
     ]
    }
   ],
   "source": [
    "students=((\"Alice\",18),(\"Bob\",20),(\"charlie\",19))\n",
    "for student in students:\n",
    "    print(student[0])\n"
   ]
  },
  {
   "cell_type": "markdown",
   "id": "3c4ac4ed",
   "metadata": {},
   "source": [
    "# Practice 5"
   ]
  },
  {
   "cell_type": "markdown",
   "id": "73a0715c",
   "metadata": {},
   "source": [
    "#### Print every other number (step size 2)"
   ]
  },
  {
   "cell_type": "code",
   "execution_count": null,
   "id": "e050282c",
   "metadata": {},
   "outputs": [
    {
     "name": "stdout",
     "output_type": "stream",
     "text": [
      "[1, 3, 5, 7]\n"
     ]
    }
   ],
   "source": [
    "data= [1,2,3,4,5,6,7,8]\n",
    "print(data[::2])"
   ]
  },
  {
   "cell_type": "markdown",
   "id": "430e1db0",
   "metadata": {},
   "source": [
    "#### print only the weekend days from the tuple"
   ]
  },
  {
   "cell_type": "code",
   "execution_count": 21,
   "id": "4f8b419a",
   "metadata": {},
   "outputs": [
    {
     "name": "stdout",
     "output_type": "stream",
     "text": [
      "Sat Sun\n"
     ]
    }
   ],
   "source": [
    "t=(\"Mon\",\"Tue\",\"Wed\",\"Thu\",\"Fri\",\"Sat\",\"Sun\")\n",
    "print(t[5],t[6])"
   ]
  },
  {
   "cell_type": "markdown",
   "id": "13a5b3b9",
   "metadata": {},
   "source": [
    "#### remove the first and last elements from the list using slicing"
   ]
  },
  {
   "cell_type": "code",
   "execution_count": 2,
   "id": "468eb928",
   "metadata": {},
   "outputs": [
    {
     "name": "stdout",
     "output_type": "stream",
     "text": [
      "['B', 'C', 'D']\n"
     ]
    }
   ],
   "source": [
    "Letters=[\"A\",\"B\",\"C\",\"D\",\"E\"]\n",
    "print(Letters[1:4])"
   ]
  },
  {
   "cell_type": "code",
   "execution_count": 33,
   "id": "45c3c87b",
   "metadata": {},
   "outputs": [
    {
     "name": "stdout",
     "output_type": "stream",
     "text": [
      "[12, 10, 7, 6, 5, 4, 3, 2, 1]\n",
      "6\n",
      "['Orange', 'Red', 'Yellow', 'Green']\n"
     ]
    }
   ],
   "source": [
    "numbers=[5,3,2,6,10,4,7,1,12]\n",
    "numbers.sort(reverse=True)\n",
    "print(numbers)\n",
    "numbers =[3,7,1,4,2,8,5,6]\n",
    "print(numbers.index(5))\n",
    "color_names=[\"Orange\",\"Yellow\",\"Green\"]\n",
    "color_names.insert(1,\"Red\")\n",
    "print(color_names)"
   ]
  },
  {
   "cell_type": "markdown",
   "id": "4ba3ad39",
   "metadata": {},
   "source": [
    "# Practice 6: Mini Gradebook Manager"
   ]
  },
  {
   "cell_type": "code",
   "execution_count": null,
   "id": "2817776f",
   "metadata": {},
   "outputs": [
    {
     "name": "stdout",
     "output_type": "stream",
     "text": [
      "Added Kylie successfully\n",
      "alice is already in the list!\n",
      "[('Alice', [85, 90, 88]), ('Bob', [70, 75, 80]), ('Charlie', [95, 100, 98]), ('Kylie', [45, 65, 75])]\n"
     ]
    }
   ],
   "source": [
    "students= [ \n",
    "    (\"Alice\",[85,90,88]),\n",
    "    (\"Bob\",[70,75,80]),\n",
    "    (\"Charlie\",[95,100,98])\n",
    "    ]\n",
    "def get_average(scores):\n",
    "    return sum(scores)/len(scores)\n",
    "def add_student(name, scores):\n",
    "    for student in students:\n",
    "        if student[0].lower() == name.lower():\n",
    "            print(name, \"is already in the list!\")\n",
    "            return\n",
    "    students.append((name, scores))\n",
    "    print(\"Added\", name,\"successfully\")\n",
    "add_student(\"Kylie\",[45,65,75])\n",
    "add_student(\"alice\",[80,45,90])\n",
    "print(students)\n",
    "def get_all_average\n"
   ]
  }
 ],
 "metadata": {
  "kernelspec": {
   "display_name": "Python 3",
   "language": "python",
   "name": "python3"
  },
  "language_info": {
   "codemirror_mode": {
    "name": "ipython",
    "version": 3
   },
   "file_extension": ".py",
   "mimetype": "text/x-python",
   "name": "python",
   "nbconvert_exporter": "python",
   "pygments_lexer": "ipython3",
   "version": "3.11.9"
  }
 },
 "nbformat": 4,
 "nbformat_minor": 5
}
