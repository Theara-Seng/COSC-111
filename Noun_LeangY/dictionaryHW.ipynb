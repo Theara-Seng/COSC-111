{
 "cells": [
  {
   "cell_type": "markdown",
   "id": "6c04b803",
   "metadata": {},
   "source": [
    "# 1. \n",
    "#### Find and print the name(s) of the student(s) with the highest score. • Calculate and print the average score of the class. • Create a new dictionary that only includes students who scored at least 80."
   ]
  },
  {
   "cell_type": "code",
   "execution_count": null,
   "id": "9d159dae",
   "metadata": {},
   "outputs": [
    {
     "name": "stdout",
     "output_type": "stream",
     "text": [
      "Bob has the highest score 92\n",
      "The average score of the class is: 86.6\n"
     ]
    }
   ],
   "source": [
    "scores = { \n",
    "'Alice': 85, \n",
    "'Bob': 92, \n",
    "'Charlie': 78, \n",
    "'David': 90, \n",
    "'Eve': 88 \n",
    "}\n",
    "max_score= max(scores.values())\n",
    "print(f\"Bob has the highest score {max_score}\")\n",
    "average_score = sum(scores.values())/len(scores)\n",
    "print(\"The average score of the class is:\",average_score)\n",
    "at_least80_score = {\n",
    "'Alice' : 85,\n",
    "'Bob': 92,\n",
    "'David':90,\n",
    "'Eve': 88\n",
    "}"
   ]
  },
  {
   "cell_type": "markdown",
   "id": "d41920b2",
   "metadata": {},
   "source": [
    "# 2. \n",
    "#### Find the top 3 students with the highest scores and print their names and scores. "
   ]
  },
  {
   "cell_type": "code",
   "execution_count": 7,
   "id": "f3d0f3f3",
   "metadata": {},
   "outputs": [
    {
     "name": "stdout",
     "output_type": "stream",
     "text": [
      "Top 3 students with highest scores:\n",
      "Frank: 95\n",
      "Bob: 92\n",
      "David: 90\n"
     ]
    }
   ],
   "source": [
    "scores = { \n",
    "'Alice': 85, 'Bob': 92, 'Charlie': 78,  \n",
    "'David': 90, 'Eve': 88, 'Frank': 95, 'Grace': 80 \n",
    "}   \n",
    "top_three = sorted(scores.items(), key=lambda x: x[1], reverse=True)[:3]\n",
    "print(\"Top 3 students with highest scores:\")\n",
    "for name, score in top_three:\n",
    "    print(f\"{name}: {score}\")"
   ]
  },
  {
   "cell_type": "markdown",
   "id": "479def52",
   "metadata": {},
   "source": [
    "# 3. \n",
    "#### Compute and print the total sales and total expenses for the quarter. • Also calculate the profit (sales - expenses) for each month."
   ]
  },
  {
   "cell_type": "code",
   "execution_count": 12,
   "id": "557b76af",
   "metadata": {},
   "outputs": [
    {
     "name": "stdout",
     "output_type": "stream",
     "text": [
      "Quarterly Report:\n",
      "Total Sales: 3100\n",
      "Total Expenses: 1350\n",
      "\n",
      "Monthly Profits:\n",
      "January: 600\n",
      "February: 700\n",
      "March: 450\n"
     ]
    }
   ],
   "source": [
    "data = { \n",
    "'January': {'sales': 1000, 'expenses': 400}, \n",
    "'February': {'sales': 1200, 'expenses': 500}, \n",
    "'March': {'sales': 900, 'expenses': 450} \n",
    "}\n",
    "total_sales = 0\n",
    "total_expenses = 0\n",
    "for month, values in data.items():\n",
    "    total_sales += values['sales']\n",
    "    total_expenses += values['expenses']\n",
    "print(\"Quarterly Report:\")\n",
    "print(f\"Total Sales: {total_sales}\")\n",
    "print(f\"Total Expenses: {total_expenses}\")\n",
    "\n",
    "    \n",
    "\n",
    "print(\"\\nMonthly Profits:\")\n",
    "for month, values in data.items():\n",
    "    profit = values['sales'] - values['expenses'] \n",
    "    print(f\"{month}: {profit}\")\n"
   ]
  },
  {
   "cell_type": "markdown",
   "id": "82f93187",
   "metadata": {},
   "source": [
    "# 4. \n",
    "#### Write a program to create a dictionary where the keys are name lengths and the values are lists of names of that length: "
   ]
  },
  {
   "cell_type": "code",
   "execution_count": 19,
   "id": "d994b2bf",
   "metadata": {},
   "outputs": [
    {
     "name": "stdout",
     "output_type": "stream",
     "text": [
      "{\n",
      "    4: ['Anna', 'Dann'],\n",
      "    5: ['Cathy', 'Frank'],\n",
      "    7: ['Eleanor'],\n",
      "    8: ['Benjamin'],\n",
      "}\n"
     ]
    }
   ],
   "source": [
    "names = [\"Anna\", \"Benjamin\", \"Cathy\", \"Dann\", \"Eleanor\", \"Frank\"]\n",
    "length_dict ={}\n",
    "for name in names:\n",
    "    length=len(name)\n",
    "    length_dict.setdefault(length,[]).append(name)\n",
    "print(\"{\")\n",
    "for length in sorted(length_dict.keys()):\n",
    "    print(f\"    {length}: {length_dict[length]},\")\n",
    "print(\"}\")\n",
    "   \n",
    "\n",
    "    "
   ]
  }
 ],
 "metadata": {
  "kernelspec": {
   "display_name": "Python 3",
   "language": "python",
   "name": "python3"
  },
  "language_info": {
   "codemirror_mode": {
    "name": "ipython",
    "version": 3
   },
   "file_extension": ".py",
   "mimetype": "text/x-python",
   "name": "python",
   "nbconvert_exporter": "python",
   "pygments_lexer": "ipython3",
   "version": "3.11.9"
  }
 },
 "nbformat": 4,
 "nbformat_minor": 5
}
