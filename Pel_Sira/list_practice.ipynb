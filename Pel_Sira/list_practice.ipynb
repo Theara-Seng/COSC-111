{
 "cells": [
  {
   "cell_type": "markdown",
   "id": "1d27f54f",
   "metadata": {},
   "source": [
    "## Practice1"
   ]
  },
  {
   "cell_type": "markdown",
   "id": "34b5604d",
   "metadata": {},
   "source": [
    "##### Createalist of 4 countries: [\"Cambodia\", \"China\", \"Vietnam\", \"Laos\"] Print the first country in the list."
   ]
  },
  {
   "cell_type": "code",
   "execution_count": null,
   "id": "b698a08c",
   "metadata": {},
   "outputs": [],
   "source": [
    "list=[\"Cambodia\", \"China\", \"Vietnam\", \"Laos\"]\n",
    "print(list[0]) "
   ]
  },
  {
   "cell_type": "markdown",
   "id": "f90a349b",
   "metadata": {},
   "source": [
    "##### Createalist of animals: [\"dog\", \"cat\", \"rabbit\", \"hamster\"] Print the last animal using negative indexing."
   ]
  },
  {
   "cell_type": "code",
   "execution_count": null,
   "id": "12e537e6",
   "metadata": {},
   "outputs": [],
   "source": [
    "list=[\"dog\", \"cat\", \"rabbit\", \"hamster\"]\n",
    "print(list[-1])"
   ]
  },
  {
   "cell_type": "markdown",
   "id": "db636054",
   "metadata": {},
   "source": [
    "## Practice2"
   ]
  },
  {
   "cell_type": "markdown",
   "id": "3e179a0b",
   "metadata": {},
   "source": [
    "#### Createalist of Fruits: [\"apple\", \"banana\", \"cherry\"]. Change \"banana\" to \"mango\" and print the list."
   ]
  },
  {
   "cell_type": "code",
   "execution_count": null,
   "id": "f2984ca6",
   "metadata": {},
   "outputs": [],
   "source": [
    "Fruits=[\"apple\", \"banana\", \"cherry\"]\n",
    "Fruits[1] = \"mango\"\n",
    "print(Fruits)"
   ]
  },
  {
   "cell_type": "markdown",
   "id": "9df888fc",
   "metadata": {},
   "source": [
    "#### Createalist called a = [1, 2, 3] Assign b = a Then set b[0] = 100 Print both a and b"
   ]
  },
  {
   "cell_type": "code",
   "execution_count": null,
   "id": "c4abc0c6",
   "metadata": {},
   "outputs": [
    {
     "name": "stdout",
     "output_type": "stream",
     "text": [
      "[1, 2, 3]\n",
      "[100, 2, 3]\n"
     ]
    }
   ],
   "source": [
    "a = [1, 2, 3]\n",
    "b=a\n",
    "b[0]=100\n",
    "print(a)\n",
    "print(b)"
   ]
  },
  {
   "cell_type": "markdown",
   "id": "6ea20748",
   "metadata": {},
   "source": [
    "## Practice3"
   ]
  },
  {
   "cell_type": "markdown",
   "id": "eb2079c8",
   "metadata": {},
   "source": [
    "#### Giventwolists.Writecodetoprint: [\"AliceSmith\",\"BobLee\"].Use elementaccessand+.\n",
    " first_names=[\"Alice\",\"Bob\"],\n",
    " last_names=[\"Smith\",\"Lee\"]"
   ]
  },
  {
   "cell_type": "code",
   "execution_count": null,
   "id": "ea907a7d",
   "metadata": {},
   "outputs": [
    {
     "name": "stdout",
     "output_type": "stream",
     "text": [
      "Alice Smith\n",
      "Bob Lee\n"
     ]
    }
   ],
   "source": [
    "first_names=[\"Alice\",\"Bob\"]\n",
    "last_names=[\"Smith\",\"Lee\"]\n",
    "for i in range(len(first_names)):\n",
    "    print(first_names[i] + last_names[i])"
   ]
  },
  {
   "cell_type": "markdown",
   "id": "0e071f2d",
   "metadata": {},
   "source": [
    "#### Given\n",
    " a =[\"A\",\"B\",\"C\"],\n",
    " b =[\"1\",\"2\",\"3\"],\n",
    "\n",
    "#### Createanewlistlikethis: [\"A\",\"1\",\"B\",\"2\",\"C\",\"3\"]"
   ]
  },
  {
   "cell_type": "code",
   "execution_count": null,
   "id": "4c4793c4",
   "metadata": {},
   "outputs": [
    {
     "name": "stdout",
     "output_type": "stream",
     "text": [
      "['A', '1', 'B', '2', 'C', '3']\n"
     ]
    }
   ],
   "source": [
    "a=[\"A\",\"B\",\"C\"]\n",
    "b=[\"1\",\"2\",\"3\"]\n",
    "new_list = []\n",
    "for i in range(len(a)):\n",
    "    new_list.append(a[i])\n",
    "    new_list.append(b[i])\n",
    "# new_list = [a[i] + b[i] for i in range(len(a))]\n",
    "print(new_list)"
   ]
  },
  {
   "cell_type": "markdown",
   "id": "835efbec",
   "metadata": {},
   "source": [
    "#### Given\n",
    " nums=[11,22,33,44,55,66]\n",
    "#### Split the list into 2halves and swap their positions. Finalresult: [44,55,66,11,22,33]"
   ]
  },
  {
   "cell_type": "code",
   "execution_count": 8,
   "id": "dd2d94cd",
   "metadata": {},
   "outputs": [
    {
     "name": "stdout",
     "output_type": "stream",
     "text": [
      "[44, 55, 66, 11, 22, 33]\n"
     ]
    }
   ],
   "source": [
    "nums=[11,22,33,44,55,66]\n",
    "half = len(nums) // 2\n",
    "swapped_nums = nums[half:] + nums[:half]\n",
    "print(swapped_nums)"
   ]
  },
  {
   "cell_type": "markdown",
   "id": "b83d05b5",
   "metadata": {},
   "source": [
    "## practice4\n"
   ]
  },
  {
   "cell_type": "markdown",
   "id": "bd24d603",
   "metadata": {},
   "source": [
    "Given\n",
    " - t =(10,20,[30,40])\n",
    " - Changethevalue30to99. Isitpossible?Explainyouranswer"
   ]
  },
  {
   "cell_type": "code",
   "execution_count": 10,
   "id": "5eb4016b",
   "metadata": {},
   "outputs": [
    {
     "name": "stdout",
     "output_type": "stream",
     "text": [
      "(10, 20, [99, 40])\n"
     ]
    }
   ],
   "source": [
    "t=(10,20,[30,40])\n",
    "# It is possible to change the value 30 to 99 because the list inside the tuple is mutable.\n",
    "t[2][0] = 99\n",
    "print(t)"
   ]
  },
  {
   "cell_type": "markdown",
   "id": "3f341cf1",
   "metadata": {},
   "source": [
    "Given\n",
    "- data=(\"a\",\"b\",\"c\",\"a\",\"b\",\"a\")\n",
    "- Counthowmanytimes\"a\"appears.Findtheindexofthefirst\"b\""
   ]
  },
  {
   "cell_type": "code",
   "execution_count": 14,
   "id": "499d9132",
   "metadata": {},
   "outputs": [
    {
     "name": "stdout",
     "output_type": "stream",
     "text": [
      "3\n",
      "1\n"
     ]
    }
   ],
   "source": [
    "data=(\"a\",\"b\",\"c\",\"a\",\"b\",\"a\")\n",
    "count_a = data.count(\"a\")\n",
    "index_b = data.index(\"b\")\n",
    "print(count_a)\n",
    "print(index_b)"
   ]
  },
  {
   "cell_type": "markdown",
   "id": "69bab1ca",
   "metadata": {},
   "source": [
    "Given\n",
    "- students=(\n",
    "- (\"Alice\",18),\n",
    "- (\"Bob\", 20),\n",
    "- (\"Charlie\",19))\n",
    "- Print all names only,using a loop."
   ]
  },
  {
   "cell_type": "code",
   "execution_count": 15,
   "id": "221ded1c",
   "metadata": {},
   "outputs": [
    {
     "name": "stdout",
     "output_type": "stream",
     "text": [
      "Alice\n",
      "Bob\n",
      "Charlie\n"
     ]
    }
   ],
   "source": [
    "students=(\n",
    "    (\"Alice\",18),\n",
    "    (\"Bob\", 20),\n",
    "    (\"Charlie\",19)\n",
    ")\n",
    "for student in students:\n",
    "    print(student[0])  "
   ]
  },
  {
   "cell_type": "markdown",
   "id": "97663773",
   "metadata": {},
   "source": [
    "## practice5"
   ]
  },
  {
   "cell_type": "markdown",
   "id": "c28079cc",
   "metadata": {},
   "source": [
    "Given\n",
    "- data=[1,2,3,4,5,6,7,8]\n",
    "- Printeveryothernumber(stepsize=2):"
   ]
  },
  {
   "cell_type": "code",
   "execution_count": 25,
   "id": "e43587bf",
   "metadata": {},
   "outputs": [
    {
     "name": "stdout",
     "output_type": "stream",
     "text": [
      "1\n",
      "3\n",
      "5\n",
      "7\n"
     ]
    }
   ],
   "source": [
    "data=[1,2,3,4,5,6,7,8]\n",
    "for i in range(0, len(data), 2):\n",
    "    print(data[i])"
   ]
  },
  {
   "cell_type": "markdown",
   "id": "45227895",
   "metadata": {},
   "source": [
    "Given\n",
    "- t =(\"Mon\",\"Tue\", \"Wed\",\"Thu\",\"Fri\", \"Sat\",\"Sun\")\n",
    "- Printonlytheweekenddaysfromthetuple"
   ]
  },
  {
   "cell_type": "code",
   "execution_count": null,
   "id": "784aaa64",
   "metadata": {},
   "outputs": [],
   "source": [
    "t=(\"Mon\",\"Tue\", \"Wed\",\"Thu\",\"Fri\", \"Sat\",\"Sun\")\n",
    "weekend_days = t[5:7]  # Saturday and Sunday\n",
    "print(weekend_days)"
   ]
  },
  {
   "cell_type": "markdown",
   "id": "29645d7b",
   "metadata": {},
   "source": [
    "Removethefirstandlastelementsfromthislistusingslicing:\n",
    "- letters =[\"A\",\"B\",\"C\",\"D\",\"E\"]"
   ]
  },
  {
   "cell_type": "code",
   "execution_count": 23,
   "id": "32566409",
   "metadata": {},
   "outputs": [
    {
     "name": "stdout",
     "output_type": "stream",
     "text": [
      "['B', 'C', 'D']\n"
     ]
    }
   ],
   "source": [
    "letters =[\"A\",\"B\",\"C\",\"D\",\"E\"]\n",
    "sliced_letters = letters[1:-1]  \n",
    "print(sliced_letters)"
   ]
  },
  {
   "cell_type": "markdown",
   "id": "1f33160e",
   "metadata": {},
   "source": [
    "## Practice 6: Mini Gradebook Manager\n",
    "\n",
    "### Objective\n",
    "Create a functional Python program that allows users to manage and analyze student grades using lists, tuples, and functions.\n",
    "\n",
    "---\n",
    "\n",
    "1. Storestudent records as a list of tuples, where each tuple contains the student’s name and a list of scores:\n",
    "\n",
    "```python\n",
    "students = [\n",
    "    (\"Alice\", [85, 90, 88]),\n",
    "    (\"Bob\", [70, 75, 80]),\n",
    "    (\"Charlie\", [95, 100, 98])\n",
    "]\n",
    "```\n",
    "2. Perform slicing on the list to show specific student data (e.g., last 3students added).\n",
    "3. Write a function get_average(scores) to calculate the average from a list of scores.\n",
    "4. Write a function add_student(name, scores) to add a new student. Prevent duplicates based on name.\n",
    "5. Write a function get_all_averages(students) to return a list of tuples with student names and their average scores.\n",
    "6. Sort and display the top-performing students based on average score.\n",
    "7. Write a function update_score(name, index, new_score)to update a specific score of a student.\n",
    "8. Ask the user to enter a student name and print the student’s full score record. If the name does not exist, print a message.\n",
    "\n",
    "---\n",
    "\n",
    "### Bonus Challenge:\n",
    "- Allowtheuser to remove a student by name.\n",
    "- Printaformatted grade summary report.\n"
   ]
  },
  {
   "cell_type": "code",
   "execution_count": null,
   "id": "e49f6521",
   "metadata": {},
   "outputs": [],
   "source": [
    "students_list = [\n",
    "    (\"Alice\", [85, 90, 78]),\n",
    "    (\"Bob\", [92, 88, 95]),\n",
    "    (\"Charlie\", [70, 75, 80]),\n",
    "    (\"David\", [88, 82, 84]),\n",
    "    (\"Eve\", [90, 92, 91])\n",
    "]\n",
    "\n",
    "def get_average(scores):\n",
    "    return sum(scores) / len(scores)\n",
    "\n",
    "def add_student(name, scores):\n",
    "    for existing_name, _ in students_list:\n",
    "        if name.lower() == existing_name.lower():\n",
    "            print(f\"Error: Student {name} already exists!\")\n",
    "            return\n",
    "    students_list.append((name, scores))\n",
    "    print(f\"Student {name} added successfully.\")\n",
    "\n",
    "def get_all_average_with_order():\n",
    "    sorted_students = sorted(students_list, key=lambda x: get_average(x[1]), reverse=True)\n",
    "    for student_name, scores in sorted_students:\n",
    "        average = get_average(scores)\n",
    "        print(f\"{student_name}: {average:.2f}\")\n",
    "\n",
    "def get_student_average(name):\n",
    "    for student_name, scores in students_list:\n",
    "        if student_name.lower() == name.lower():\n",
    "            average = get_average(scores)\n",
    "            print(f\"{student_name}: {average:.2f}\")\n",
    "            return\n",
    "    print(f\"Error: Student {name} not found!\")\n",
    "\n",
    "\n",
    "def update_score(name, index, new_score):\n",
    "    for student_name, scores in students_list:\n",
    "        if student_name.lower() == name.lower():\n",
    "            if 0 <= index < len(scores):\n",
    "                scores[index] = new_score\n",
    "                print(f\"Score updated for {student_name}.\")\n",
    "            else:\n",
    "                print(f\"Error: Invalid score index {index} for student {name}.\")\n",
    "            return\n",
    "    print(f\"Error: Student {name} not found!\")\n",
    "\n",
    "def delete_student(name):\n",
    "    for i, (student_name, _) in enumerate(students_list):\n",
    "        if student_name.lower() == name.lower():\n",
    "            del students_list[i]\n",
    "            print(f\"Student {name} deleted successfully.\")\n",
    "            return\n",
    "    print(f\"Error: Student {name} not found!\")\n",
    "\n",
    "def main():\n",
    "    while True:\n",
    "        print(\"\\nMenu:\")\n",
    "        print(\"1. Add Student\")\n",
    "        print(\"2. Get All Averages\")\n",
    "        print(\"3. Get individual Student Average\")\n",
    "        print(\"4. Update Score\")\n",
    "        print(\"5. Delete Student\")\n",
    "        print(\"6. Exit\")\n",
    "        choice = input(\"Enter your choice: \")\n",
    "        if choice == '1':\n",
    "            name=input(\"Enter student name: \")\n",
    "            scores = input(\"Enter scores separated by space: \")\n",
    "            scores = list(map(int, scores.split()))\n",
    "            add_student(name, scores)\n",
    "        elif choice == '2':\n",
    "            get_all_average_with_order()\n",
    "        elif choice == '3':\n",
    "            name = input(\"Enter student name: \")\n",
    "            get_student_average(name)\n",
    "        elif choice == '4':\n",
    "            name = input(\"Enter student name: \")\n",
    "            index = int(input(\"Enter score index to update (0-based): \"))\n",
    "            new_score = int(input(\"Enter new score: \"))\n",
    "            update_score(name, index, new_score)\n",
    "        elif choice == '5':\n",
    "            name = input(\"Enter student name to delete: \")\n",
    "            delete_student(name)\n",
    "        elif choice == '6':\n",
    "            print(\"Exiting the program.\")\n",
    "            break\n",
    "\n",
    "\n",
    "if __name__ == \"__main__\":\n",
    "    main()        \n"
   ]
  }
 ],
 "metadata": {
  "kernelspec": {
   "display_name": ".venv",
   "language": "python",
   "name": "python3"
  },
  "language_info": {
   "codemirror_mode": {
    "name": "ipython",
    "version": 3
   },
   "file_extension": ".py",
   "mimetype": "text/x-python",
   "name": "python",
   "nbconvert_exporter": "python",
   "pygments_lexer": "ipython3",
   "version": "3.13.5"
  }
 },
 "nbformat": 4,
 "nbformat_minor": 5
}
