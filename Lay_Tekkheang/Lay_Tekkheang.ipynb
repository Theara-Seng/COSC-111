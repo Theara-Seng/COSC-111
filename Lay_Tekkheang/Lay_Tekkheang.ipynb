{
 "cells": [
  {
   "cell_type": "markdown",
   "id": "f5abc5e1",
   "metadata": {},
   "source": [
    "practice 1\n",
    "\n"
   ]
  },
  {
   "cell_type": "code",
   "execution_count": 5,
   "id": "bf4a8363",
   "metadata": {},
   "outputs": [
    {
     "name": "stdout",
     "output_type": "stream",
     "text": [
      "Cambodia\n"
     ]
    }
   ],
   "source": [
    "List = [\"Cambodia\", \"China\", \"Laos\", \" Indonesia\"]\n",
    "print(List[0])"
   ]
  },
  {
   "cell_type": "code",
   "execution_count": 7,
   "id": "6468a792",
   "metadata": {},
   "outputs": [
    {
     "name": "stdout",
     "output_type": "stream",
     "text": [
      "hamster\n"
     ]
    }
   ],
   "source": [
    "List = [\"dog\", \"cat\",\"rabbit\", \"hamster\" ]\n",
    "print(List[-1])"
   ]
  },
  {
   "cell_type": "markdown",
   "id": "ad30a607",
   "metadata": {},
   "source": [
    "#practice 2 \n",
    "#practice 2"
   ]
  },
  {
   "cell_type": "code",
   "execution_count": 10,
   "id": "5fbee09d",
   "metadata": {},
   "outputs": [
    {
     "name": "stdout",
     "output_type": "stream",
     "text": [
      "[13, 6, 9, 45, 57, -67, 67]\n"
     ]
    }
   ],
   "source": [
    "List = [13, 6 ,9 ,13, 57 , -67, 67]\n",
    "List[3] = 45\n",
    "print(List)"
   ]
  },
  {
   "cell_type": "code",
   "execution_count": 18,
   "id": "ee904faf",
   "metadata": {},
   "outputs": [
    {
     "name": "stdout",
     "output_type": "stream",
     "text": [
      "['apple', 'mango', 'cherry', 'pasta', 'avocado']\n"
     ]
    }
   ],
   "source": [
    "Fruit = [\"apple\", \"banana\", \"cherry\", \"pasta\", \"avocado\"]\n",
    "Fruit[1] = \"mango\"\n",
    "print(Fruit)"
   ]
  },
  {
   "cell_type": "code",
   "execution_count": 20,
   "id": "7f75160c",
   "metadata": {},
   "outputs": [
    {
     "name": "stdout",
     "output_type": "stream",
     "text": [
      "[100, 2, 3, 4, 5] [100, 2, 3, 4, 5]\n"
     ]
    }
   ],
   "source": [
    "a = [ 1, 2, 3, 4, 5]\n",
    "b = a\n",
    "b[0] = 100\n",
    "print(a,b)"
   ]
  },
  {
   "cell_type": "markdown",
   "id": "c2a42c18",
   "metadata": {},
   "source": [
    "#pracitce 3\n"
   ]
  },
  {
   "cell_type": "code",
   "execution_count": 26,
   "id": "3129eef9",
   "metadata": {},
   "outputs": [
    {
     "name": "stdout",
     "output_type": "stream",
     "text": [
      "['Alice', 'Bob', 'Smith', 'Lee']\n",
      "['Alice', 'Bob', 'Smith', 'Lee']\n"
     ]
    }
   ],
   "source": [
    "first_name = [\"Alice\", \"Bob\"]\n",
    "last_name = [\"Smith\", \"Lee\"]\n",
    "first_name + last_name\n",
    "print(first_name + last_name)\n",
    "result = first_name + last_name \n",
    "print(result)"
   ]
  },
  {
   "cell_type": "code",
   "execution_count": 1,
   "id": "3c1dd5e9",
   "metadata": {},
   "outputs": [
    {
     "name": "stdout",
     "output_type": "stream",
     "text": [
      "Alice Smith, Bob Lee\n"
     ]
    }
   ],
   "source": [
    "first = [\"Alice\", \"Bob\"]\n",
    "last = [\"Smith\", \"Lee\"]\n",
    "print(first[0] + \" \" + last[0] + \", \" + first[1] + \" \" + last[1] )"
   ]
  },
  {
   "cell_type": "code",
   "execution_count": 3,
   "id": "5b9748d6",
   "metadata": {},
   "outputs": [
    {
     "name": "stdout",
     "output_type": "stream",
     "text": [
      "['A', 'B', 'C', '1', '2', '3']\n"
     ]
    }
   ],
   "source": [
    "a = [\"A\", \"B\", \"C\"]\n",
    "b = [\"1\", \"2\", \"3\"]\n",
    "c = a + b \n",
    "print(c)"
   ]
  },
  {
   "cell_type": "code",
   "execution_count": null,
   "id": "db22e03d",
   "metadata": {},
   "outputs": [],
   "source": [
    "nums = [11, 22, 33, 44, 55, 66, 77]"
   ]
  }
 ],
 "metadata": {
  "kernelspec": {
   "display_name": "Python 3",
   "language": "python",
   "name": "python3"
  },
  "language_info": {
   "codemirror_mode": {
    "name": "ipython",
    "version": 3
   },
   "file_extension": ".py",
   "mimetype": "text/x-python",
   "name": "python",
   "nbconvert_exporter": "python",
   "pygments_lexer": "ipython3",
   "version": "3.13.2"
  }
 },
 "nbformat": 4,
 "nbformat_minor": 5
}
