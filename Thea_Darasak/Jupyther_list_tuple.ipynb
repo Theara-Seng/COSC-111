{
 "cells": [
  {
   "cell_type": "code",
   "execution_count": 23,
   "id": "eb3c9a8d",
   "metadata": {},
   "outputs": [
    {
     "name": "stdout",
     "output_type": "stream",
     "text": [
      "Hello World\n"
     ]
    }
   ],
   "source": [
    "print(\"Hello World\")"
   ]
  },
  {
   "cell_type": "code",
   "execution_count": 24,
   "id": "b225fb1d",
   "metadata": {},
   "outputs": [
    {
     "name": "stdout",
     "output_type": "stream",
     "text": [
      "1\n",
      "2\n",
      "3\n",
      "4\n",
      "5\n"
     ]
    }
   ],
   "source": [
    "for i in range (1,6):\n",
    "    print(i)"
   ]
  },
  {
   "cell_type": "code",
   "execution_count": 25,
   "id": "2b903b7c",
   "metadata": {},
   "outputs": [
    {
     "name": "stdout",
     "output_type": "stream",
     "text": [
      "['cambodia', 'china', 'vietnam', 'laos']\n"
     ]
    }
   ],
   "source": [
    "list=['cambodia','china','vietnam','laos']\n",
    "print(list)"
   ]
  },
  {
   "cell_type": "markdown",
   "id": "e6828a93",
   "metadata": {},
   "source": [
    "Practice 1"
   ]
  },
  {
   "cell_type": "markdown",
   "id": "dbd87015",
   "metadata": {},
   "source": [
    "#### Create a list of 4 countries: [\"Cambodia\", \"China\", \"Vietnam\", \"Laos\"] Print Searching and sorting the first country in the list.\n"
   ]
  },
  {
   "cell_type": "code",
   "execution_count": 26,
   "id": "95017cd7",
   "metadata": {},
   "outputs": [
    {
     "name": "stdout",
     "output_type": "stream",
     "text": [
      "['Cambodia', 'China', 'Vietnam', 'Laos']\n"
     ]
    }
   ],
   "source": [
    "list=['Cambodia','China','Vietnam','Laos']\n",
    "print(list)"
   ]
  },
  {
   "cell_type": "markdown",
   "id": "1815a903",
   "metadata": {},
   "source": [
    "#### Create a list of animals: [\"dog\", \"cat\", \"rabbit\", \"hamster\"] Print the last animal using negative indexing.\n"
   ]
  },
  {
   "cell_type": "code",
   "execution_count": 1,
   "id": "d10df4ad",
   "metadata": {},
   "outputs": [
    {
     "name": "stdout",
     "output_type": "stream",
     "text": [
      "hamster\n"
     ]
    }
   ],
   "source": [
    "list=['dog','cat','rabbit','hamster']\n",
    "print(list[-1])"
   ]
  },
  {
   "cell_type": "markdown",
   "id": "22c8a1ee",
   "metadata": {},
   "source": [
    "## Practice 2\n",
    "####\tCreate a list of Fruits: [\"apple\", \"banana\", \"cherry\"]. Change \"banana\" to \"mango\" and print the list.\n"
   ]
  },
  {
   "cell_type": "code",
   "execution_count": 2,
   "id": "08e69637",
   "metadata": {},
   "outputs": [
    {
     "name": "stdout",
     "output_type": "stream",
     "text": [
      "['apple', 'mango', 'cherry']\n"
     ]
    }
   ],
   "source": [
    "list=['apple','banana','cherry']\n",
    "list[1]='mango'\n",
    "print(list)"
   ]
  },
  {
   "cell_type": "markdown",
   "id": "1035019a",
   "metadata": {},
   "source": [
    "#### Create a list called a = [1, 2, 3]\n",
    "#### Assign b = a \n",
    "#### Then set b[0] = 100 \n",
    "#### Print both a and b.\n"
   ]
  },
  {
   "cell_type": "code",
   "execution_count": 3,
   "id": "8a2a6ccc",
   "metadata": {},
   "outputs": [
    {
     "name": "stdout",
     "output_type": "stream",
     "text": [
      "[100, 2, 3]\n",
      "[100, 2, 3]\n"
     ]
    }
   ],
   "source": [
    "a=[1,2,3]\n",
    "b=a\n",
    "b[0]=100\n",
    "print(a)\n",
    "print(b)"
   ]
  },
  {
   "cell_type": "markdown",
   "id": "9f4465c9",
   "metadata": {},
   "source": [
    "## Practice 3\n",
    "#### Given two lists. Write code to print: [\"Alice Smith\", \"Bob Lee\"]. Use\n",
    "#### element access and +.\n",
    "#### first_names = [\"Alice\", \"Bob\"]\n",
    "#### last_names = [\"Smith\", \"Lee\"]"
   ]
  },
  {
   "cell_type": "code",
   "execution_count": 28,
   "id": "560db7c8",
   "metadata": {},
   "outputs": [
    {
     "name": "stdout",
     "output_type": "stream",
     "text": [
      "Alice Smith\n",
      "Bob Lee\n"
     ]
    }
   ],
   "source": [
    "first_name=['Alice','Bob']\n",
    "last_name=['Smith','Lee']\n",
    "full_name=[]\n",
    "for i in range(len(first_name)):\n",
    "    print(first_name[i]+\" \"+last_name[i])\n",
    "    # full_name.append(first_name[i]+\" \"+last_name[i])\n",
    "    # print(full_name)\n",
    "\n"
   ]
  },
  {
   "cell_type": "markdown",
   "id": "043dac2d",
   "metadata": {},
   "source": [
    "#### Given\n",
    "#### a = [\"A\", \"B\", \"C\"]\n",
    "#### b = [\"1\", \"2\", \"3\"]\n",
    "#### Create a new list like this: [\"A\", \"1\", \"B\", \"2\", \"C\", \"3\"]"
   ]
  },
  {
   "cell_type": "code",
   "execution_count": 67,
   "id": "de32a5f3",
   "metadata": {},
   "outputs": [
    {
     "name": "stdout",
     "output_type": "stream",
     "text": [
      "['a', '1', 'b', '2', 'c', '3']\n"
     ]
    }
   ],
   "source": [
    "a=['a','b','c']\n",
    "b=['1','2','3']\n",
    "new_list=[]\n",
    "for i in range(len(a)):\n",
    "    new_list.append(a[i])\n",
    "    new_list.append(b[i])\n",
    "print(new_list)"
   ]
  },
  {
   "cell_type": "markdown",
   "id": "f4c97ac9",
   "metadata": {},
   "source": [
    "#### Given\n",
    "#### nums = [11, 22, 33, 44, 55, 66]\n",
    "#### Split the list into 2 halves and swap their positions.Final result: [44, 55, 66, 11,\n",
    "#### 22, 33]"
   ]
  },
  {
   "cell_type": "code",
   "execution_count": 46,
   "id": "709c4354",
   "metadata": {},
   "outputs": [
    {
     "name": "stdout",
     "output_type": "stream",
     "text": [
      "[44, 55, 66, 11, 22, 33]\n"
     ]
    }
   ],
   "source": [
    "nums=[11,22,33,44,55,66]\n",
    "list=[]\n",
    "middle=len(nums)//2\n",
    "list=nums[middle:]+nums[:middle]\n",
    "print(list)"
   ]
  },
  {
   "cell_type": "markdown",
   "id": "9f402866",
   "metadata": {},
   "source": [
    "# Tuple\n"
   ]
  },
  {
   "cell_type": "code",
   "execution_count": null,
   "id": "78065674",
   "metadata": {},
   "outputs": [
    {
     "name": "stdout",
     "output_type": "stream",
     "text": [
      "90\n",
      "Name is:Amanda, Age is 19, Grade is [80, 90, 87]\n"
     ]
    }
   ],
   "source": [
    "# time_tuple = (9,16,1)\n",
    "# second = time_tuple[0]*3600+time_tuple[1]*60+time_tuple[2]\n",
    "# print(second)\n",
    "\n",
    "# tuple1 = (10,20,30)\n",
    "# tuple1 += (40, 50)\n",
    "# print(tuple1)\n",
    "\n",
    "\n",
    "student_tuple = (\"Amanda\", 19, [80,90,87])\n",
    "print(student_tuple[2][1]) #index 2 in tuple and index 1 in list\n",
    "\n",
    "student_tuple = (\"Amanda\", 19, [80,90,87])\n",
    "Name, age, grade = student_tuple\n",
    "print(f\"Name is:{Name}, Age is {age}, Grade is {grade}\")"
   ]
  },
  {
   "cell_type": "markdown",
   "id": "8b4327ee",
   "metadata": {},
   "source": [
    "## Practice 4\n",
    "## Given\n",
    "#### t = (10, 20, [30, 40])\n",
    "#### Change the value 30 to 99. Is it possible? Explain your answer"
   ]
  },
  {
   "cell_type": "code",
   "execution_count": null,
   "id": "1b662b5d",
   "metadata": {},
   "outputs": [
    {
     "name": "stdout",
     "output_type": "stream",
     "text": [
      "[99, 40]\n"
     ]
    }
   ],
   "source": [
    "t = (10, 20, [30, 40])\n",
    "t1=t[2]\n",
    "t1[0]=99\n",
    "print(t1)\n",
    "'''\n",
    "Yes it is. Because the value 30 is in the list. But the list also located in tuple.\n",
    "So we have to access the list first in tuple first, then we declare a variable to store the value of list. After that we can \n",
    "change the value 30 to 99 due to the fact that list is mutable which tuple is not.  \n",
    "'''"
   ]
  },
  {
   "cell_type": "markdown",
   "id": "f5a82b4c",
   "metadata": {},
   "source": [
    "## Given\n",
    "#### data = (\"a\", \"b\", \"c\", \"a\", \"b\", \"a\")\n",
    "#### Count how many times \"a\" appears.Find the index of the first \"b\""
   ]
  },
  {
   "cell_type": "code",
   "execution_count": null,
   "id": "4a027636",
   "metadata": {},
   "outputs": [
    {
     "name": "stdout",
     "output_type": "stream",
     "text": [
      "3\n",
      "1\n"
     ]
    }
   ],
   "source": [
    "data = (\"a\", \"b\", \"c\", \"a\", \"b\", \"a\")\n",
    "count=0\n",
    "# for i in data:\n",
    "#     if i=='a':\n",
    "#         count+=1\n",
    "# print(count)\n",
    "x=data.count('a')\n",
    "y=data.index('b')\n",
    "print(x)\n",
    "print(y)\n"
   ]
  },
  {
   "cell_type": "markdown",
   "id": "76e9515c",
   "metadata": {},
   "source": [
    "## Given\n",
    "#### students = (\n",
    "#### (\"Alice\", 18),\n",
    "#### (\"Bob\", 20),\n",
    "#### (\"Charlie\", 19))\n",
    "#### Print all names only, using a loop.\n"
   ]
  },
  {
   "cell_type": "code",
   "execution_count": 32,
   "id": "e4529c46",
   "metadata": {},
   "outputs": [
    {
     "name": "stdout",
     "output_type": "stream",
     "text": [
      "Alice\n",
      "Bob\n",
      "Charlie\n"
     ]
    }
   ],
   "source": [
    "students = (\n",
    "(\"Alice\", 18),\n",
    "(\"Bob\", 20),\n",
    "(\"Charlie\", 19))\n",
    "for name,age in students:\n",
    "    print(name)\n",
    "    "
   ]
  },
  {
   "cell_type": "code",
   "execution_count": 37,
   "id": "d049f9ad",
   "metadata": {},
   "outputs": [
    {
     "name": "stdout",
     "output_type": "stream",
     "text": [
      "[5, 6, 11, 13]\n",
      "[2, 3, 5, 6, 11, 13]\n",
      "[17, 19]\n",
      "[2, 3, 5, 6, 11, 13, 17, 19]\n",
      "[2, 5, 11, 17]\n"
     ]
    }
   ],
   "source": [
    "numbers= [2,3,5,6,11,13,17,19]\n",
    "print(numbers[2:6])\n",
    "\n",
    "numbers= [2,3,5,6,11,13,17,19]\n",
    "print(numbers[:6])\n",
    "\n",
    "numbers= [2,3,5,6,11,13,17,19]\n",
    "print(numbers[6:])\n",
    "\n",
    "numbers= [2,3,5,6,11,13,17,19]\n",
    "print(numbers[:])\n",
    "\n",
    "numbers= [2,3,5,6,11,13,17,19]\n",
    "print(numbers[::2])"
   ]
  },
  {
   "cell_type": "markdown",
   "id": "57110596",
   "metadata": {},
   "source": [
    "## Practice 5\n",
    "#### Given\n",
    "#### data = [1, 2, 3, 4, 5, 6, 7, 8]\n",
    "#### Print every other number (step size = 2)\n"
   ]
  },
  {
   "cell_type": "code",
   "execution_count": 45,
   "id": "07d20359",
   "metadata": {},
   "outputs": [
    {
     "name": "stdout",
     "output_type": "stream",
     "text": [
      "[1, 3, 5, 7]\n"
     ]
    }
   ],
   "source": [
    "data = [1, 2, 3, 4, 5, 6, 7, 8]\n",
    "print(data[::2])"
   ]
  },
  {
   "cell_type": "markdown",
   "id": "365325e2",
   "metadata": {},
   "source": [
    "#### Given\n",
    "#### t = (\"Mon\", \"Tue\", \"Wed\", \"Thu\", \"Fri\", \"Sat\", \"Sun\")\n",
    "#### Print only the weekend days from the tuple."
   ]
  },
  {
   "cell_type": "code",
   "execution_count": 47,
   "id": "30ed3646",
   "metadata": {},
   "outputs": [
    {
     "name": "stdout",
     "output_type": "stream",
     "text": [
      "('Sat', 'Sun')\n"
     ]
    }
   ],
   "source": [
    "t = (\"Mon\", \"Tue\", \"Wed\", \"Thu\", \"Fri\", \"Sat\", \"Sun\")\n",
    "print(t[5:])"
   ]
  },
  {
   "cell_type": "markdown",
   "id": "009a19a4",
   "metadata": {},
   "source": [
    "#### Remove the first and last elements from this list using slicing:\n",
    "#### letters = [\"A\", \"B\", \"C\", \"D\", \"E\"]"
   ]
  },
  {
   "cell_type": "code",
   "execution_count": 49,
   "id": "1971e7f4",
   "metadata": {},
   "outputs": [
    {
     "name": "stdout",
     "output_type": "stream",
     "text": [
      "['B', 'C', 'D']\n"
     ]
    }
   ],
   "source": [
    "letters = [\"A\", \"B\", \"C\", \"D\", \"E\"]\n",
    "print(letters[1:4])"
   ]
  },
  {
   "cell_type": "code",
   "execution_count": 71,
   "id": "fa553c60",
   "metadata": {},
   "outputs": [
    {
     "name": "stdout",
     "output_type": "stream",
     "text": [
      "[0, 1, 2, 3, 4, 5, 6, 7, 8]\n",
      "[2, 3, 4, 5, 6, 7, 8, 9]\n"
     ]
    }
   ],
   "source": [
    "numbers = list(range(0,10))\n",
    "del numbers[-1]\n",
    "print(numbers)\n",
    "\n",
    "numbers = list(range(0,10))\n",
    "del numbers[0:2]\n",
    "print(numbers)\n"
   ]
  },
  {
   "cell_type": "code",
   "execution_count": 72,
   "id": "6e66e2df",
   "metadata": {},
   "outputs": [
    {
     "name": "stdout",
     "output_type": "stream",
     "text": [
      "6\n",
      "6\n"
     ]
    }
   ],
   "source": [
    "numbers = [3,7,1,4,2,8,5,6]\n",
    "print(numbers.index(5))\n",
    "\n",
    "numbers = [3,5,1,4,2,8,5,6]\n",
    "#You are looking for the value 5\n",
    "#You want to start searching from index 3 (which is the number 4)\n",
    "print(numbers.index(5,3))"
   ]
  },
  {
   "cell_type": "code",
   "execution_count": 73,
   "id": "65b0dc51",
   "metadata": {},
   "outputs": [
    {
     "name": "stdout",
     "output_type": "stream",
     "text": [
      "[1, 2, 3, 4, 5, 6, 7, 10, 12]\n",
      "[12, 10, 7, 6, 5, 4, 3, 2, 1]\n"
     ]
    }
   ],
   "source": [
    "numbers= [5,3,2,6,10,4,7,1,12]\n",
    "numbers.sort()\n",
    "print(numbers)\n",
    "\n",
    "numbers= [5,3,2,6,10,4,7,1,12]\n",
    "numbers.sort(reverse=True)\n",
    "print(numbers)"
   ]
  },
  {
   "cell_type": "code",
   "execution_count": 74,
   "id": "3944ad71",
   "metadata": {},
   "outputs": [
    {
     "name": "stdout",
     "output_type": "stream",
     "text": [
      "['Red', 'Orange', 'Yellow', 'Green']\n",
      "['Orange', 'Yellow', 'Green', 'Blue']\n",
      "['Orange', 'Yellow']\n",
      "[]\n"
     ]
    }
   ],
   "source": [
    "color_names=[\"Orange\", \"Yellow\", \"Green\"]\n",
    "color_names.insert(0, \"Red\")\n",
    "print(color_names)\n",
    "\n",
    "color_names=[\"Orange\", \"Yellow\", \"Green\"]\n",
    "color_names.append(\"Blue\")\n",
    "print(color_names)\n",
    "\n",
    "color_names=[\"Orange\", \"Yellow\", \"Green\"]\n",
    "color_names.remove(\"Green\")\n",
    "print(color_names)\n",
    "\n",
    "color_names=[\"Orange\", \"Yellow\", \"Green\"]\n",
    "color_names.clear()\n",
    "print(color_names)"
   ]
  },
  {
   "cell_type": "code",
   "execution_count": 76,
   "id": "6446ca23",
   "metadata": {},
   "outputs": [
    {
     "name": "stdout",
     "output_type": "stream",
     "text": [
      "[1, 2, 3, 4, 5]\n",
      "[1, 2, 3, 4, 5]\n"
     ]
    }
   ],
   "source": [
    "list1 = []\n",
    "for item in range(1, 6):\n",
    "    list1.append(item)\n",
    "print(list1)\n",
    "list1 = [item for item in range(1,6)]\n",
    "print(list1)"
   ]
  },
  {
   "cell_type": "markdown",
   "id": "9dd723a3",
   "metadata": {},
   "source": [
    "## Practice 6\n",
    "#### Objective: Create a functional Python program that allows users to\n",
    "#### manage and analyze student grades using lists, tuples, and functions.\n",
    "#### Store student records as a list of tuples, where each tuple contains the\n",
    "#### student’s name and a list of scores:\n",
    "#### students = [\n",
    "#### (\"Alice\", [85, 90, 88]),\n",
    "#### (\"Bob\", [70, 75, 80]),\n",
    "#### (\"Charlie\", [95, 100, 98])\n",
    "#### ]\n",
    "#### erform slicing on the list to show specific student data (e.g., last 3\n",
    "#### tudents added).\n",
    "#### Write a function get_average(scores) to calculate the average from\n",
    "#### a list of scores.\n",
    "#### Write a function add_student(name, scores) to add a new student.\n",
    "#### Prevent duplicates based on name.\n",
    "#### Write a function get_all_averages(students) to return a list of\n",
    "#### tuples with student names and their average scores.\n",
    "#### Sort and display the top-performing students based on average score.\n",
    "#### Write a function update_score(name, index, new_score) to\n",
    "#### update a specific score of a student.\n",
    "#### Ask the user to enter a student name and print the student’s full score\n",
    "#### record. If the name does not exist, print a message.\n",
    "#### Bonus Challenge:\n",
    "#### Allow the user to remove a student by name.\n",
    "#### Print a formatted grade summary report.\n"
   ]
  },
  {
   "cell_type": "code",
   "execution_count": null,
   "id": "13d48208",
   "metadata": {},
   "outputs": [
    {
     "ename": "TypeError",
     "evalue": "add_student() missing 1 required positional argument: 'scores'",
     "output_type": "error",
     "traceback": [
      "\u001b[31m---------------------------------------------------------------------------\u001b[39m",
      "\u001b[31mTypeError\u001b[39m                                 Traceback (most recent call last)",
      "\u001b[36mCell\u001b[39m\u001b[36m \u001b[39m\u001b[32mIn[77]\u001b[39m\u001b[32m, line 13\u001b[39m\n\u001b[32m     11\u001b[39m \u001b[38;5;28;01mif\u001b[39;00m \u001b[34m__name__\u001b[39m==\u001b[33m\"\u001b[39m\u001b[33m__main__\u001b[39m\u001b[33m\"\u001b[39m:\n\u001b[32m     12\u001b[39m     name=\u001b[38;5;28minput\u001b[39m(\u001b[33m\"\u001b[39m\u001b[33mEnter a student name:\u001b[39m\u001b[33m\"\u001b[39m)\n\u001b[32m---> \u001b[39m\u001b[32m13\u001b[39m     \u001b[43madd_student\u001b[49m\u001b[43m(\u001b[49m\u001b[43mname\u001b[49m\u001b[43m)\u001b[49m\n",
      "\u001b[31mTypeError\u001b[39m: add_student() missing 1 required positional argument: 'scores'"
     ]
    }
   ],
   "source": [
    "\n",
    "    \n"
   ]
  }
 ],
 "metadata": {
  "kernelspec": {
   "display_name": "Python 3",
   "language": "python",
   "name": "python3"
  },
  "language_info": {
   "codemirror_mode": {
    "name": "ipython",
    "version": 3
   },
   "file_extension": ".py",
   "mimetype": "text/x-python",
   "name": "python",
   "nbconvert_exporter": "python",
   "pygments_lexer": "ipython3",
   "version": "3.13.2"
  }
 },
 "nbformat": 4,
 "nbformat_minor": 5
}
