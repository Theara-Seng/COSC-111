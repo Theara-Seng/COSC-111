{
 "cells": [
  {
   "cell_type": "code",
   "execution_count": 1,
   "id": "8646a75d",
   "metadata": {},
   "outputs": [
    {
     "name": "stdout",
     "output_type": "stream",
     "text": [
      "Document\n"
     ]
    }
   ],
   "source": [
    "print(\"Document\")"
   ]
  },
  {
   "cell_type": "markdown",
   "id": "04302722",
   "metadata": {},
   "source": [
    "# Practice1 (1)"
   ]
  },
  {
   "cell_type": "markdown",
   "id": "e6cb1428",
   "metadata": {},
   "source": [
    "#### Createalist of 4 countries: [\"Cambodia\", \"China\", \"Vietnam\", \"Laos\"] Print the first country in the list."
   ]
  },
  {
   "cell_type": "code",
   "execution_count": 1,
   "id": "625a036e",
   "metadata": {},
   "outputs": [
    {
     "name": "stdout",
     "output_type": "stream",
     "text": [
      "Cambodia\n"
     ]
    }
   ],
   "source": [
    "a = [\"Cambodia\", \"China\", \"Vietname\", \"Laos\"]\n",
    "print(a[0])\n"
   ]
  },
  {
   "cell_type": "markdown",
   "id": "b7e1ad1d",
   "metadata": {},
   "source": [
    "# Practice1 (2)"
   ]
  },
  {
   "cell_type": "markdown",
   "id": "18148215",
   "metadata": {},
   "source": [
    "####  Createalist of animals: [\"dog\", \"cat\", \"rabbit\", \"hamster\"] Print the last animal using negative indexing"
   ]
  },
  {
   "cell_type": "code",
   "execution_count": 2,
   "id": "6e65ad7f",
   "metadata": {},
   "outputs": [
    {
     "name": "stdout",
     "output_type": "stream",
     "text": [
      "hamster\n"
     ]
    }
   ],
   "source": [
    "b = [\"dog\", \"cat\", \"rabbit\", \"hamster\"]\n",
    "print(b[-1])\n"
   ]
  },
  {
   "cell_type": "markdown",
   "id": "f7f5b86d",
   "metadata": {},
   "source": [
    "# Practice2 (1)"
   ]
  },
  {
   "cell_type": "markdown",
   "id": "943bdb50",
   "metadata": {},
   "source": [
    "####  Createalist of Fruits: [\"apple\", \"banana\", \"cherry\"]. Change \"banana\" to \"mango\" and print the list."
   ]
  },
  {
   "cell_type": "code",
   "execution_count": 3,
   "id": "2d009376",
   "metadata": {},
   "outputs": [
    {
     "name": "stdout",
     "output_type": "stream",
     "text": [
      "['apple', 'mango', 'cherry']\n"
     ]
    }
   ],
   "source": [
    "c = [\"apple\", \"banana\", \"cherry\"]\n",
    "c[1] = \"mango\"\n",
    "print(c)"
   ]
  },
  {
   "cell_type": "markdown",
   "id": "44f13e7e",
   "metadata": {},
   "source": [
    "# Practice2 (2)"
   ]
  },
  {
   "cell_type": "markdown",
   "id": "d06abcb7",
   "metadata": {},
   "source": [
    "####  Createalist called a = [1, 2, 3]\n",
    "#### Assign b = a\n",
    "#### Then set b[0] = 100\n",
    "#### Print both a and b."
   ]
  },
  {
   "cell_type": "code",
   "execution_count": 5,
   "id": "248de956",
   "metadata": {},
   "outputs": [
    {
     "name": "stdout",
     "output_type": "stream",
     "text": [
      "[1, 2, 3]\n",
      "[100, 2, 3]\n"
     ]
    }
   ],
   "source": [
    "a = [1, 2, 3]\n",
    "print(a)\n",
    "b = a\n",
    "b[0]= 100\n",
    "print(b)\n"
   ]
  },
  {
   "cell_type": "markdown",
   "id": "c17fd64f",
   "metadata": {},
   "source": [
    "# Practice3(1)"
   ]
  },
  {
   "cell_type": "markdown",
   "id": "f3320c2c",
   "metadata": {},
   "source": [
    "####  Given two lists. Write code to print: [\"Alice Smith\", \"BobLee\"].Use elementaccessand+.\n",
    "#### first_names=[\"Alice\",\"Bob\"]\n",
    "#### last_names=[\"Smith\",\"Lee\"]"
   ]
  },
  {
   "cell_type": "code",
   "execution_count": 2,
   "id": "943d1438",
   "metadata": {},
   "outputs": [
    {
     "name": "stdout",
     "output_type": "stream",
     "text": [
      "['Alice Smith', 'Bob Lee']\n"
     ]
    }
   ],
   "source": [
    "first_names= [\"Alice\", \"Bob\"]\n",
    "last_names= [\"Smith\", \"Lee\"]\n",
    "c = first_names[0] + \" \" + last_names[0]\n",
    "d = first_names[1] + \" \" + last_names[1]\n",
    "e = [c, d]\n",
    "print(e)"
   ]
  },
  {
   "cell_type": "markdown",
   "id": "97741df2",
   "metadata": {},
   "source": [
    "# Practice3 (2)"
   ]
  },
  {
   "cell_type": "markdown",
   "id": "3079c0d3",
   "metadata": {},
   "source": [
    "#### Given\n",
    "#### a =[\"A\",\"B\",\"C\"]\n",
    "#### b =[\"1\",\"2\",\"3\"]\n",
    "#### Create a new list like this: [\"A\",\"1\",\"B\",\"2\",\"C\",\"3\"]"
   ]
  },
  {
   "cell_type": "code",
   "execution_count": 13,
   "id": "538a045c",
   "metadata": {},
   "outputs": [
    {
     "name": "stdout",
     "output_type": "stream",
     "text": [
      "['A', '1', 'B', '2', 'C', '3']\n"
     ]
    }
   ],
   "source": [
    "a=[\"A\", \"B\", \"C\"]\n",
    "b=[\"1\", \"2\", \"3\"]\n",
    "c = []\n",
    "for i in range(3):\n",
    "   c.append(a[i])\n",
    "   c.append(b[i])\n",
    "print(c)"
   ]
  },
  {
   "cell_type": "markdown",
   "id": "fa468a6d",
   "metadata": {},
   "source": [
    "# Practice3 (3)"
   ]
  },
  {
   "cell_type": "markdown",
   "id": "b3bbb20c",
   "metadata": {},
   "source": [
    "####  Given nums=[11,22,33,44,55,66]\n",
    "#### Split the list into 2 halves and swap  their positions. Finalresult: [44,55,66,11,22,33]\n"
   ]
  },
  {
   "cell_type": "code",
   "execution_count": 4,
   "id": "85682192",
   "metadata": {},
   "outputs": [
    {
     "name": "stdout",
     "output_type": "stream",
     "text": [
      "[44, 55, 66, 11, 22, 33]\n"
     ]
    }
   ],
   "source": [
    "num = [11, 22, 33, 44, 55, 66]\n",
    "num1 = [11, 22, 33]\n",
    "num2 = [44, 55, 66]\n",
    "print(num2 + num1)"
   ]
  },
  {
   "cell_type": "markdown",
   "id": "1b5c8b0e",
   "metadata": {},
   "source": [
    "# Practice4 (1)"
   ]
  },
  {
   "cell_type": "markdown",
   "id": "c8f9af70",
   "metadata": {},
   "source": [
    "#### Given t = (10, 20, [30, 40]). change the value from 30 to 99. is it possible? Explain your answer."
   ]
  },
  {
   "cell_type": "code",
   "execution_count": null,
   "id": "e1f48114",
   "metadata": {},
   "outputs": [
    {
     "name": "stdout",
     "output_type": "stream",
     "text": [
      "(10, 20, [99, 40])\n"
     ]
    }
   ],
   "source": [
    "t = (10, 20, [30, 40])\n",
    "t[2][0] = 99\n",
    "print(t)\n",
    "\n",
    "#It is possbible becuase that list is also a part of tuple's index"
   ]
  },
  {
   "cell_type": "markdown",
   "id": "9218dc8a",
   "metadata": {},
   "source": [
    "# Practice4 (2)"
   ]
  },
  {
   "cell_type": "markdown",
   "id": "556eae1f",
   "metadata": {},
   "source": [
    "#### Given data=(\"a\",\"b\",\"c\",\"a\",\"b\",\"a\")Count how many times \"a\" appears. Find the index of the first \"b\".\n"
   ]
  },
  {
   "cell_type": "code",
   "execution_count": 13,
   "id": "f2cdc1ab",
   "metadata": {},
   "outputs": [
    {
     "name": "stdout",
     "output_type": "stream",
     "text": [
      "3\n",
      "1\n"
     ]
    }
   ],
   "source": [
    "x=(\"a\", \"b\", \"c\", \"a\", \"b\", \"a\")\n",
    "count = 0\n",
    "for i in x:\n",
    "    if i == \"a\":\n",
    "        count += 1\n",
    "print(count)\n",
    "\n",
    "index = x.index('b')\n",
    "print(index)"
   ]
  },
  {
   "cell_type": "markdown",
   "id": "93a86476",
   "metadata": {},
   "source": [
    "# Practice4 (3)"
   ]
  },
  {
   "cell_type": "markdown",
   "id": "670c9d58",
   "metadata": {},
   "source": [
    "#### Given\n",
    "#### students=(\n",
    "#### (\"Alice\",18),\n",
    "#### (\"Bob\", 20),\n",
    "#### (\"Charlie\",19))\n",
    "#### Print all names only , using a loop."
   ]
  },
  {
   "cell_type": "code",
   "execution_count": 14,
   "id": "325946ab",
   "metadata": {},
   "outputs": [
    {
     "name": "stdout",
     "output_type": "stream",
     "text": [
      "Alice\n",
      "Bob\n",
      "Charlie\n"
     ]
    }
   ],
   "source": [
    "x = (\n",
    "    (\"Alice\", 18),\n",
    "    (\"Bob\", 20),\n",
    "    (\"Charlie\", 19))\n",
    "for name, age in x:\n",
    "    print(name)"
   ]
  },
  {
   "cell_type": "markdown",
   "id": "3db644d9",
   "metadata": {},
   "source": [
    "# Practice5(1)\n",
    "#### Given data=[1,2,3,4,5,6,7,8]\n",
    "#### Print every other number (step size=2):"
   ]
  },
  {
   "cell_type": "code",
   "execution_count": 15,
   "id": "dcb52c4b",
   "metadata": {},
   "outputs": [
    {
     "name": "stdout",
     "output_type": "stream",
     "text": [
      "[1, 3, 5, 7]\n"
     ]
    }
   ],
   "source": [
    "a = [1, 2, 3, 4, 5, 6, 7]\n",
    "print(a[::2])"
   ]
  },
  {
   "cell_type": "markdown",
   "id": "ec9c11d9",
   "metadata": {},
   "source": [
    "# Practice5(2)\n",
    "####  Given t =(\"Mon\",\"Tue\", \"Wed\",\"Thu\",\"Fri\", \"Sat\",\"Sun\")\n",
    "#### Print only the weekend days from the tuple."
   ]
  },
  {
   "cell_type": "code",
   "execution_count": 2,
   "id": "feef8707",
   "metadata": {},
   "outputs": [
    {
     "name": "stdout",
     "output_type": "stream",
     "text": [
      "('Sat', 'Sun')\n"
     ]
    }
   ],
   "source": [
    "t = (\"Mon\", \"Tue\", \"Wed\", \"Thu\", \"Fri\", \"Sat\", \"Sun\")\n",
    "print(t[-2:])"
   ]
  },
  {
   "cell_type": "markdown",
   "id": "a303c03d",
   "metadata": {},
   "source": [
    "# Practice5(3)\n",
    "#### Remove the first and last elements from this list using slicing\n",
    "#### letters =[\"A\",\"B\",\"C\",\"D\",\"E\"]"
   ]
  },
  {
   "cell_type": "code",
   "execution_count": 1,
   "id": "0a839239",
   "metadata": {},
   "outputs": [
    {
     "name": "stdout",
     "output_type": "stream",
     "text": [
      "['B', 'C', 'D']\n"
     ]
    }
   ],
   "source": [
    "a = [\"A\", \"B\", \"C\", \"D\", \"E\"]\n",
    "a.remove(\"A\")\n",
    "a.remove(\"E\")\n",
    "print(a)"
   ]
  },
  {
   "cell_type": "markdown",
   "id": "b8cf5d5a",
   "metadata": {},
   "source": [
    "# Practice6\n",
    "#### Objective: Create a functional Python program that allows users to manage and analyze student grades using lists, tuples, and functions."
   ]
  },
  {
   "cell_type": "code",
   "execution_count": null,
   "id": "6ea096bb",
   "metadata": {},
   "outputs": [
    {
     "name": "stdout",
     "output_type": "stream",
     "text": [
      "===== Mini Gradebook Manager =====\n",
      "1. Show last 3 students added\n",
      "2. Add new student\n",
      "3. Update a student's score\n",
      "4. Show all student averages\n",
      "5. Show top-performing students\n",
      "6. Search and show student scores\n",
      "7. Remove student by name\n",
      "8. Print summary report\n",
      "0. Exit\n",
      "\n",
      "Last 3 students added:\n",
      "('Alice', [85, 90, 88])\n",
      "('Bob', [70, 75, 80])\n",
      "('Charlie', [95, 100, 98])\n",
      "\n",
      "===== Mini Gradebook Manager =====\n",
      "1. Show last 3 students added\n",
      "2. Add new student\n",
      "3. Update a student's score\n",
      "4. Show all student averages\n",
      "5. Show top-performing students\n",
      "6. Search and show student scores\n",
      "7. Remove student by name\n",
      "8. Print summary report\n",
      "0. Exit\n",
      "Goodbye!\n"
     ]
    }
   ],
   "source": [
    "students = [\n",
    "    (\"Alice\", [85, 90, 88]),\n",
    "    (\"Bob\", [70, 75, 80]),\n",
    "    (\"Charlie\", [95, 100, 98])\n",
    "]\n",
    "\n",
    "def get_average(scores):\n",
    "    return sum(scores) / len(scores)\n",
    "\n",
    "def add_student(name, scores):\n",
    "    for student in students:\n",
    "        if student[0] == name:\n",
    "            print(\"Student already exists!\")\n",
    "            return\n",
    "    students.append((name, scores))\n",
    "    print(\"Student added successfully!\")\n",
    "\n",
    "def get_all_averages():\n",
    "    avg_list = []\n",
    "    for name, scores in students:\n",
    "        avg = get_average(scores)\n",
    "        avg_list.append((name, avg))\n",
    "    return avg_list\n",
    "\n",
    "def update_score(name, index, new_score):\n",
    "    for i in range(len(students)):\n",
    "        if students[i][0] == name:\n",
    "            if 0 <= index < len(students[i][1]):\n",
    "                students[i][1][index] = new_score\n",
    "                print(\"Score updated!\")\n",
    "                return\n",
    "            else:\n",
    "                print(\"Invalid score index!\")\n",
    "                return\n",
    "    print(\"Student not found!\")\n",
    "\n",
    "def remove_student(name):\n",
    "    for student in students:\n",
    "        if student[0] == name:\n",
    "            students.remove(student)\n",
    "            print(\"Student removed.\")\n",
    "            return\n",
    "    print(\"Student not found.\")\n",
    "\n",
    "def print_student_scores(name):\n",
    "    for student in students:\n",
    "        if student[0] == name:\n",
    "            print(f\"{name}'s scores:\", student[1])\n",
    "            return\n",
    "    print(\"Student not found.\")\n",
    "\n",
    "def print_summary():\n",
    "    print(\"\\n--- Grade Summary Report ---\")\n",
    "    for name, scores in students:\n",
    "        avg = get_average(scores)\n",
    "        print(f\"{name}: Scores = {scores}, Average = {avg:.2f}\")\n",
    "    print(\"-----------------------------\\n\")\n",
    "\n",
    "\n",
    "while True:\n",
    "    print(\"===== Mini Gradebook Manager =====\")\n",
    "    print(\"1. Show last 3 students added\")\n",
    "    print(\"2. Add new student\")\n",
    "    print(\"3. Update a student's score\")\n",
    "    print(\"4. Show all student averages\")\n",
    "    print(\"5. Show top-performing students\")\n",
    "    print(\"6. Search and show student scores\")\n",
    "    print(\"7. Remove student by name\")\n",
    "    print(\"8. Print summary report\")\n",
    "    print(\"0. Exit\")\n",
    "    choice = input(\"Enter your choice: \")\n",
    "\n",
    "    if choice == '1':\n",
    "        print(\"\\nLast 3 students added:\")\n",
    "        for student in students[-3:]:\n",
    "            print(student)\n",
    "        print()\n",
    "    elif choice == '2':\n",
    "        name = input(\"Enter student name: \")\n",
    "        scores_input = input(\"Enter scores separated by spaces: \")\n",
    "        scores = list(map(int, scores_input.split()))\n",
    "        add_student(name, scores)\n",
    "    elif choice == '3':\n",
    "        name = input(\"Enter student name: \")\n",
    "        index = int(input(\"Which score index to update (starting from 0)? \"))\n",
    "        new_score = int(input(\"Enter new score: \"))\n",
    "        update_score(name, index, new_score)\n",
    "    elif choice == '4':\n",
    "        averages = get_all_averages()\n",
    "        for name, avg in averages:\n",
    "            print(f\"{name}: Average = {avg:.2f}\")\n",
    "        print()\n",
    "    elif choice == '5':\n",
    "        averages = get_all_averages()\n",
    "        sorted_avg = sorted(averages, key=lambda x: x[1], reverse=True)\n",
    "        print(\"\\nTop-performing students:\")\n",
    "        for name, avg in sorted_avg:\n",
    "            print(f\"{name}: {avg:.2f}\")\n",
    "        print()\n",
    "    elif choice == '6':\n",
    "        name = input(\"Enter student name to search: \")\n",
    "        print_student_scores(name)\n",
    "    elif choice == '7':\n",
    "        name = input(\"Enter student name to remove: \")\n",
    "        remove_student(name)\n",
    "    elif choice == '8':\n",
    "        print_summary()\n",
    "    elif choice == '0':\n",
    "        print(\"Goodbye!\")\n",
    "        break\n",
    "    else:\n",
    "        print(\"Invalid choice. Please try again.\\n\")\n"
   ]
  }
 ],
 "metadata": {
  "kernelspec": {
   "display_name": "Python 3",
   "language": "python",
   "name": "python3"
  },
  "language_info": {
   "codemirror_mode": {
    "name": "ipython",
    "version": 3
   },
   "file_extension": ".py",
   "mimetype": "text/x-python",
   "name": "python",
   "nbconvert_exporter": "python",
   "pygments_lexer": "ipython3",
   "version": "3.13.2"
  }
 },
 "nbformat": 4,
 "nbformat_minor": 5
}
