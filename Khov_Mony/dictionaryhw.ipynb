{
 "cells": [
  {
   "cell_type": "markdown",
   "id": "6630ffad",
   "metadata": {},
   "source": [
    "# Practice 1\n"
   ]
  },
  {
   "cell_type": "markdown",
   "id": "676bdf99",
   "metadata": {},
   "source": [
    "#### You are given the following dictionary representing students and their scores on a test: \n",
    "#### scores = { \n",
    "#### 'Alice': 85, \n",
    "#### 'Bob': 92, \n",
    "#### 'Charlie': 78, \n",
    "#### 'David': 90, \n",
    "#### 'Eve': 88 \n",
    "#### } \n",
    "#### Write a Python program to: \n",
    "#### Find and print the name(s) of the student(s) with the highest score. \n",
    "#### Calculate and print the average score of the class. \n",
    "#### Create a new dictionary that only includes students who scored at least 80."
   ]
  },
  {
   "cell_type": "code",
   "execution_count": 6,
   "id": "c876e4c1",
   "metadata": {},
   "outputs": [
    {
     "name": "stdout",
     "output_type": "stream",
     "text": [
      "Top scorer is: ['Bob']\n",
      "Average score: 86.6\n",
      "Students who scored at least 80: {'Alice': 85, 'Bob': 92, 'David': 90, 'Eve': 88}\n"
     ]
    }
   ],
   "source": [
    "\n",
    "scores = {\n",
    "    'Alice': 85,\n",
    "    'Bob': 92,\n",
    "    'Charlie': 78,\n",
    "    'David': 90,\n",
    "    'Eve': 88\n",
    "}\n",
    "\n",
    "\n",
    "highest_score = 0\n",
    "for name in scores:\n",
    "    if scores[name] > highest_score:\n",
    "        highest_score = scores[name]\n",
    "\n",
    "\n",
    "top_students = []\n",
    "for name in scores:\n",
    "    if scores[name] == highest_score:\n",
    "        top_students.append(name)\n",
    "\n",
    "print(\"Top scorer is:\", top_students)\n",
    "\n",
    "total = 0\n",
    "count = 0\n",
    "for name in scores:\n",
    "    total = total + scores[name]\n",
    "    count = count + 1\n",
    "\n",
    "average = total / count\n",
    "print(\"Average score:\", average)\n",
    "\n",
    "high_scores = {}\n",
    "for name in scores:\n",
    "    if scores[name] >= 80:\n",
    "        high_scores[name] = scores[name]\n",
    "\n",
    "print(\"Students who scored at least 80:\", high_scores)\n"
   ]
  },
  {
   "cell_type": "markdown",
   "id": "0e7a506c",
   "metadata": {},
   "source": [
    "# Practice 2\n"
   ]
  },
  {
   "cell_type": "markdown",
   "id": "69d5ed82",
   "metadata": {},
   "source": [
    "#### You’re given: \n",
    "#### scores = { \n",
    "#### 'Alice': 85, 'Bob': 92, 'Charlie': 78,  \n",
    "#### 'David': 90, 'Eve': 88, 'Frank': 95, 'Grace': 80 \n",
    "#### } \n",
    "#### Write a program to: \n",
    "#### Find the top 3 students with the highest scores and print their names and \n",
    "#### scores."
   ]
  },
  {
   "cell_type": "code",
   "execution_count": 17,
   "id": "40ee083a",
   "metadata": {},
   "outputs": [
    {
     "name": "stdout",
     "output_type": "stream",
     "text": [
      "Top 3 students are:\n",
      "Frank - 95\n",
      "Bob - 92\n",
      "David - 90\n"
     ]
    }
   ],
   "source": [
    "scores = { \n",
    "'Alice': 85, 'Bob': 92, 'Charlie': 78,  \n",
    "'David': 90, 'Eve': 88, 'Frank': 95, 'Grace': 80 \n",
    "}\n",
    "\n",
    "\n",
    "score_list = []\n",
    "for name in scores:\n",
    "    pair = [name, scores[name]]\n",
    "    score_list.append(pair)\n",
    "\n",
    "for i in range(len(score_list)):\n",
    "    for j in range(i + 1, len(score_list)):\n",
    "        if score_list[j][1] > score_list[i][1]:\n",
    "            temp = score_list[i]\n",
    "            score_list[i] = score_list[j]\n",
    "            score_list[j] = temp\n",
    "\n",
    "\n",
    "print(\"Top 3 students are:\")\n",
    "for i in range(3):\n",
    "    print(score_list[i][0], \"-\", score_list[i][1])\n"
   ]
  },
  {
   "cell_type": "markdown",
   "id": "3cb833c1",
   "metadata": {},
   "source": [
    "# Practice 3\n"
   ]
  },
  {
   "cell_type": "markdown",
   "id": "f2f5e328",
   "metadata": {},
   "source": [
    "#### Given \n",
    "#### data = { \n",
    "#### 'January': {'sales': 1000, 'expenses': 400}, \n",
    "#### 'February': {'sales': 1200, 'expenses': 500}, \n",
    "#### 'March': {'sales': 900, 'expenses': 450} \n",
    "#### } \n",
    "#### Write a program to: \n",
    "#### Compute and print the total sales and total expenses for the quarter. \n",
    "#### Also calculate the profit (sales - expenses) for each month. \n"
   ]
  },
  {
   "cell_type": "code",
   "execution_count": 26,
   "id": "3b0a9e75",
   "metadata": {},
   "outputs": [
    {
     "name": "stdout",
     "output_type": "stream",
     "text": [
      "Total sales: 3100\n",
      "Total expenses: 1350\n",
      "Monthly profits:\n",
      "January profit is: 600\n",
      "February profit is: 700\n",
      "March profit is: 450\n"
     ]
    }
   ],
   "source": [
    "data = { \n",
    "'January': {'sales': 1000, 'expenses': 400}, \n",
    "'February': {'sales': 1200, 'expenses': 500}, \n",
    "'March': {'sales': 900, 'expenses': 450} \n",
    "}\n",
    "\n",
    "sales = []\n",
    "expenses = []\n",
    "months = []\n",
    "\n",
    "for month in data:\n",
    "    months.append(month)\n",
    "    sales.append(data[month]['sales'])\n",
    "    expenses.append(data[month]['expenses'])\n",
    "\n",
    "total_sales = sum(sales)\n",
    "total_expenses = sum(expenses)\n",
    "\n",
    "print(\"Total sales:\", total_sales)\n",
    "print(\"Total expenses:\", total_expenses)\n",
    "print(\"Monthly profits:\")\n",
    "for i in range(len(months)):\n",
    "    profit = sales[i] - expenses[i]\n",
    "    print(months[i] + \" profit is:\", profit)"
   ]
  },
  {
   "cell_type": "markdown",
   "id": "30a6927c",
   "metadata": {},
   "source": [
    "# Practice 4"
   ]
  },
  {
   "cell_type": "markdown",
   "id": "3f86bae8",
   "metadata": {},
   "source": [
    "#### You’re given a list of names: \n",
    "#### names = [\"Anna\", \"Benjamin\", \"Cathy\", \"Dann\", \"Eleanor\", \"Frank\"] \n",
    "#### Write a program to create a dictionary where the keys are name lengths and the values are lists of \n",
    "#### names of that length: \n",
    "#### Expected Output \n",
    "#### { \n",
    "#### } \n",
    "#### 4: ['Anna', 'Dann'], \n",
    "#### 7: ['Benjamin'], \n",
    "#### 5: ['Cathy', 'Frank'], \n",
    "#### 7: ['Eleanor'] "
   ]
  },
  {
   "cell_type": "code",
   "execution_count": 29,
   "id": "e23305f6",
   "metadata": {},
   "outputs": [
    {
     "name": "stdout",
     "output_type": "stream",
     "text": [
      "{4: ['Anna', 'Dann'], 8: ['Benjamin'], 5: ['Cathy', 'Frank'], 7: ['Eleanor']}\n"
     ]
    }
   ],
   "source": [
    "names = [\"Anna\", \"Benjamin\", \"Cathy\", \n",
    "         \"Dann\", \"Eleanor\", \"Frank\"]\n",
    "\n",
    "name_dict = {}\n",
    "for name in names:\n",
    "    length = len(name)\n",
    "    \n",
    "    if length not in name_dict:\n",
    "        name_dict[length] = []\n",
    "\n",
    "    name_dict[length].append(name)\n",
    "\n",
    "print(name_dict)"
   ]
  },
  {
   "cell_type": "markdown",
   "id": "fe6e8f04",
   "metadata": {},
   "source": [
    "# Practice 5\n"
   ]
  },
  {
   "cell_type": "markdown",
   "id": "376ffe55",
   "metadata": {},
   "source": [
    "#### Build a simple console-based student management system that uses Python dictionaries to store \n",
    "#### and manage data about students, their courses, and grades. "
   ]
  },
  {
   "cell_type": "code",
   "execution_count": null,
   "id": "3e01163b",
   "metadata": {},
   "outputs": [
    {
     "name": "stdout",
     "output_type": "stream",
     "text": [
      "=== Student Management System ===\n",
      "1. Add new student\n",
      "2. Add/update course and grade\n",
      "3. Remove a student\n",
      "4. Display all students\n",
      "5. Display average grade for a student\n",
      "6. Find student(s) with highest average grade\n",
      "0. Exit\n",
      "✅ Student added!\n",
      "\n",
      "=== Student Management System ===\n",
      "1. Add new student\n",
      "2. Add/update course and grade\n",
      "3. Remove a student\n",
      "4. Display all students\n",
      "5. Display average grade for a student\n",
      "6. Find student(s) with highest average grade\n",
      "0. Exit\n",
      "ID: S001\n",
      "Name: Kaori\n",
      "Courses and Grades:\n",
      "  No courses yet.\n",
      "------------------------------\n",
      "\n",
      "=== Student Management System ===\n",
      "1. Add new student\n",
      "2. Add/update course and grade\n",
      "3. Remove a student\n",
      "4. Display all students\n",
      "5. Display average grade for a student\n",
      "6. Find student(s) with highest average grade\n",
      "0. Exit\n",
      "👋 Exiting. Goodbye!\n"
     ]
    }
   ],
   "source": [
    "students = {}\n",
    "\n",
    "\n",
    "def add_student():\n",
    "    sid = input(\"Enter student ID: \")\n",
    "    if sid in students:\n",
    "        print(\"Student ID already exists.\")\n",
    "        return\n",
    "    name = input(\"Enter full name: \")\n",
    "    students[sid] = {\n",
    "        'name': name,\n",
    "        'courses': {}\n",
    "    }\n",
    "    print(\"✅ Student added!\\n\")\n",
    "\n",
    "\n",
    "def add_or_update_course():\n",
    "    sid = input(\"Enter student ID: \")\n",
    "    if sid not in students:\n",
    "        print(\"Student not found.\")\n",
    "        return\n",
    "    course = input(\"Enter course name: \")\n",
    "    grade = int(input(\"Enter grade (0–100): \"))\n",
    "    students[sid]['courses'][course] = grade\n",
    "    print(\"Course added/updated!\\n\")\n",
    "\n",
    "def remove_student():\n",
    "    sid = input(\"Enter student ID to remove: \")\n",
    "    if sid in students:\n",
    "        del students[sid]\n",
    "        print(\" Student removed.\\n\")\n",
    "    else:\n",
    "        print(\" Student ID not found.\\n\")\n",
    "\n",
    "\n",
    "def display_all():\n",
    "    if not students:\n",
    "        print(\" No students in the system.\\n\")\n",
    "        return\n",
    "    for sid, info in students.items():\n",
    "        print(\"ID:\", sid)\n",
    "        print(\"Name:\", info['name'])\n",
    "        print(\"Courses and Grades:\")\n",
    "        if not info['courses']:\n",
    "            print(\"  No courses yet.\")\n",
    "        else:\n",
    "            for course, grade in info['courses'].items():\n",
    "                print(f\"  {course}: {grade}\")\n",
    "        print(\"-\" * 30)\n",
    "    print()\n",
    "\n",
    "\n",
    "def average_grade():\n",
    "    sid = input(\"Enter student ID: \")\n",
    "    if sid not in students:\n",
    "        print(\" Student not found.\\n\")\n",
    "        return\n",
    "    courses = students[sid]['courses']\n",
    "    if not courses:\n",
    "        print(\" No courses to calculate average.\\n\")\n",
    "        return\n",
    "    total = sum(courses.values())\n",
    "    count = len(courses)\n",
    "    avg = total / count\n",
    "    print(f\"Average grade for {students[sid]['name']} is {avg:.2f}\\n\")\n",
    "\n",
    "\n",
    "def top_student():\n",
    "    highest_avg = -1\n",
    "    top_students = []\n",
    "\n",
    "    for sid, info in students.items():\n",
    "        if info['courses']:\n",
    "            total = sum(info['courses'].values())\n",
    "            count = len(info['courses'])\n",
    "            avg = total / count\n",
    "\n",
    "            if avg > highest_avg:\n",
    "                highest_avg = avg\n",
    "                top_students = [info['name']]\n",
    "            elif avg == highest_avg:\n",
    "                top_students.append(info['name'])\n",
    "\n",
    "    if top_students:\n",
    "        print(f\"Top student(s) with highest average ({highest_avg:.2f}):\")\n",
    "        for name in top_students:\n",
    "            print(\"-\", name)\n",
    "        print()\n",
    "    else:\n",
    "        print(\" No students with any grades yet.\\n\")\n",
    "\n",
    "\n",
    "while True:\n",
    "    print(\"=== Student Management System ===\")\n",
    "    print(\"1. Add new student\")\n",
    "    print(\"2. Add/update course and grade\")\n",
    "    print(\"3. Remove a student\")\n",
    "    print(\"4. Display all students\")\n",
    "    print(\"5. Display average grade for a student\")\n",
    "    print(\"6. Find student(s) with highest average grade\")\n",
    "    print(\"0. Exit\")\n",
    "    choice = input(\"Enter your choice: \")\n",
    "\n",
    "    if choice == '1':\n",
    "        add_student()\n",
    "    elif choice == '2':\n",
    "        add_or_update_course()\n",
    "    elif choice == '3':\n",
    "        remove_student()\n",
    "    elif choice == '4':\n",
    "        display_all()\n",
    "    elif choice == '5':\n",
    "        average_grade()\n",
    "    elif choice == '6':\n",
    "        top_student()\n",
    "    elif choice == '0':\n",
    "        print(\"Exiting. Goodbye!\")\n",
    "        break\n",
    "    else:\n",
    "        print(\"Invalid choice. Try again.\\n\")\n"
   ]
  }
 ],
 "metadata": {
  "kernelspec": {
   "display_name": "Python 3",
   "language": "python",
   "name": "python3"
  },
  "language_info": {
   "codemirror_mode": {
    "name": "ipython",
    "version": 3
   },
   "file_extension": ".py",
   "mimetype": "text/x-python",
   "name": "python",
   "nbconvert_exporter": "python",
   "pygments_lexer": "ipython3",
   "version": "3.13.2"
  }
 },
 "nbformat": 4,
 "nbformat_minor": 5
}
