{
 "cells": [
  {
   "cell_type": "markdown",
   "id": "3e216ec8",
   "metadata": {},
   "source": [
    "# Practice1"
   ]
  },
  {
   "cell_type": "code",
   "execution_count": 11,
   "id": "be16a30f",
   "metadata": {},
   "outputs": [
    {
     "name": "stdout",
     "output_type": "stream",
     "text": [
      "the fist country of the list is Cambodia\n"
     ]
    }
   ],
   "source": [
    "countries= [\"Cambodia\", \"China\", \"Vietnam\", \"Laos\"]\n",
    "print(\"the fist country of the list is\", countries[0])"
   ]
  },
  {
   "cell_type": "code",
   "execution_count": 12,
   "id": "fdd57814",
   "metadata": {},
   "outputs": [
    {
     "name": "stdout",
     "output_type": "stream",
     "text": [
      "the last animal is hamster\n"
     ]
    }
   ],
   "source": [
    "animals= [\"dog\", \"cat\", \"rabbit\", \"hamster\"]\n",
    "print(\"the last animal is\", animals[-1])"
   ]
  },
  {
   "cell_type": "markdown",
   "id": "e019cf79",
   "metadata": {},
   "source": [
    "# Practice2"
   ]
  },
  {
   "cell_type": "code",
   "execution_count": 21,
   "id": "8d60a94f",
   "metadata": {},
   "outputs": [
    {
     "name": "stdout",
     "output_type": "stream",
     "text": [
      "['apple', 'mango', 'cherry']\n"
     ]
    }
   ],
   "source": [
    "fruits= [\"apple\", \"banana\", \"cherry\"]\n",
    "fruits[1]= \"mango\"\n",
    "print(fruits)"
   ]
  },
  {
   "cell_type": "code",
   "execution_count": 22,
   "id": "daad344a",
   "metadata": {},
   "outputs": [
    {
     "name": "stdout",
     "output_type": "stream",
     "text": [
      "[100, 2, 3] [100, 2, 3]\n"
     ]
    }
   ],
   "source": [
    "a=[1,2,3]\n",
    "b= a\n",
    "b[0]= 100\n",
    "print(a,b)\n"
   ]
  },
  {
   "cell_type": "markdown",
   "id": "acd60f13",
   "metadata": {},
   "source": [
    "# Practice3"
   ]
  },
  {
   "cell_type": "code",
   "execution_count": 24,
   "id": "0a70a272",
   "metadata": {},
   "outputs": [
    {
     "name": "stdout",
     "output_type": "stream",
     "text": [
      "('Alice Smith', 'Bob Lee')\n"
     ]
    }
   ],
   "source": [
    "first_name = [\"Alice\", \"Bob\"]\n",
    "last_name = [\"Smith\", \"Lee\"]\n",
    "name= first_name[0]+\" \"+last_name[0], first_name[1]+\" \"+last_name[1]\n",
    "print(name)"
   ]
  },
  {
   "cell_type": "code",
   "execution_count": 25,
   "id": "2c730c1d",
   "metadata": {},
   "outputs": [
    {
     "name": "stdout",
     "output_type": "stream",
     "text": [
      "('A', '1', 'B', '2', 'C', '3')\n"
     ]
    }
   ],
   "source": [
    "a= [\"A\",\"B\",\"C\"]\n",
    "b= [\"1\",\"2\",\"3\"]\n",
    "list = a[0],b[0], a[1], b[1], a[2], b[2]\n",
    "print(list)"
   ]
  },
  {
   "cell_type": "code",
   "execution_count": 26,
   "id": "5fdf0153",
   "metadata": {},
   "outputs": [
    {
     "name": "stdout",
     "output_type": "stream",
     "text": [
      "(44, 55, 66, 11, 22, 33)\n"
     ]
    }
   ],
   "source": [
    "nums= [11, 22, 33, 44, 55, 66]\n",
    "result=nums[3], nums[4], nums[5], nums[0], nums[1], nums[2]\n",
    "print(result)"
   ]
  },
  {
   "cell_type": "markdown",
   "id": "67ff6316",
   "metadata": {},
   "source": [
    "# Practice4"
   ]
  },
  {
   "cell_type": "code",
   "execution_count": 37,
   "id": "f53fc6f4",
   "metadata": {},
   "outputs": [
    {
     "name": "stdout",
     "output_type": "stream",
     "text": [
      "Name is:Amanda, Age is 19, Grade is [80, 90, 87]\n"
     ]
    }
   ],
   "source": [
    "student_tuple = (\"Amanda\", 19, [80, 90, 87])\n",
    "Name, age, grade = student_tuple\n",
    "print(f\"Name is:{Name}, Age is {age}, Grade is {grade}\")"
   ]
  },
  {
   "cell_type": "code",
   "execution_count": 39,
   "id": "2d6bce7b",
   "metadata": {},
   "outputs": [
    {
     "name": "stdout",
     "output_type": "stream",
     "text": [
      "(10, 20, [99, 40])\n"
     ]
    }
   ],
   "source": [
    "t = (10, 20, [30, 40])\n",
    "t[2][0]= 99\n",
    "print(t)"
   ]
  },
  {
   "cell_type": "markdown",
   "id": "c3657cdd",
   "metadata": {},
   "source": [
    "we can change 30 to 99 because it is a list inside the tuple, lists are mutable"
   ]
  },
  {
   "cell_type": "code",
   "execution_count": 45,
   "id": "584437a3",
   "metadata": {},
   "outputs": [
    {
     "name": "stdout",
     "output_type": "stream",
     "text": [
      "\"a\" appears 3 times.\n",
      "The first \"b\" is at index 1.\n"
     ]
    }
   ],
   "source": [
    "data = (\"a\", \"b\", \"c\", \"a\", \"b\", \"a\")\n",
    "count_a = data.count(\"a\")\n",
    "index_b = data.index(\"b\")\n",
    "print(f'\"a\" appears {count_a} times.')\n",
    "print(f'The first \"b\" is at index {index_b}.')\n"
   ]
  },
  {
   "cell_type": "code",
   "execution_count": 46,
   "id": "53520a88",
   "metadata": {},
   "outputs": [
    {
     "name": "stdout",
     "output_type": "stream",
     "text": [
      "Alice\n",
      "Bob\n",
      "Charlie\n"
     ]
    }
   ],
   "source": [
    "students = (\n",
    "(\"Alice\", 18),\n",
    "(\"Bob\", 20),\n",
    "(\"Charlie\", 19))\n",
    "for student in students:\n",
    "    print(student[0])"
   ]
  },
  {
   "cell_type": "markdown",
   "id": "0d1e0ad5",
   "metadata": {},
   "source": [
    "# practice5 "
   ]
  },
  {
   "cell_type": "code",
   "execution_count": 77,
   "id": "2132035e",
   "metadata": {},
   "outputs": [
    {
     "name": "stdout",
     "output_type": "stream",
     "text": [
      "[1, 3, 5, 7]\n"
     ]
    }
   ],
   "source": [
    "data = [1, 2, 3, 4, 5, 6, 7, 8]\n",
    "print(data[::2])"
   ]
  },
  {
   "cell_type": "code",
   "execution_count": 78,
   "id": "36e6d2d7",
   "metadata": {},
   "outputs": [
    {
     "name": "stdout",
     "output_type": "stream",
     "text": [
      "('Sat', 'Sun')\n"
     ]
    }
   ],
   "source": [
    "t = (\"Mon\", \"Tue\", \"Wed\", \"Thu\", \"Fri\", \"Sat\", \"Sun\")\n",
    "print(t[5:])"
   ]
  },
  {
   "cell_type": "code",
   "execution_count": 80,
   "id": "059338f5",
   "metadata": {},
   "outputs": [
    {
     "name": "stdout",
     "output_type": "stream",
     "text": [
      "['B', 'C', 'D']\n"
     ]
    }
   ],
   "source": [
    "letters = [\"A\", \"B\", \"C\", \"D\", \"E\"]\n",
    "print(letters[1:4])"
   ]
  },
  {
   "cell_type": "markdown",
   "id": "1dd376b2",
   "metadata": {},
   "source": [
    "# Practice6"
   ]
  },
  {
   "cell_type": "code",
   "execution_count": 155,
   "id": "ebf12abe",
   "metadata": {},
   "outputs": [
    {
     "name": "stdout",
     "output_type": "stream",
     "text": [
      "[('Alice', [85, 90, 88])]\n",
      "Alice's average score is 87.66666666666667\n",
      "Bob's average score is 75.0\n",
      "Charlie's average score is 97.66666666666667\n",
      "[('Alice', [85, 90, 88]), ('Bob', [70, 75, 80]), ('Charlie', [95, 100, 98]), ('Mary', [100, 99, 98])]\n",
      "[('Alice', 87.66666666666667), ('Bob', 75.0), ('Charlie', 97.66666666666667), ('Mary', 99.0)]\n",
      "Top-Performing students:\n",
      "Mary: Average = 99.0\n",
      "Charlie: Average = 97.66666666666667\n",
      "Alice: Average = 87.66666666666667\n",
      "Bob: Average = 75.0\n",
      "Score updated for Alice. New scores: ('Bob', [70, 75, 80])\n",
      "[('Alice', [85, 95, 88]), ('Bob', [70, 75, 80]), ('Charlie', [95, 100, 98]), ('Mary', [100, 99, 98])]\n",
      "Mary's scores are: [100, 99, 98]\n"
     ]
    }
   ],
   "source": [
    "\n",
    "students = [\n",
    "    (\"Alice\", [85, 90, 88]),\n",
    "    (\"Bob\", [70, 75, 80]),\n",
    "    (\"Charlie\", [95, 100, 98])\n",
    "]\n",
    "print(students[0:1])\n",
    "def get_average(scores):\n",
    "     return sum(scores)/len(scores)\n",
    "for student in students:\n",
    "     name = student[0]\n",
    "     scores = student[1]\n",
    "     average = get_average(scores)\n",
    "     print(f\"{name}'s average score is {average}\")\n",
    "def add_student(name, scores):\n",
    "    for student in students:\n",
    "         if student[0].lower()== name.lower():\n",
    "              print(f\"student '{name}' already exists.\")\n",
    "    return students.append((name, scores))\n",
    "add_student(\"Mary\", [100, 99, 98])\n",
    "print(students)\n",
    "def get_all_averages(students):\n",
    "    averages = []\n",
    "    for student in students:\n",
    "         name = student[0]\n",
    "         scores = student[1]\n",
    "         averages.append((name, get_average(scores)))\n",
    "    return averages \n",
    "print(get_all_averages(students))\n",
    "def display_top_students():\n",
    "     averages = get_all_averages(students)\n",
    "     sorted_students = sorted(averages,key=lambda x: x[1],reverse=True)\n",
    "     print(\"Top-Performing students:\")\n",
    "     for name, avg in sorted_students:\n",
    "        print(f\"{name}: Average = {avg}\")\n",
    "display_top_students()\n",
    "def update_score(name, index, new_score):\n",
    "    for student in students:\n",
    "        if student[0] == name:\n",
    "            student[1][index] = new_score\n",
    "            print(f\"Score updated for {name}. New scores: {students[1]}\")\n",
    "            return\n",
    "update_score(\"Alice\", 1, 95)\n",
    "print(students)\n",
    "name = input(\"Enter the student name: \")\n",
    "found = False  \n",
    "for student in students:\n",
    "    if student[0] == name:  \n",
    "        print(f\"{student[0]}'s scores are: {student[1]}\")\n",
    "        found = True\n",
    "        break\n",
    "if not found:\n",
    "    print(f\"Student '{name}' not found.\")\n"
   ]
  }
 ],
 "metadata": {
  "kernelspec": {
   "display_name": "Python 3",
   "language": "python",
   "name": "python3"
  },
  "language_info": {
   "codemirror_mode": {
    "name": "ipython",
    "version": 3
   },
   "file_extension": ".py",
   "mimetype": "text/x-python",
   "name": "python",
   "nbconvert_exporter": "python",
   "pygments_lexer": "ipython3",
   "version": "3.9.6"
  }
 },
 "nbformat": 4,
 "nbformat_minor": 5
}
