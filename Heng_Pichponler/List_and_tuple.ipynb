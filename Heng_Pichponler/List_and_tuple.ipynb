{
 "cells": [
  {
   "cell_type": "markdown",
   "id": "3a0fdf14",
   "metadata": {},
   "source": [
    "# Practice 1"
   ]
  },
  {
   "cell_type": "markdown",
   "id": "e652ab1c",
   "metadata": {},
   "source": [
    "##### Create a list of 4 countries: [\"Cambodia\", \"China\", \"Vietnam\", \"Laos\"] Print the first country in the list."
   ]
  },
  {
   "cell_type": "code",
   "execution_count": 4,
   "id": "75549cdc",
   "metadata": {},
   "outputs": [
    {
     "name": "stdout",
     "output_type": "stream",
     "text": [
      "Cambodia\n"
     ]
    }
   ],
   "source": [
    "my_list = [\"Cambodia\", \"China\", \"Vietnam\", \"Laos\"]\n",
    "print(my_list[0])"
   ]
  },
  {
   "cell_type": "markdown",
   "id": "c0d0cbb8",
   "metadata": {},
   "source": [
    "#### Create a list of animals: [\"dog\", \"cat\", \"rabbit\", \"hamster\"] Print the last animal using negative indexing."
   ]
  },
  {
   "cell_type": "code",
   "execution_count": 5,
   "id": "5e3ca55a",
   "metadata": {},
   "outputs": [
    {
     "name": "stdout",
     "output_type": "stream",
     "text": [
      "hamster\n"
     ]
    }
   ],
   "source": [
    "animal =  [\"dog\", \"cat\", \"rabbit\", \"hamster\"]\n",
    "print(animal[-1])"
   ]
  },
  {
   "cell_type": "markdown",
   "id": "c197ef86",
   "metadata": {},
   "source": [
    "# Practice 2"
   ]
  },
  {
   "cell_type": "markdown",
   "id": "473cfbab",
   "metadata": {},
   "source": [
    "#### Create a list of Fruits: [\"apple\", \"banana\", \"cherry\"]. Change \"banana\" to \"mango\" and print the list."
   ]
  },
  {
   "cell_type": "code",
   "execution_count": 6,
   "id": "0522a209",
   "metadata": {},
   "outputs": [
    {
     "name": "stdout",
     "output_type": "stream",
     "text": [
      "['apple', 'mango', 'cherry']\n"
     ]
    }
   ],
   "source": [
    "fruits =  [\"apple\", \"banana\", \"cherry\"]\n",
    "fruits[1] = \"mango\"\n",
    "print(fruits)"
   ]
  },
  {
   "cell_type": "markdown",
   "id": "0d058425",
   "metadata": {},
   "source": [
    "#### Create a list called a = [1, 2, 3]\n",
    "#### Assign b = a\n",
    "#### Then set b[0] = 100\n",
    "#### Print both a and b."
   ]
  },
  {
   "cell_type": "code",
   "execution_count": null,
   "id": "eeb15534",
   "metadata": {},
   "outputs": [
    {
     "name": "stdout",
     "output_type": "stream",
     "text": [
      "[100, 2, 3] [100, 2, 3]\n"
     ]
    }
   ],
   "source": [
    "a = [1, 2, 3]\n",
    "b = a\n",
    "b[0] = 100\n",
    "print(a, b)"
   ]
  },
  {
   "cell_type": "markdown",
   "id": "a11b72bb",
   "metadata": {},
   "source": [
    "# Practice 3"
   ]
  },
  {
   "cell_type": "markdown",
   "id": "29cfd4c2",
   "metadata": {},
   "source": [
    "#### Given two lists. Write code to print: [\"Alice Smith\",\"Bob Lee\"].Use element access and +."
   ]
  },
  {
   "cell_type": "code",
   "execution_count": null,
   "id": "8aa172e7",
   "metadata": {},
   "outputs": [
    {
     "name": "stdout",
     "output_type": "stream",
     "text": [
      "['Alice Smith', 'Bob Lee']\n"
     ]
    }
   ],
   "source": [
    "first_names=[\"Alice\",\"Bob\"]\n",
    "last_names=[\"Smith\",\"Lee\"]\n",
    "first = first_names[0] + ' ' + last_names[0]\n",
    "second = first_names[1] + ' ' + last_names[1]\n",
    "name = [first, second]\n",
    "print(name)"
   ]
  },
  {
   "cell_type": "markdown",
   "id": "9ae4bd94",
   "metadata": {},
   "source": [
    "#### Given\n",
    "##### a =[\"A\",\"B\",\"C\"]\n",
    "##### b =[\"1\",\"2\",\"3\"]"
   ]
  },
  {
   "cell_type": "code",
   "execution_count": 23,
   "id": "bcd65707",
   "metadata": {},
   "outputs": [
    {
     "name": "stdout",
     "output_type": "stream",
     "text": [
      "['A', '1', 'B', '2', 'C', '3']\n"
     ]
    }
   ],
   "source": [
    "a = [\"A\", \"B\", \"C\"]\n",
    "b = [\"1\", \"2\", \"3\"]\n",
    "c = []\n",
    "for i in range(3):\n",
    "    c.append(a[i])\n",
    "    c.append(b[i])\n",
    "print(c)"
   ]
  },
  {
   "cell_type": "markdown",
   "id": "189b1460",
   "metadata": {},
   "source": [
    "#### Given nums=[11, 22, 33, 44, 55, 66]\n",
    "#### Split the list into 2 halves and swap their positions. Final result: [44,55,66,11, 22,33]"
   ]
  },
  {
   "cell_type": "code",
   "execution_count": 21,
   "id": "0281feb2",
   "metadata": {},
   "outputs": [
    {
     "name": "stdout",
     "output_type": "stream",
     "text": [
      "[44, 55, 66, 11, 22, 33]\n"
     ]
    }
   ],
   "source": [
    "nums = [11, 22, 33, 44, 55, 66]\n",
    "num1 = nums[0:3]\n",
    "num2 = nums[3:]\n",
    "num3 = num2 + num1\n",
    "print(num3)"
   ]
  },
  {
   "cell_type": "markdown",
   "id": "4b2cec5b",
   "metadata": {},
   "source": [
    "# Practice 4"
   ]
  },
  {
   "cell_type": "markdown",
   "id": "f6d34e19",
   "metadata": {},
   "source": [
    "#### Given t =(10,20, [30, 40])\n",
    "#### Change the value 30 to 99. Is it possible? Explain your answer"
   ]
  },
  {
   "cell_type": "code",
   "execution_count": null,
   "id": "5e41a650",
   "metadata": {},
   "outputs": [
    {
     "name": "stdout",
     "output_type": "stream",
     "text": [
      "(10, 20, [99, 40])\n"
     ]
    }
   ],
   "source": [
    "t = (10, 20, [30, 40])\n",
    "a, b, c = t\n",
    "c[0] = 99\n",
    "print(t)\n",
    "# It is possible. We just need to unpack it then access the list by using its index. Next change list item 30 to 99."
   ]
  },
  {
   "cell_type": "markdown",
   "id": "5749f04b",
   "metadata": {},
   "source": [
    "####  Given data=(\"a\",\"b\",\"c\",\"a\",\"b\",\"a\") Count how many times \"a\" appears.Find the index of the first \"b\"."
   ]
  },
  {
   "cell_type": "code",
   "execution_count": 17,
   "id": "dc82bc36",
   "metadata": {},
   "outputs": [
    {
     "name": "stdout",
     "output_type": "stream",
     "text": [
      "3\n",
      "1\n"
     ]
    }
   ],
   "source": [
    "data = (\"a\", \"b\", \"c\", \"a\", \"b\", \"a\")\n",
    "# Count how many times 'a' appears\n",
    "count = 0\n",
    "for i in data:\n",
    "    if i == \"a\":\n",
    "        count += 1\n",
    "print(count)\n",
    "# Find the index of the first 'b'\n",
    "index = data.index('b')\n",
    "print(index)"
   ]
  },
  {
   "cell_type": "markdown",
   "id": "302da414",
   "metadata": {},
   "source": [
    "####  Given students=((\"Alice\",18),(\"Bob\", 20),(\"Charlie\",19))\n",
    "#### Print all names only,using a loop."
   ]
  },
  {
   "cell_type": "code",
   "execution_count": 18,
   "id": "2b3d8b31",
   "metadata": {},
   "outputs": [
    {
     "name": "stdout",
     "output_type": "stream",
     "text": [
      "Alice\n",
      "Bob\n",
      "Charlie\n"
     ]
    }
   ],
   "source": [
    "students=(\n",
    " (\"Alice\",18),\n",
    " (\"Bob\", 20),\n",
    " (\"Charlie\",19))\n",
    "for name, age in students:\n",
    "    print(name)"
   ]
  },
  {
   "cell_type": "markdown",
   "id": "9bb1440a",
   "metadata": {},
   "source": [
    "# Practice 5"
   ]
  },
  {
   "cell_type": "markdown",
   "id": "819b6922",
   "metadata": {},
   "source": [
    "####  Given data=[1, 2, 3, 4, 5, 6, 7, 8] Print every other number (step size=2)"
   ]
  },
  {
   "cell_type": "code",
   "execution_count": 19,
   "id": "43436fca",
   "metadata": {},
   "outputs": [
    {
     "name": "stdout",
     "output_type": "stream",
     "text": [
      "[1, 3, 5, 7]\n"
     ]
    }
   ],
   "source": [
    "data = [1, 2, 3, 4, 5, 6, 7, 8]\n",
    "print(data[::2])"
   ]
  },
  {
   "cell_type": "markdown",
   "id": "c46b121e",
   "metadata": {},
   "source": [
    "####  Given t =(\"Mon\",\"Tue\", \"Wed\",\"Thu\",\"Fri\", \"Sat\",\"Sun\") Print only the weekend days from the tuple."
   ]
  },
  {
   "cell_type": "code",
   "execution_count": 21,
   "id": "0807815a",
   "metadata": {},
   "outputs": [
    {
     "name": "stdout",
     "output_type": "stream",
     "text": [
      "('Sat', 'Sun')\n"
     ]
    }
   ],
   "source": [
    "t = (\"Mon\",\"Tue\", \"Wed\",\"Thu\",\"Fri\", \"Sat\",\"Sun\")\n",
    "print(t[5:])"
   ]
  },
  {
   "cell_type": "markdown",
   "id": "0a392bf8",
   "metadata": {},
   "source": [
    "####  Remove the first and last elements from this list using slicing: letters =[\"A\", \"B\",\"C\",\"D\",\"E\"]"
   ]
  },
  {
   "cell_type": "code",
   "execution_count": 22,
   "id": "bc89507d",
   "metadata": {},
   "outputs": [
    {
     "name": "stdout",
     "output_type": "stream",
     "text": [
      "['B', 'C', 'D']\n"
     ]
    }
   ],
   "source": [
    "letters =[\"A\",\"B\",\"C\",\"D\",\"E\"]\n",
    "print(letters[1:4])"
   ]
  },
  {
   "cell_type": "markdown",
   "id": "075b29cc",
   "metadata": {},
   "source": [
    "# Practice 6"
   ]
  },
  {
   "cell_type": "markdown",
   "id": "46dbac92",
   "metadata": {},
   "source": [
    "####  Create a functional Python program that allows users to manage and analyze student grades using lists, tuples, and functions."
   ]
  },
  {
   "cell_type": "code",
   "execution_count": null,
   "id": "07984d17",
   "metadata": {},
   "outputs": [],
   "source": []
  }
 ],
 "metadata": {
  "kernelspec": {
   "display_name": "Python 3",
   "language": "python",
   "name": "python3"
  },
  "language_info": {
   "codemirror_mode": {
    "name": "ipython",
    "version": 3
   },
   "file_extension": ".py",
   "mimetype": "text/x-python",
   "name": "python",
   "nbconvert_exporter": "python",
   "pygments_lexer": "ipython3",
   "version": "3.13.2"
  }
 },
 "nbformat": 4,
 "nbformat_minor": 5
}
