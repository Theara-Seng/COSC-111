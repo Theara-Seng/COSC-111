{
 "cells": [
  {
   "cell_type": "markdown",
   "id": "1449121c",
   "metadata": {},
   "source": [
    "# Practice 1"
   ]
  },
  {
   "cell_type": "markdown",
   "id": "26b45758",
   "metadata": {},
   "source": [
    "##### You are given the following dictionary representing students and their scores on a test: \n",
    "##### scores = { \n",
    "##### 'Alice': 85, \n",
    "##### 'Bob': 92, \n",
    "##### 'Charlie': 78, \n",
    "##### 'David': 90, \n",
    "##### 'Eve': 88 \n",
    "##### } \n",
    "##### Write a Python program to: \n",
    "##### • Find and print the name(s) of the student(s) with the highest score. \n",
    "##### • Calculate and print the average score of the class. \n",
    "##### • Create a new dictionary that only includes students who scored at least 80. "
   ]
  },
  {
   "cell_type": "code",
   "execution_count": 7,
   "id": "69507b5b",
   "metadata": {},
   "outputs": [
    {
     "name": "stdout",
     "output_type": "stream",
     "text": [
      "Student with the highest score is Bob: 92\n",
      "Class average score: 86.60\n",
      "Students who scored at least 80 are: \n",
      "- Alice: 85\n",
      "- Bob: 92\n",
      "- David: 90\n",
      "- Eve: 88\n"
     ]
    }
   ],
   "source": [
    "scores = { \n",
    "'Alice': 85, \n",
    "'Bob': 92, \n",
    "'Charlie': 78, \n",
    "'David': 90, \n",
    "'Eve': 88 \n",
    "}\n",
    "# Find and print the name of the student with the highest socre\n",
    "highest_score = max(scores.values())\n",
    "for name, score in scores.items():\n",
    "    if score == highest_score:\n",
    "        print(f\"Student with the highest score is {name}: {score}\")\n",
    "# Calculate and print the average score of the class\n",
    "total_score = sum(scores.values())\n",
    "average_score = total_score / len(scores)\n",
    "print(f\"Class average score: {average_score:.2f}\")\n",
    "#  Create a new dictionary that only includes students who scored at least 80\n",
    "above_80 = {}\n",
    "for name, score in scores.items():\n",
    "    if score >= 80:\n",
    "        above_80[name] = score\n",
    "print(f\"Students who scored at least 80 are: \")\n",
    "for name, score in above_80.items():\n",
    "    print(f\"- {name}: {score}\")"
   ]
  },
  {
   "cell_type": "markdown",
   "id": "eada6bc3",
   "metadata": {},
   "source": [
    "# Practice 2\n",
    "##### You’re given: \n",
    "##### scores = { \n",
    "##### 'Alice': 85, 'Bob': 92, 'Charlie': 78,  \n",
    "##### 'David': 90, 'Eve': 88, 'Frank': 95, 'Grace': 80 \n",
    "##### } \n",
    "##### Write a program to: \n",
    "##### • Find the top 3 students with the highest scores and print their names and scores. "
   ]
  },
  {
   "cell_type": "code",
   "execution_count": 9,
   "id": "5185dbfc",
   "metadata": {},
   "outputs": [
    {
     "name": "stdout",
     "output_type": "stream",
     "text": [
      "The top 3 students are: \n",
      "- Frank: 95\n",
      "- Bob: 92\n",
      "- David: 90\n"
     ]
    }
   ],
   "source": [
    "scores = { \n",
    "'Alice': 85, 'Bob': 92, 'Charlie': 78,  \n",
    "'David': 90, 'Eve': 88, 'Frank': 95, 'Grace': 80 \n",
    "}\n",
    "sorted_scores = sorted(scores.items(), key=lambda item: item[1], reverse=True)\n",
    "top3 = sorted_scores[:3]\n",
    "print(f\"The top 3 students are: \")\n",
    "for name, score in top3:\n",
    "    print(f\"- {name}: {score}\")"
   ]
  },
  {
   "cell_type": "markdown",
   "id": "1b21bfd0",
   "metadata": {},
   "source": [
    "# Practice 3\n",
    "##### Given \n",
    "##### data = { \n",
    "##### 'January': {'sales': 1000, 'expenses': 400}, \n",
    "##### 'February': {'sales': 1200, 'expenses': 500}, \n",
    "##### 'March': {'sales': 900, 'expenses': 450} \n",
    "##### } \n",
    "##### Write a program to: \n",
    "##### • Compute and print the total sales and total expenses for the quarter. \n",
    "##### • Also calculate the profit (sales - expenses) for each month. \n"
   ]
  },
  {
   "cell_type": "code",
   "execution_count": 14,
   "id": "03df3d7a",
   "metadata": {},
   "outputs": [
    {
     "name": "stdout",
     "output_type": "stream",
     "text": [
      "Monthly Profits:\n",
      "- January: Profit = 600\n",
      "- February: Profit = 700\n",
      "- March: Profit = 450\n",
      "Total sales is 3100 \n",
      "Total expenses is 1350\n"
     ]
    }
   ],
   "source": [
    "data = { \n",
    "'January': {'sales': 1000, 'expenses': 400}, \n",
    "'February': {'sales': 1200, 'expenses': 500}, \n",
    "'March': {'sales': 900, 'expenses': 450} \n",
    "}\n",
    "total_sales = 0\n",
    "total_expenses = 0\n",
    "print(\"Monthly Profits:\")\n",
    "for month, info in data.items():\n",
    "    sales = info['sales']\n",
    "    expenses = info['expenses']\n",
    "    profit = sales - expenses\n",
    "    print(f\"- {month}: Profit = {profit}\")\n",
    "    # Total sales and expenses\n",
    "    total_sales += sales\n",
    "    total_expenses += expenses\n",
    "print(f\"Total sales is {total_sales} \\nTotal expenses is {total_expenses}\")\n"
   ]
  },
  {
   "cell_type": "markdown",
   "id": "48fcf6ee",
   "metadata": {},
   "source": [
    "# Practice 4\n",
    "##### You’re given a list of names: \n",
    "##### names = [\"Anna\", \"Benjamin\", \"Cathy\", \"Dann\", \"Eleanor\", \"Frank\"] \n",
    "##### Write a program to create a dictionary where the keys are name lengths and the values are lists of \n",
    "##### names of that length: \n",
    "##### Expected Output \n",
    "##### {4: ['Anna', 'Dann'], 7: ['Benjamin'], 5: ['Cathy', 'Frank'], 7: ['Eleanor']}"
   ]
  },
  {
   "cell_type": "code",
   "execution_count": 15,
   "id": "bd9cbdd4",
   "metadata": {},
   "outputs": [
    {
     "name": "stdout",
     "output_type": "stream",
     "text": [
      "{4: ['Anna', 'Dann'], 8: ['Benjamin'], 5: ['Cathy', 'Frank'], 7: ['Eleanor']}\n"
     ]
    }
   ],
   "source": [
    "names = [\"Anna\", \"Benjamin\", \"Cathy\", \"Dann\", \"Eleanor\", \"Frank\"]\n",
    "name_lengths = {}\n",
    "for name in names:\n",
    "    length = len(name)\n",
    "    if length not in name_lengths:\n",
    "        name_lengths[length] = []\n",
    "    name_lengths[length].append(name)\n",
    "print(name_lengths)"
   ]
  },
  {
   "cell_type": "markdown",
   "id": "49c62389",
   "metadata": {},
   "source": [
    "# Practice 5\n",
    "##### Build a simple console-based student management system that uses Python dictionaries to store and manage data about students, their courses, and grades. "
   ]
  },
  {
   "cell_type": "code",
   "execution_count": null,
   "id": "714b749e",
   "metadata": {},
   "outputs": [],
   "source": [
    "students = { \n",
    "'S001': { \n",
    "'name': 'Alice', \n",
    "'courses': {'Math': 90, 'English': 85} \n",
    "}, \n",
    "'S002': { \n",
    "'name': 'Bob', \n",
    "'courses': {'Math': 75, 'Science': 80} \n",
    "} \n",
    "}\n",
    "# 1. Add a new student\n",
    "def add_student():\n",
    "    student_id = input(\"Enter student ID: \")\n",
    "    if student_id in students:\n",
    "        print(\"Student ID already exists.\")\n",
    "        return\n",
    "    name = input(\"Enter student name: \")\n",
    "    students[student_id] = {'name': name, 'courses': {}}\n",
    "    print(f\"Student {name} added.\")\n",
    "\n",
    "# 2. Add or update a course and grade\n",
    "def add_or_update_course():\n",
    "    student_id = input(\"Enter student ID: \")\n",
    "    if student_id not in students:\n",
    "        print(\"Student not found.\")\n",
    "        return\n",
    "    course = input(\"Enter course name: \")\n",
    "    try:\n",
    "        grade = float(input(\"Enter grade: \"))\n",
    "        students[student_id]['courses'][course] = grade\n",
    "        print(f\"{course} grade updated for {students[student_id]['name']}.\")\n",
    "    except ValueError:\n",
    "        print(\"Invalid grade.\")\n",
    "\n",
    "# 3. Remove a student by ID\n",
    "def remove_student():\n",
    "    student_id = input(\"Enter student ID to remove: \")\n",
    "    if student_id in students:\n",
    "        del students[student_id]\n",
    "        print(f\"Student {student_id} removed.\")\n",
    "    else:\n",
    "        print(\"Student not found.\")\n",
    "\n",
    "# 4. Display all students and their data\n",
    "def display_all_students():\n",
    "    if not students:\n",
    "        print(\"No students to display.\")\n",
    "        return\n",
    "    for id, info in students.items():\n",
    "        print(f\"\\nID: {id}\")\n",
    "        print(f\"Name: {info['name']}\")\n",
    "        print(\"Courses and Grades:\")\n",
    "        for course, grade in info['courses'].items():\n",
    "            print(f\"  {course}: {grade}\")\n",
    "\n",
    "# 5. Display average grade for a given student\n",
    "def display_average():\n",
    "    student_id = input(\"Enter student ID: \")\n",
    "    if student_id in students:\n",
    "        courses = students[student_id]['courses']\n",
    "        if courses:\n",
    "            avg = sum(courses.values()) / len(courses)\n",
    "            print(f\"{students[student_id]['name']}'s average grade: {avg:.2f}\")\n",
    "        else:\n",
    "            print(\"No courses for this student.\")\n",
    "    else:\n",
    "        print(\"Student not found.\")\n",
    "\n",
    "# 6. Find student(s) with highest average\n",
    "def top_student():\n",
    "    top_avg = -1\n",
    "    top_students = []\n",
    "    for sid, info in students.items():\n",
    "        courses = info['courses']\n",
    "        if courses:\n",
    "            avg = sum(courses.values()) / len(courses)\n",
    "            if avg > top_avg:\n",
    "                top_avg = avg\n",
    "                top_students = [info['name']]\n",
    "            elif avg == top_avg:\n",
    "                top_students.append(info['name'])\n",
    "    if top_students:\n",
    "        print(f\"Top average grade: {top_avg:.2f}\")\n",
    "        print(\"Top student(s):\", \", \".join(top_students))\n",
    "    else:\n",
    "        print(\"No grades available.\")\n",
    "\n",
    "# Menu system\n",
    "def menu():\n",
    "    while True:\n",
    "        print(\"\\n--- Student Management Menu ---\")\n",
    "        print(\"1. Add a new student\")\n",
    "        print(\"2. Add/update a course & grade\")\n",
    "        print(\"3. Remove a student by ID\")\n",
    "        print(\"4. Display all students and their data\")\n",
    "        print(\"5. Display average grade of a student\")\n",
    "        print(\"6. Find top student(s) by average grade\")\n",
    "        print(\"7. Exit\")\n",
    "        choice = input(\"Choose an option (1–7): \")\n",
    "\n",
    "        if choice == '1':\n",
    "            add_student()\n",
    "        elif choice == '2':\n",
    "            add_or_update_course()\n",
    "        elif choice == '3':\n",
    "            remove_student()\n",
    "        elif choice == '4':\n",
    "            display_all_students()\n",
    "        elif choice == '5':\n",
    "            display_average()\n",
    "        elif choice == '6':\n",
    "            top_student()\n",
    "        elif choice == '7':\n",
    "            print(\"Exiting program.\")\n",
    "            break\n",
    "        else:\n",
    "            print(\"Invalid choice. Please try again.\")\n",
    "\n",
    "if __name__ == \"__main__\":\n",
    "    menu()"
   ]
  }
 ],
 "metadata": {
  "kernelspec": {
   "display_name": "Python 3",
   "language": "python",
   "name": "python3"
  },
  "language_info": {
   "codemirror_mode": {
    "name": "ipython",
    "version": 3
   },
   "file_extension": ".py",
   "mimetype": "text/x-python",
   "name": "python",
   "nbconvert_exporter": "python",
   "pygments_lexer": "ipython3",
   "version": "3.13.2"
  }
 },
 "nbformat": 4,
 "nbformat_minor": 5
}
