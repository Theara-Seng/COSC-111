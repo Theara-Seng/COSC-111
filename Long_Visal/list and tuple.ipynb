{
 "cells": [
  {
   "cell_type": "markdown",
   "id": "13985187",
   "metadata": {},
   "source": [
    "# Practices 1"
   ]
  },
  {
   "cell_type": "markdown",
   "id": "edd9909d",
   "metadata": {},
   "source": [
    "### Createalist of 4 countries: [\"Cambodia\", \"China\", \"Vietnam\", \"Laos\"] Print the first country in the list."
   ]
  },
  {
   "cell_type": "code",
   "execution_count": 4,
   "id": "6bf07c79",
   "metadata": {},
   "outputs": [
    {
     "name": "stdout",
     "output_type": "stream",
     "text": [
      "Cambodia\n"
     ]
    }
   ],
   "source": [
    "list = [\"Cambodia\", \"China\", \"Vietnam\", \"Laos\" ]\n",
    "print (list[0]) "
   ]
  },
  {
   "cell_type": "markdown",
   "id": "ea5d1f1f",
   "metadata": {},
   "source": [
    "### Createalist of animals: [\"dog\", \"cat\", \"rabbit\", \"hamster\"] Print the last animal using negative indexing."
   ]
  },
  {
   "cell_type": "code",
   "execution_count": 5,
   "id": "c5755e58",
   "metadata": {},
   "outputs": [
    {
     "name": "stdout",
     "output_type": "stream",
     "text": [
      "hamster\n"
     ]
    }
   ],
   "source": [
    "list = [\"dog\", \"cat\", \"rabbit\", \"hamster\"]\n",
    "print(list[-1])"
   ]
  },
  {
   "cell_type": "markdown",
   "id": "d957843a",
   "metadata": {},
   "source": [
    "# Practice 2"
   ]
  },
  {
   "cell_type": "markdown",
   "id": "a9aec94f",
   "metadata": {},
   "source": [
    "### Create a list of Fruits:  [\"apple\", \"banana\", \"cherry\"]. Change \"banana\" to \"mango\" and print the list."
   ]
  },
  {
   "cell_type": "code",
   "execution_count": 7,
   "id": "11b0bcbf",
   "metadata": {},
   "outputs": [
    {
     "name": "stdout",
     "output_type": "stream",
     "text": [
      "['apple', 'mango', 'cherry']\n"
     ]
    }
   ],
   "source": [
    "list = [\"apple\", \"banana\", \"cherry\"]\n",
    "list[1] = \"mango\"\n",
    "print(list)"
   ]
  },
  {
   "cell_type": "markdown",
   "id": "2c9b651a",
   "metadata": {},
   "source": [
    "### Create a list called a = [1, 2, 3], Assign b = a, Then set b[ 0 ] = 100, Print both a and b"
   ]
  },
  {
   "cell_type": "code",
   "execution_count": null,
   "id": "a6297e15",
   "metadata": {},
   "outputs": [
    {
     "name": "stdout",
     "output_type": "stream",
     "text": [
      "list a =  [100, 2, 3]\n",
      "list b =  [100, 2, 3]\n"
     ]
    }
   ],
   "source": [
    "a = [1, 2, 3]\n",
    "b = a \n",
    "b[0] = 100\n",
    "print(\"list a = \", a )\n",
    "print(\"list b = \", b)"
   ]
  },
  {
   "cell_type": "markdown",
   "id": "1e8e5cf7",
   "metadata": {},
   "source": [
    "# Practice 3"
   ]
  },
  {
   "cell_type": "markdown",
   "id": "f777f78e",
   "metadata": {},
   "source": [
    "### Given two lists. Write code to print: [\"AliceSmith\" ,\"BobLee\"].Use element accessand + .\n",
    "### first_names=[\"Alice\", \"Bob\"]\n",
    "### last_names=[\"Smith\", \"Lee\"]"
   ]
  },
  {
   "cell_type": "code",
   "execution_count": 20,
   "id": "3bdfa709",
   "metadata": {},
   "outputs": [
    {
     "name": "stdout",
     "output_type": "stream",
     "text": [
      "['Alice Smith', 'Bob Lee']\n"
     ]
    }
   ],
   "source": [
    "first_names = [\"Alice \", \"Bob \"]\n",
    "last_names = [\"Smith\", \"Lee\"]\n",
    "full_names = [first_names[0] + last_names[0], first_names[1]+last_names[1]]\n",
    "print(full_names)"
   ]
  },
  {
   "cell_type": "markdown",
   "id": "36e59009",
   "metadata": {},
   "source": [
    "### Given "
   ]
  },
  {
   "cell_type": "markdown",
   "id": "a460ecbd",
   "metadata": {},
   "source": [
    "### a =[\"A\" ,\"B\" ,\"C\"]\n",
    "### b =[\"1\" ,\"2\" ,\"3\"]"
   ]
  },
  {
   "cell_type": "code",
   "execution_count": 25,
   "id": "7475e96e",
   "metadata": {},
   "outputs": [
    {
     "name": "stdout",
     "output_type": "stream",
     "text": [
      "['A', '1', 'B', '2', 'C', '3']\n"
     ]
    }
   ],
   "source": [
    "a = [\"A\", \"B\", \"C\"]\n",
    "b = [\"1\", \"2\", \"3\"]\n",
    "c = [a[0], b[0], a[1], b[1], a[2], b[2]]\n",
    "print(c)"
   ]
  },
  {
   "cell_type": "markdown",
   "id": "6af427e3",
   "metadata": {},
   "source": [
    "### Given "
   ]
  },
  {
   "cell_type": "markdown",
   "id": "d439c75b",
   "metadata": {},
   "source": [
    "###  nums=[11, 22, 33, 44, 55, 66]"
   ]
  },
  {
   "cell_type": "code",
   "execution_count": 2,
   "id": "3cc6c684",
   "metadata": {},
   "outputs": [
    {
     "name": "stdout",
     "output_type": "stream",
     "text": [
      "[44, 55, 66, 11, 22, 33]\n"
     ]
    }
   ],
   "source": [
    "nums = [11, 22, 33, 44, 55, 66]\n",
    "mid = len(nums) // 2\n",
    "swapped = nums[mid:] + nums[:mid]\n",
    "print(swapped)\n"
   ]
  },
  {
   "cell_type": "markdown",
   "id": "2ee1ed99",
   "metadata": {},
   "source": [
    "# Practices 4"
   ]
  },
  {
   "cell_type": "markdown",
   "id": "045600cf",
   "metadata": {},
   "source": [
    "### t = (10, 20,[30, 40]). Change the value 30 to 99. Is it possible?Explain your answer"
   ]
  },
  {
   "cell_type": "code",
   "execution_count": 4,
   "id": "a914d033",
   "metadata": {},
   "outputs": [
    {
     "name": "stdout",
     "output_type": "stream",
     "text": [
      "(10, 20, [99, 40])\n"
     ]
    }
   ],
   "source": [
    "# Is it possible? Answer: Yes\n",
    "# Even though t is a tuple (which is immutable), the list inside it ([30, 40]) is mutable, so we can change the contents of the list.\n",
    "\n",
    "t = (10, 20, [30, 40])\n",
    "t[2][0] = 99\n",
    "print(t)"
   ]
  },
  {
   "cell_type": "markdown",
   "id": "7287836c",
   "metadata": {},
   "source": [
    "### Given"
   ]
  },
  {
   "cell_type": "markdown",
   "id": "1c5d93c8",
   "metadata": {},
   "source": [
    "### data = (\"a\", \"b\", \"c\", \"a\", \"b\", \"a\"). Count how many times \"a\" appears. Find the index of the first \"b\"."
   ]
  },
  {
   "cell_type": "code",
   "execution_count": null,
   "id": "9f53aad1",
   "metadata": {},
   "outputs": [
    {
     "name": "stdout",
     "output_type": "stream",
     "text": [
      "Count of 'a': 3\n",
      "Index of first 'b': 1\n"
     ]
    }
   ],
   "source": [
    "data = (\"a\", \"b\", \"c\", \"a\", \"b\", \"a\")\n",
    "count_a = data.count(\"a\")\n",
    "index_b = data.index(\"b\")\n",
    "print(\"Count of 'a':\", count_a)\n",
    "print(\"Index of first 'b':\", index_b)"
   ]
  },
  {
   "cell_type": "markdown",
   "id": "dc363484",
   "metadata": {},
   "source": [
    "### Given\n",
    "###  students=((\"Alice\",18), (\"Bob\", 20), (\"Charlie\",19))\n",
    "### Print all names only, using a loop."
   ]
  },
  {
   "cell_type": "code",
   "execution_count": 6,
   "id": "47338abb",
   "metadata": {},
   "outputs": [
    {
     "name": "stdout",
     "output_type": "stream",
     "text": [
      "Alice\n",
      "Bob\n",
      "Charlie\n"
     ]
    }
   ],
   "source": [
    "students = (\n",
    "    (\"Alice\", 18),\n",
    "    (\"Bob\", 20),\n",
    "    (\"Charlie\", 19))\n",
    "for student in students:\n",
    "    print(student[0])"
   ]
  },
  {
   "cell_type": "markdown",
   "id": "6807a714",
   "metadata": {},
   "source": [
    "# Practices 5"
   ]
  },
  {
   "cell_type": "markdown",
   "id": "be92867a",
   "metadata": {},
   "source": [
    "### Given\n",
    "### data=[1, 2, 3, 4, 5, 6, 7, 8].  Print every other number(step size = 2):"
   ]
  },
  {
   "cell_type": "code",
   "execution_count": 7,
   "id": "caaaf276",
   "metadata": {},
   "outputs": [
    {
     "name": "stdout",
     "output_type": "stream",
     "text": [
      "[1, 3, 5, 7]\n"
     ]
    }
   ],
   "source": [
    "data = [1, 2, 3, 4, 5, 6, 7, 8]\n",
    "print(data[::2])"
   ]
  },
  {
   "cell_type": "markdown",
   "id": "2afb60dd",
   "metadata": {},
   "source": [
    "### Given\n",
    "### t =(\"Mon\", \"Tue\", \"Wed\", \"Thu\", \"Fri\", \"Sat\", \"Sun\"). Print only the weekend days from the tuple."
   ]
  },
  {
   "cell_type": "code",
   "execution_count": 8,
   "id": "092220d7",
   "metadata": {},
   "outputs": [
    {
     "name": "stdout",
     "output_type": "stream",
     "text": [
      "('Sat', 'Sun')\n"
     ]
    }
   ],
   "source": [
    "t = (\"Mon\", \"Tue\", \"Wed\", \"Thu\", \"Fri\", \"Sat\", \"Sun\")\n",
    "print(t[5:])"
   ]
  },
  {
   "cell_type": "markdown",
   "id": "3504a177",
   "metadata": {},
   "source": [
    "### Remove the first and last elements from this list usin slicing:\n",
    "### letters =[\"A\", \"B\", \"C\", \"D\", \"E\"]"
   ]
  },
  {
   "cell_type": "code",
   "execution_count": 1,
   "id": "b194d93c",
   "metadata": {},
   "outputs": [
    {
     "name": "stdout",
     "output_type": "stream",
     "text": [
      "['B', 'C', 'D']\n"
     ]
    }
   ],
   "source": [
    "letters = [\"A\", \"B\", \"C\", \"D\", \"E\"]\n",
    "print(letters[1:-1])"
   ]
  },
  {
   "cell_type": "markdown",
   "id": "be31e433",
   "metadata": {},
   "source": [
    "# Practices 6 : Mini Gradebook Manager\n",
    "### -Objective: Create a functional Python program that allows users to manage and analyze student grades using lists, tuples, and functions.\n",
    "### -Storestudent records as a list of tuples, where each tuple contains the\n",
    "### student’s name and a list of scores:\n",
    "### students = [\n",
    "### (\"Alice\", [85, 90, 88]),\n",
    "### (\"Bob\", [70, 75, 80]),\n",
    "### (\"Charlie\", [95, 100, 98])\n",
    "### ]\n",
    "### -Performslicing on the list to show specific student data (e.g., last 3 students added).\n",
    "### -Write a function get_average(scores) to calculate the average from a list of scores.\n",
    "### -Write a function add_student(name, scores) to add anewstudent Prevent duplicates based on name.\n",
    "### -Writeafunction get_all_averages(students) to return a list of tuples with student names and their average scores.\n",
    "### -Sortanddisplay the top-performing students based on average score.\n",
    "### -Writeafunction update_score(name, index, new_score)to update a specific score of a student.\n",
    "### -Asktheusertoenter a student name and print the student’s full score record. If the name does not exist, print a message.\n",
    "### Bonus Challenge:\n",
    "### -Allowtheuser to remove a student by name.\n",
    "### -Printaformatted grade summary report."
   ]
  },
  {
   "cell_type": "code",
   "execution_count": null,
   "id": "37aeb517",
   "metadata": {},
   "outputs": [
    {
     "name": "stdout",
     "output_type": "stream",
     "text": [
      "Last 3 students added:\n",
      "Alice: [85, 90, 88]\n",
      "Bob: [70, 75, 80]\n",
      "Charlie: [95, 100, 98]\n",
      "\n",
      "Alice's average: 87.67\n",
      "Student 'Diana' added successfully!\n",
      "\n",
      "All student averages:\n",
      "Alice: 87.67\n",
      "Bob: 75.00\n",
      "Charlie: 97.67\n",
      "Diana: 91.67\n",
      "\n",
      "Top performing students:\n",
      "Charlie: 97.67\n",
      "Diana: 91.67\n",
      "Alice: 87.67\n",
      "Bob: 75.00\n",
      "Updated Alice's score at index 1 to 95\n",
      "\n",
      "Bob's record: [70, 75, 80] | Average: 75.00\n",
      "Student 'Charlie' removed successfully!\n",
      "\n",
      "GRADE SUMMARY REPORT\n",
      "==============================\n",
      "Alice: [85, 95, 88] | Average: 89.33\n",
      "Bob: [70, 75, 80] | Average: 75.00\n",
      "Diana: [92, 88, 95] | Average: 91.67\n"
     ]
    }
   ],
   "source": [
    "students = [\n",
    "    (\"Alice\", [85, 90, 88]),\n",
    "    (\"Bob\", [70, 75, 80]),\n",
    "    (\"Charlie\", [95, 100, 98])\n",
    "]\n",
    "\n",
    "def get_average(scores):\n",
    "    return sum(scores) / len(scores)\n",
    "\n",
    "def add_student(name, scores):\n",
    "    for student_name, _ in students:\n",
    "        if student_name.lower() == name.lower():\n",
    "            print(f\"Student '{name}' already exists!\")\n",
    "            return\n",
    "    students.append((name, scores))\n",
    "    print(f\"Student '{name}' added successfully!\")\n",
    "\n",
    "def get_all_averages(students):\n",
    "    averages = []\n",
    "    for name, scores in students:\n",
    "        avg = get_average(scores)\n",
    "        averages.append((name, avg))\n",
    "    return averages\n",
    "\n",
    "def update_score(name, index, new_score):\n",
    "    for student_name, scores in students:\n",
    "        if student_name.lower() == name.lower():\n",
    "            scores[index] = new_score\n",
    "            print(f\"Updated {name}'s score at index {index} to {new_score}\")\n",
    "            return\n",
    "    print(f\"Student '{name}' not found!\")\n",
    "\n",
    "def remove_student(name):\n",
    "    for i, (student_name, _) in enumerate(students):\n",
    "        if student_name.lower() == name.lower():\n",
    "            students.pop(i)\n",
    "            print(f\"Student '{name}' removed successfully!\")\n",
    "            return\n",
    "    print(f\"Student '{name}' not found!\")\n",
    "\n",
    "def print_grade_summary():\n",
    "    print(\"\\nGRADE SUMMARY REPORT\")\n",
    "    print(\"=\"*30)\n",
    "    for name, scores in students:\n",
    "        avg = get_average(scores)\n",
    "        print(f\"{name}: {scores} | Average: {avg:.2f}\")\n",
    "\n",
    "# 1. Show initial data and perform slicing (last 3 students)\n",
    "print(\"Last 3 students added:\")\n",
    "for name, scores in students[-3:]:\n",
    "    print(f\"{name}: {scores}\")\n",
    "\n",
    "# 2. Calculate averages using get_average function\n",
    "print(f\"\\nAlice's average: {get_average(students[0][1]):.2f}\")\n",
    "\n",
    "# 3. Add a new student\n",
    "add_student(\"Diana\", [92, 88, 95])\n",
    "\n",
    "# 4. Get all averages\n",
    "print(\"\\nAll student averages:\")\n",
    "averages = get_all_averages(students)\n",
    "for name, avg in averages:\n",
    "    print(f\"{name}: {avg:.2f}\")\n",
    "\n",
    "# 5. Sort and display top performers\n",
    "sorted_students = sorted(averages, key=lambda x: x[1], reverse=True)\n",
    "print(\"\\nTop performing students:\")\n",
    "for name, avg in sorted_students:\n",
    "    print(f\"{name}: {avg:.2f}\")\n",
    "\n",
    "# 6. Update a score\n",
    "update_score(\"Alice\", 1, 95)\n",
    "\n",
    "# 7. Search for a student and print their record\n",
    "search_name = \"Bob\"\n",
    "for student_name, scores in students:\n",
    "    if student_name.lower() == search_name.lower():\n",
    "        avg = get_average(scores)\n",
    "        print(f\"\\n{student_name}'s record: {scores} | Average: {avg:.2f}\")\n",
    "        break\n",
    "\n",
    "# 8. Remove a student (bonus)\n",
    "remove_student(\"Charlie\")\n",
    "\n",
    "# 9. Print formatted grade summary (bonus)\n",
    "print_grade_summary()"
   ]
  }
 ],
 "metadata": {
  "kernelspec": {
   "display_name": "Python 3",
   "language": "python",
   "name": "python3"
  },
  "language_info": {
   "codemirror_mode": {
    "name": "ipython",
    "version": 3
   },
   "file_extension": ".py",
   "mimetype": "text/x-python",
   "name": "python",
   "nbconvert_exporter": "python",
   "pygments_lexer": "ipython3",
   "version": "3.12.10"
  }
 },
 "nbformat": 4,
 "nbformat_minor": 5
}
