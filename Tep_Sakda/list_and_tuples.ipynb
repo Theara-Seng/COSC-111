{
 "cells": [
  {
   "cell_type": "code",
   "execution_count": 2,
   "id": "1d4d1bb3",
   "metadata": {},
   "outputs": [
    {
     "name": "stdout",
     "output_type": "stream",
     "text": [
      "Document\n"
     ]
    }
   ],
   "source": [
    "print(\"Document\")"
   ]
  },
  {
   "cell_type": "markdown",
   "id": "9239932b",
   "metadata": {},
   "source": [
    "# Practice 1"
   ]
  },
  {
   "cell_type": "markdown",
   "id": "55852e64",
   "metadata": {},
   "source": [
    "#### Create a list of four countries: [\"Cambodia\", \"China\", \"Vietnam\", \"Laos\"] "
   ]
  },
  {
   "cell_type": "code",
   "execution_count": 53,
   "id": "1e7e3e7b",
   "metadata": {},
   "outputs": [
    {
     "name": "stdout",
     "output_type": "stream",
     "text": [
      "Cambodia\n"
     ]
    }
   ],
   "source": [
    "list = [ \"Cambodia\", \"China\", \"Vietnam\", \"Laos\"]\n",
    "print (list[0])"
   ]
  },
  {
   "cell_type": "markdown",
   "id": "23bc6544",
   "metadata": {},
   "source": [
    "#### Create a list of animals: [\"dog\", \"cat\", \"rabbit\", \"hamster\"]"
   ]
  },
  {
   "cell_type": "code",
   "execution_count": 54,
   "id": "69671c53",
   "metadata": {},
   "outputs": [
    {
     "name": "stdout",
     "output_type": "stream",
     "text": [
      "hamster\n"
     ]
    }
   ],
   "source": [
    "list = [\"dog\", \"cat\", \"rabbit\", \"hamster\"]\n",
    "print (list[-1])"
   ]
  },
  {
   "cell_type": "markdown",
   "id": "5b7bad49",
   "metadata": {},
   "source": [
    "# Practice 2"
   ]
  },
  {
   "cell_type": "markdown",
   "id": "0df353ed",
   "metadata": {},
   "source": [
    "#### Create a list of Fruits: [\"apple\", \"banana\", \"cherry\"]. Change \"banana\" to \"mango\" and print the list."
   ]
  },
  {
   "cell_type": "code",
   "execution_count": 55,
   "id": "8faf8fba",
   "metadata": {},
   "outputs": [
    {
     "name": "stdout",
     "output_type": "stream",
     "text": [
      "['apple', 'mango', 'cherry']\n"
     ]
    }
   ],
   "source": [
    "fruits = [\"apple\", \"banana\", \"cherry\"]\n",
    "fruits[1]= \"mango\"\n",
    "print (fruits)\n"
   ]
  },
  {
   "cell_type": "markdown",
   "id": "b2f36d97",
   "metadata": {},
   "source": [
    "#### Create a list called a = [1, 2, 3]\n",
    "#### Assign b = a\n",
    "#### Then set b[0] = 100\n",
    "#### Print both a and b."
   ]
  },
  {
   "cell_type": "code",
   "execution_count": 56,
   "id": "5a70f6e5",
   "metadata": {},
   "outputs": [
    {
     "name": "stdout",
     "output_type": "stream",
     "text": [
      "[100, 2, 3] [100, 2, 3]\n"
     ]
    }
   ],
   "source": [
    "a = [1, 2, 3]\n",
    "b = a\n",
    "b[0]= 100\n",
    "print (a , b)"
   ]
  },
  {
   "cell_type": "markdown",
   "id": "0752b84b",
   "metadata": {},
   "source": [
    "# Practice 3"
   ]
  },
  {
   "cell_type": "markdown",
   "id": "b4439b32",
   "metadata": {},
   "source": [
    "#### Given two lists. Write code to print: [\"Alice Smith\", \"Bob Lee\"]. Use element access and +."
   ]
  },
  {
   "cell_type": "code",
   "execution_count": null,
   "id": "01ac9920",
   "metadata": {},
   "outputs": [
    {
     "name": "stdout",
     "output_type": "stream",
     "text": [
      "[ Alice Smith , Bob Lee ]\n"
     ]
    }
   ],
   "source": [
    "first_name = [\"Alice\", \"Bob\"]\n",
    "last_name = [\"Smith\", \"Lee\"]\n",
    "print (\"[\",first_name[0]+\" \"+last_name[0],\",\", first_name[1]+\" \"+last_name[1],\"]\")  "
   ]
  },
  {
   "cell_type": "markdown",
   "id": "0f4faa8d",
   "metadata": {},
   "source": [
    "#### Create a new list like this: [\"A\", \"1\", \"B\", \"2\", \"C\", \"3\"]"
   ]
  },
  {
   "cell_type": "code",
   "execution_count": 1,
   "id": "f636da74",
   "metadata": {},
   "outputs": [
    {
     "name": "stdout",
     "output_type": "stream",
     "text": [
      "[ A , 1 , B , 2 , C , 3 ]\n"
     ]
    }
   ],
   "source": [
    "a = [\"A\", \"B\", \"C\"]\n",
    "b = [\"1\", \"2\", \"3\"]\n",
    "print (\"[\", a[0],\",\", b[0], \",\", a[1], \",\", b[1], \",\", a[2], \",\", b[2], \"]\")"
   ]
  },
  {
   "cell_type": "markdown",
   "id": "465887fd",
   "metadata": {},
   "source": [
    "#### Split the list into 2 halves and swap their positions.Final result: [44, 55, 66, 11, 22, 33]"
   ]
  },
  {
   "cell_type": "code",
   "execution_count": 3,
   "id": "8317637c",
   "metadata": {},
   "outputs": [
    {
     "name": "stdout",
     "output_type": "stream",
     "text": [
      "[ 44 , 55 , 66 , 11 , 22 , 33 ]\n"
     ]
    }
   ],
   "source": [
    "num1= [\"11\", \"22\", \"33\"]\n",
    "num2= [\"44\", \"55\", \"66\"]\n",
    "print (\"[\", num2[0], \",\", num2[1], \",\", num2[2], \",\", num1[0], \",\", num1[1], \",\", num1[2], \"]\")"
   ]
  },
  {
   "cell_type": "markdown",
   "id": "2ea5447e",
   "metadata": {},
   "source": [
    "# Practice 4"
   ]
  },
  {
   "cell_type": "markdown",
   "id": "aad61512",
   "metadata": {},
   "source": [
    "#### Change the value 30 to 99. Is it possible? Explain your answer"
   ]
  },
  {
   "cell_type": "code",
   "execution_count": 4,
   "id": "cefdecdc",
   "metadata": {},
   "outputs": [
    {
     "name": "stdout",
     "output_type": "stream",
     "text": [
      "(10, 20, [99, 40])\n"
     ]
    }
   ],
   "source": [
    "t = (10, 20, [30, 40])\n",
    "t[2][0]= 99\n",
    "print (t)"
   ]
  },
  {
   "cell_type": "markdown",
   "id": "0eb7c74d",
   "metadata": {},
   "source": [
    "#### Count how many times \"a\" appears.Find the index of the first \"b\"."
   ]
  },
  {
   "cell_type": "code",
   "execution_count": 7,
   "id": "cf47c938",
   "metadata": {},
   "outputs": [
    {
     "name": "stdout",
     "output_type": "stream",
     "text": [
      "a appears 3 times , the first b is at index 1\n"
     ]
    }
   ],
   "source": [
    "data = (\"a\", \"b\", \"c\", \"a\", \"b\", \"a\")\n",
    "count_a = data.count(\"a\")\n",
    "index_b = data.index(\"b\")\n",
    "print (\"a appears\", count_a, \"times\", \",\",\"the first b is at index\", index_b)"
   ]
  },
  {
   "cell_type": "markdown",
   "id": "cd941a5c",
   "metadata": {},
   "source": [
    "#### Print all names only, using a loop."
   ]
  },
  {
   "cell_type": "code",
   "execution_count": 20,
   "id": "ea59bd0c",
   "metadata": {},
   "outputs": [
    {
     "name": "stdout",
     "output_type": "stream",
     "text": [
      "Alice\n",
      "Bob\n",
      "Charlie\n"
     ]
    }
   ],
   "source": [
    "students = ((\"Alice\", 18), (\"Bob\", 20), (\"Charlie\", 19))\n",
    "for name in students:\n",
    "    print (name[0])"
   ]
  },
  {
   "cell_type": "markdown",
   "id": "2202834a",
   "metadata": {},
   "source": [
    "# Practice 5"
   ]
  },
  {
   "cell_type": "markdown",
   "id": "9f6ffa5d",
   "metadata": {},
   "source": [
    "#### Print every other number (step size = 2):"
   ]
  },
  {
   "cell_type": "code",
   "execution_count": 12,
   "id": "76ced481",
   "metadata": {},
   "outputs": [
    {
     "name": "stdout",
     "output_type": "stream",
     "text": [
      "[1, 3, 5, 7]\n"
     ]
    }
   ],
   "source": [
    "data = [1, 2, 3, 4, 5, 6, 7, 8]\n",
    "print(data[::2])"
   ]
  },
  {
   "cell_type": "markdown",
   "id": "239c9cce",
   "metadata": {},
   "source": [
    "#### Print only the weekend days from the tuple."
   ]
  },
  {
   "cell_type": "code",
   "execution_count": 14,
   "id": "8b660967",
   "metadata": {},
   "outputs": [
    {
     "name": "stdout",
     "output_type": "stream",
     "text": [
      "('Sat', 'Sun')\n"
     ]
    }
   ],
   "source": [
    "t = (\"Mon\", \"Tue\", \"Wed\", \"Thu\", \"Fri\", \"Sat\", \"Sun\")\n",
    "print (t[5:7])\n"
   ]
  },
  {
   "cell_type": "markdown",
   "id": "4dc8b0c2",
   "metadata": {},
   "source": [
    "#### Remove the first and last elements from this list using slicing:"
   ]
  },
  {
   "cell_type": "code",
   "execution_count": 6,
   "id": "e5fdfe3e",
   "metadata": {},
   "outputs": [
    {
     "name": "stdout",
     "output_type": "stream",
     "text": [
      "['B', 'C', 'D']\n"
     ]
    }
   ],
   "source": [
    "letters = [\"A\", \"B\", \"C\", \"D\", \"E\"]\n",
    "print (letters[1:4])"
   ]
  },
  {
   "cell_type": "markdown",
   "id": "6dcef854",
   "metadata": {},
   "source": [
    "# Practice 6"
   ]
  },
  {
   "cell_type": "markdown",
   "id": "cdd0566b",
   "metadata": {},
   "source": [
    "###### Write a function add_student(name, scores) to add a new student.\n",
    "###### Prevent duplicates based on name.\n",
    "###### Write a function get_all_averages(students) to return a list of tuples with student names and their average scores.\n",
    "###### Sort and display the top-performing students based on average score.\n",
    "###### Write a function update_score(name, index, new_score) to update a specific score of a student.\n",
    "###### Ask the user to enter a student name and print the student’s full score record. If the name does not exist, print a message.\n",
    "###### Bonus Challenge:\n",
    "###### Allow the user to remove a student by name.\n",
    "###### Print a formatted grade summary report.\n",
    "    "
   ]
  },
  {
   "cell_type": "code",
   "execution_count": null,
   "id": "1e2d15db",
   "metadata": {},
   "outputs": [],
   "source": [
    "\n",
    "students = [\n",
    "    (\"Alice\", [85, 90, 88]),\n",
    "    (\"Bob\", [70, 75, 80]),\n",
    "    (\"Charlie\", [95, 100, 98])\n",
    "]\n",
    "\n",
    "def add_student(name, scores):\n",
    "    \"\"\"Add a new student if the name is not a duplicate.\"\"\"\n",
    "    for student in students:\n",
    "        if student[0].lower() == name.lower():\n",
    "            print(f\"Student '{name}' already exists.\")\n",
    "            return\n",
    "    students.append((name, scores))\n",
    "    print(f\"Student '{name}' added successfully.\")\n",
    "\n",
    "def get_all_averages(students):\n",
    "    \"\"\"Return list of tuples: (name, average score).\"\"\"\n",
    "    averages = []\n",
    "    for name, scores in students:\n",
    "        avg = sum(scores) / len(scores) if scores else 0\n",
    "        averages.append((name, avg))\n",
    "    return averages\n",
    "\n",
    "def display_top_students():\n",
    "    \"\"\"Display all students sorted by average score (highest first).\"\"\"\n",
    "    averages = get_all_averages(students)\n",
    "    averages.sort(key=lambda x: x[1], reverse=True)\n",
    "    print(\"\\nTop-Performing Students:\")\n",
    "    for name, avg in averages:\n",
    "        print(f\"{name}: {avg:.2f}\")\n",
    "\n",
    "def update_score(name, index, new_score):\n",
    "    \"\"\"Update a specific score for a student.\"\"\"\n",
    "    for i, (student_name, scores) in enumerate(students):\n",
    "        if student_name.lower() == name.lower():\n",
    "            if 0 <= index < len(scores):\n",
    "                old_score = scores[index]\n",
    "                scores[index] = new_score\n",
    "                students[i] = (student_name, scores)  \n",
    "                print(f\"Updated {student_name}'s score at index {index} from {old_score} to {new_score}.\")\n",
    "                return\n",
    "            else:\n",
    "                print(\"Invalid score index.\")\n",
    "                return\n",
    "    print(f\"Student '{name}' not found.\")\n",
    "\n",
    "def print_student_scores(name):\n",
    "    \"\"\"Print a student’s full score record.\"\"\"\n",
    "    for student_name, scores in students:\n",
    "        if student_name.lower() == name.lower():\n",
    "            print(f\"{student_name}'s scores: {scores}\")\n",
    "            return\n",
    "    print(f\"Student '{name}' not found.\")\n",
    "\n",
    "def remove_student(name):\n",
    "    \"\"\"Remove a student by name.\"\"\"\n",
    "    global students\n",
    "    for student in students:\n",
    "        if student[0].lower() == name.lower():\n",
    "            students = [s for s in students if s[0].lower() != name.lower()]\n",
    "            print(f\"Student '{name}' removed successfully.\")\n",
    "            return\n",
    "    print(f\"Student '{name}' not found.\")\n",
    "\n",
    "def print_grade_summary():\n",
    "    \"\"\"Print a formatted grade summary report.\"\"\"\n",
    "    print(\"\\nGRADE SUMMARY REPORT\")\n",
    "    print(\"-\" * 30)\n",
    "    for name, scores in students:\n",
    "        avg = sum(scores) / len(scores) if scores else 0\n",
    "        print(f\"Name: {name}\")\n",
    "        print(f\"Scores: {scores}\")\n",
    "        print(f\"Average: {avg:.2f}\")\n",
    "        print(\"-\" * 30)\n",
    "\n",
    "while True:\n",
    "    print(\"\\n===== Student Management Menu =====\")\n",
    "    print(\"1. Add Student\")\n",
    "    print(\"2. Update Student Score\")\n",
    "    print(\"3. Show Student Scores\")\n",
    "    print(\"4. Show Top Students\")\n",
    "    print(\"5. Remove Student\")\n",
    "    print(\"6. Print Grade Summary\")\n",
    "    print(\"7. Exit\")\n",
    "    choice = input(\"Enter your choice (1-7): \")\n",
    "\n",
    "    if choice == \"1\":\n",
    "        name = input(\"Enter student name: \")\n",
    "        scores_input = input(\"Enter scores separated by commas: \")\n",
    "        scores = [int(x.strip()) for x in scores_input.split(\",\")]\n",
    "        add_student(name, scores)\n",
    "    elif choice == \"2\":\n",
    "        name = input(\"Enter student name: \")\n",
    "        index = int(input(\"Enter score index to update (starting from 0): \"))\n",
    "        new_score = int(input(\"Enter new score: \"))\n",
    "        update_score(name, index, new_score)\n",
    "    elif choice == \"3\":\n",
    "        name = input(\"Enter student name to view scores: \")\n",
    "        print_student_scores(name)\n",
    "    elif choice == \"4\":\n",
    "        display_top_students()\n",
    "    elif choice == \"5\":\n",
    "        name = input(\"Enter student name to remove: \")\n",
    "        remove_student(name)\n",
    "    elif choice == \"6\":\n",
    "        print_grade_summary()\n",
    "    elif choice == \"7\":\n",
    "        print(\"Exiting program. Goodbye!\")\n",
    "        break\n",
    "    else:\n",
    "        print(\"Invalid choice. Please try again.\")\n"
   ]
  }
 ],
 "metadata": {
  "kernelspec": {
   "display_name": "Python 3",
   "language": "python",
   "name": "python3"
  },
  "language_info": {
   "codemirror_mode": {
    "name": "ipython",
    "version": 3
   },
   "file_extension": ".py",
   "mimetype": "text/x-python",
   "name": "python",
   "nbconvert_exporter": "python",
   "pygments_lexer": "ipython3",
   "version": "3.11.9"
  }
 },
 "nbformat": 4,
 "nbformat_minor": 5
}
