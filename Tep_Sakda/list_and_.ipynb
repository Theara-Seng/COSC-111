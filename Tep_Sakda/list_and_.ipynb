{
 "cells": [
  {
   "cell_type": "code",
   "execution_count": 52,
   "id": "1d4d1bb3",
   "metadata": {},
   "outputs": [
    {
     "name": "stdout",
     "output_type": "stream",
     "text": [
      "Document\n"
     ]
    }
   ],
   "source": [
    "print(\"Document\")"
   ]
  },
  {
   "cell_type": "markdown",
   "id": "9239932b",
   "metadata": {},
   "source": [
    "# Practice 1"
   ]
  },
  {
   "cell_type": "markdown",
   "id": "55852e64",
   "metadata": {},
   "source": [
    "#### Create a list of four countries: [\"Cambodia\", \"China\", \"Vietnam\", \"Laos\"] "
   ]
  },
  {
   "cell_type": "code",
   "execution_count": 53,
   "id": "1e7e3e7b",
   "metadata": {},
   "outputs": [
    {
     "name": "stdout",
     "output_type": "stream",
     "text": [
      "Cambodia\n"
     ]
    }
   ],
   "source": [
    "list = [ \"Cambodia\", \"China\", \"Vietnam\", \"Laos\"]\n",
    "print (list[0])"
   ]
  },
  {
   "cell_type": "markdown",
   "id": "23bc6544",
   "metadata": {},
   "source": [
    "#### Create a list of animals: [\"dog\", \"cat\", \"rabbit\", \"hamster\"]"
   ]
  },
  {
   "cell_type": "code",
   "execution_count": 54,
   "id": "69671c53",
   "metadata": {},
   "outputs": [
    {
     "name": "stdout",
     "output_type": "stream",
     "text": [
      "hamster\n"
     ]
    }
   ],
   "source": [
    "list = [\"dog\", \"cat\", \"rabbit\", \"hamster\"]\n",
    "print (list[-1])"
   ]
  },
  {
   "cell_type": "markdown",
   "id": "5b7bad49",
   "metadata": {},
   "source": [
    "# Practice 2"
   ]
  },
  {
   "cell_type": "markdown",
   "id": "0df353ed",
   "metadata": {},
   "source": [
    "#### Create a list of Fruits: [\"apple\", \"banana\", \"cherry\"]. Change \"banana\" to \"mango\" and print the list."
   ]
  },
  {
   "cell_type": "code",
   "execution_count": 55,
   "id": "8faf8fba",
   "metadata": {},
   "outputs": [
    {
     "name": "stdout",
     "output_type": "stream",
     "text": [
      "['apple', 'mango', 'cherry']\n"
     ]
    }
   ],
   "source": [
    "fruits = [\"apple\", \"banana\", \"cherry\"]\n",
    "fruits[1]= \"mango\"\n",
    "print (fruits)\n"
   ]
  },
  {
   "cell_type": "markdown",
   "id": "b2f36d97",
   "metadata": {},
   "source": [
    "#### Create a list called a = [1, 2, 3]\n",
    "#### Assign b = a\n",
    "#### Then set b[0] = 100\n",
    "#### Print both a and b."
   ]
  },
  {
   "cell_type": "code",
   "execution_count": 56,
   "id": "5a70f6e5",
   "metadata": {},
   "outputs": [
    {
     "name": "stdout",
     "output_type": "stream",
     "text": [
      "[100, 2, 3] [100, 2, 3]\n"
     ]
    }
   ],
   "source": [
    "a = [1, 2, 3]\n",
    "b = a\n",
    "b[0]= 100\n",
    "print (a , b)"
   ]
  },
  {
   "cell_type": "markdown",
   "id": "0752b84b",
   "metadata": {},
   "source": [
    "# Practice 3"
   ]
  },
  {
   "cell_type": "markdown",
   "id": "b4439b32",
   "metadata": {},
   "source": [
    "#### Given two lists. Write code to print: [\"Alice Smith\", \"Bob Lee\"]. Use element access and +."
   ]
  },
  {
   "cell_type": "code",
   "execution_count": null,
   "id": "01ac9920",
   "metadata": {},
   "outputs": [
    {
     "name": "stdout",
     "output_type": "stream",
     "text": [
      "[ Alice Smith , Bob Lee ]\n"
     ]
    }
   ],
   "source": [
    "first_name = [\"Alice\", \"Bob\"]\n",
    "last_name = [\"Smith\", \"Lee\"]\n",
    "print (\"[\",first_name[0]+\" \"+last_name[0],\",\", first_name[1]+\" \"+last_name[1],\"]\")  "
   ]
  },
  {
   "cell_type": "markdown",
   "id": "0f4faa8d",
   "metadata": {},
   "source": []
  },
  {
   "cell_type": "code",
   "execution_count": null,
   "id": "f636da74",
   "metadata": {},
   "outputs": [],
   "source": []
  }
 ],
 "metadata": {
  "kernelspec": {
   "display_name": "Python 3",
   "language": "python",
   "name": "python3"
  },
  "language_info": {
   "codemirror_mode": {
    "name": "ipython",
    "version": 3
   },
   "file_extension": ".py",
   "mimetype": "text/x-python",
   "name": "python",
   "nbconvert_exporter": "python",
   "pygments_lexer": "ipython3",
   "version": "3.11.9"
  }
 },
 "nbformat": 4,
 "nbformat_minor": 5
}
