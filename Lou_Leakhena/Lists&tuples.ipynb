{
 "cells": [
  {
   "cell_type": "markdown",
   "id": "ed121e29",
   "metadata": {},
   "source": [
    "# Practice 1"
   ]
  },
  {
   "cell_type": "markdown",
   "id": "18c5c3d6",
   "metadata": {},
   "source": [
    "#### Create a list of 4 countries: [\"Cambodia\", \"China\", \"Vietnam\", \"Laos\"] Print the first country in the list."
   ]
  },
  {
   "cell_type": "code",
   "execution_count": 1,
   "id": "98cde366",
   "metadata": {},
   "outputs": [
    {
     "name": "stdout",
     "output_type": "stream",
     "text": [
      "The first country on the list is Cambodia\n"
     ]
    }
   ],
   "source": [
    "list = [\"Cambodia\", \"China\", \"Vietnam\", \"Laos\"]\n",
    "print (\"The first country on the list is\", list[0])"
   ]
  },
  {
   "cell_type": "markdown",
   "id": "fd295dd8",
   "metadata": {},
   "source": [
    "#### Create a list of animals: [\"dog\", \"cat\", \"rabbit\", \"hamster\"] Print the last animal using negative indexing."
   ]
  },
  {
   "cell_type": "code",
   "execution_count": 9,
   "id": "25467875",
   "metadata": {},
   "outputs": [
    {
     "name": "stdout",
     "output_type": "stream",
     "text": [
      "The last animal of negative indexing is hamster\n"
     ]
    }
   ],
   "source": [
    "list = [\"dog\", \"cat\", \"rabbit\", \"hamster\"]\n",
    "print (\"The last animal of negative indexing is\", list[-1])"
   ]
  },
  {
   "cell_type": "markdown",
   "id": "8478fdb0",
   "metadata": {},
   "source": [
    "# Practice 2"
   ]
  },
  {
   "cell_type": "markdown",
   "id": "2007c7c0",
   "metadata": {},
   "source": [
    "#### Create a list of Fruits: [\"apple\", \"banana\", \"cherry\"]. Change \"banana\" to \"mango\" and print the list"
   ]
  },
  {
   "cell_type": "code",
   "execution_count": 3,
   "id": "1b4d972f",
   "metadata": {},
   "outputs": [
    {
     "name": "stdout",
     "output_type": "stream",
     "text": [
      "['apple', 'mango', 'cherry']\n"
     ]
    }
   ],
   "source": [
    "list = [\"apple\", \"banana\", \"cherry\"]\n",
    "list[1] = 'mango'\n",
    "print(list)"
   ]
  },
  {
   "cell_type": "markdown",
   "id": "3aa45681",
   "metadata": {},
   "source": [
    "#### Create a list called a = [1, 2, 3], Assign b = a, Then set b[0] = 100, Print both a and b."
   ]
  },
  {
   "cell_type": "code",
   "execution_count": 4,
   "id": "3f5bf458",
   "metadata": {},
   "outputs": [
    {
     "name": "stdout",
     "output_type": "stream",
     "text": [
      "a =  [100, 2, 3] b =  [100, 2, 3]\n"
     ]
    }
   ],
   "source": [
    "a = [1, 2, 3]\n",
    "b = a\n",
    "b[0] = 100\n",
    "print (\"a = \", a, \"b = \", b)"
   ]
  },
  {
   "cell_type": "markdown",
   "id": "1ba597a7",
   "metadata": {},
   "source": [
    "# Practice 3"
   ]
  },
  {
   "cell_type": "markdown",
   "id": "3dfa77ad",
   "metadata": {},
   "source": [
    "#### Given two lists. Write code to print: [\"Alice Smith\", \"Bob Lee\"]. Use element access and +."
   ]
  },
  {
   "cell_type": "code",
   "execution_count": 5,
   "id": "fca094b7",
   "metadata": {},
   "outputs": [
    {
     "name": "stdout",
     "output_type": "stream",
     "text": [
      "('Alice Smith', 'Bob Lee')\n"
     ]
    }
   ],
   "source": [
    "first_names = [\"Alice\", \"Bob\"]\n",
    "last_names = [\"Smith\", \"Lee\"]\n",
    "full_names = first_names[0] + \" \" + last_names[0], first_names[1] + \" \" + last_names[1],\n",
    "print(full_names)"
   ]
  },
  {
   "cell_type": "markdown",
   "id": "6a9a6d5a",
   "metadata": {},
   "source": [
    "#### Create a new list like this: [\"A\", \"1\", \"B\", \"2\", \"C\", \"3\"]"
   ]
  },
  {
   "cell_type": "code",
   "execution_count": 6,
   "id": "7a15e43c",
   "metadata": {},
   "outputs": [
    {
     "name": "stdout",
     "output_type": "stream",
     "text": [
      "['A', '1', 'B', '2', 'C', '3']\n"
     ]
    }
   ],
   "source": [
    "a = [\"A\", \"B\", \"C\"]\n",
    "b = [\"1\", \"2\", \"3\"]\n",
    "list = [a[0], b[0], a[1], b[1], a[2], b[2]]\n",
    "print(list)"
   ]
  },
  {
   "cell_type": "markdown",
   "id": "b6ceb9d6",
   "metadata": {},
   "source": [
    "#### Split the list into 2 halves and swap their positions.Final result: [44, 55, 66, 11, 22, 33]"
   ]
  },
  {
   "cell_type": "code",
   "execution_count": 26,
   "id": "7dc9d363",
   "metadata": {},
   "outputs": [
    {
     "name": "stdout",
     "output_type": "stream",
     "text": [
      "[44, 55, 66, 11, 22, 33]\n"
     ]
    }
   ],
   "source": [
    "nums = [11, 22, 33, 44, 55, 66]\n",
    "first_half = [nums[0], nums[1], nums[2]]\n",
    "second_half = [nums[3], nums[4], nums[5]]\n",
    "result = second_half + first_half\n",
    "print(result)"
   ]
  },
  {
   "cell_type": "markdown",
   "id": "42687fd2",
   "metadata": {},
   "source": [
    "# Practice 4"
   ]
  },
  {
   "cell_type": "markdown",
   "id": "fea44c68",
   "metadata": {},
   "source": [
    "#### Change the value 30 to 99. Is it possible? Explain your answer"
   ]
  },
  {
   "cell_type": "code",
   "execution_count": 10,
   "id": "3ae1dc1e",
   "metadata": {},
   "outputs": [
    {
     "name": "stdout",
     "output_type": "stream",
     "text": [
      "(10, 20, [99, 40])\n"
     ]
    }
   ],
   "source": [
    "t = (10, 20, [30, 40])\n",
    "t[2][0] = 99\n",
    "print(t)"
   ]
  },
  {
   "cell_type": "markdown",
   "id": "802b606d",
   "metadata": {},
   "source": [
    "#### Answer: It is possible because even though a tuple is immutable, if it contains a list, the list can still be changed."
   ]
  },
  {
   "cell_type": "markdown",
   "id": "2a4b3fc3",
   "metadata": {},
   "source": [
    "#### Count how many times \"a\" appears.Find the index of the first \"b\"."
   ]
  },
  {
   "cell_type": "code",
   "execution_count": 24,
   "id": "dcad7118",
   "metadata": {},
   "outputs": [
    {
     "name": "stdout",
     "output_type": "stream",
     "text": [
      "\"a\" appears: 3 times\n",
      "The first \"b\" is index 1\n"
     ]
    }
   ],
   "source": [
    "data = (\"a\", \"b\", \"c\", \"a\", \"b\", \"a\")\n",
    "a_count = data.count(\"a\")\n",
    "first_b_index = data.index(\"b\")\n",
    "print( '\"a\"', \"appears:\", a_count, \"times\")\n",
    "print(\"The first\",'\"b\"', \"is index\", first_b_index)"
   ]
  },
  {
   "cell_type": "markdown",
   "id": "f890f9bb",
   "metadata": {},
   "source": [
    "#### Print all names only, using a loop"
   ]
  },
  {
   "cell_type": "code",
   "execution_count": 25,
   "id": "98724d2e",
   "metadata": {},
   "outputs": [
    {
     "name": "stdout",
     "output_type": "stream",
     "text": [
      "Alice\n",
      "Bob\n",
      "Charlie\n"
     ]
    }
   ],
   "source": [
    "students = ((\"Alice\", 18), (\"Bob\", 20), (\"Charlie\", 19))\n",
    "for student in students:\n",
    "    print(student[0])\n"
   ]
  },
  {
   "cell_type": "markdown",
   "id": "5a431429",
   "metadata": {},
   "source": [
    "# Practice 5"
   ]
  },
  {
   "cell_type": "markdown",
   "id": "37d8ca4b",
   "metadata": {},
   "source": [
    "#### Print every other number (step size = 2):"
   ]
  },
  {
   "cell_type": "code",
   "execution_count": 28,
   "id": "30285e46",
   "metadata": {},
   "outputs": [
    {
     "name": "stdout",
     "output_type": "stream",
     "text": [
      "[1, 3, 5, 7]\n"
     ]
    }
   ],
   "source": [
    "data = [1, 2, 3, 4, 5, 6, 7, 8]\n",
    "print(data[::2])"
   ]
  },
  {
   "cell_type": "markdown",
   "id": "6016a51d",
   "metadata": {},
   "source": [
    "#### Print only the weekend days from the tuple."
   ]
  },
  {
   "cell_type": "code",
   "execution_count": 29,
   "id": "0bb98bef",
   "metadata": {},
   "outputs": [
    {
     "name": "stdout",
     "output_type": "stream",
     "text": [
      "('Sat', 'Sun')\n"
     ]
    }
   ],
   "source": [
    "t = (\"Mon\", \"Tue\", \"Wed\", \"Thu\", \"Fri\", \"Sat\", \"Sun\")\n",
    "print(t[5:])"
   ]
  },
  {
   "cell_type": "markdown",
   "id": "7ab1486d",
   "metadata": {},
   "source": [
    "#### Remove the first and last elements from this list using slicing:"
   ]
  },
  {
   "cell_type": "code",
   "execution_count": 33,
   "id": "12d32b2b",
   "metadata": {},
   "outputs": [
    {
     "name": "stdout",
     "output_type": "stream",
     "text": [
      "['B', 'C', 'D']\n"
     ]
    }
   ],
   "source": [
    "letters = [\"A\", \"B\", \"C\", \"D\", \"E\"]\n",
    "print(letters[1:4])"
   ]
  },
  {
   "cell_type": "markdown",
   "id": "6c212e13",
   "metadata": {},
   "source": [
    "# Practice 6: Mini Gradebook Manager"
   ]
  },
  {
   "cell_type": "code",
   "execution_count": 35,
   "id": "70855024",
   "metadata": {},
   "outputs": [
    {
     "name": "stdout",
     "output_type": "stream",
     "text": [
      "===== Student Mini Gradebook Manager =====\n",
      "\n",
      "1. LAST 3 STUDENTS:\n",
      "Alice: [85, 90, 88]\n",
      "Bob: [70, 75, 80]\n",
      "Charlie: [95, 100, 98]\n",
      "\n",
      "2. ADDING STUDENTS:\n",
      "David added successfully.\n",
      "Sophea added successfully.\n",
      "Alice already exists.\n",
      "\n",
      "3. ALL AVERAGES:\n",
      "Alice: 87.67\n",
      "Bob: 75.0\n",
      "Charlie: 97.67\n",
      "David: 90.0\n",
      "Sophea: 81.67\n",
      "\n",
      "4. TOP PERFORMERS:\n",
      "\n",
      "Top Students by Average:\n",
      "Charlie: 97.67\n",
      "David: 90.0\n",
      "Alice: 87.67\n",
      "Sophea: 81.67\n",
      "Bob: 75.0\n",
      "\n",
      "5. UPDATING SCORES:\n",
      "Score updated: \n",
      "Bob's new scores: [70, 75, 88]\n",
      "Score updated: \n",
      "Charlie's new scores: [97, 100, 98]\n",
      "Invalid index.\n",
      "\n",
      "6. VIEWING RECORDS:\n",
      "Alice's scores: [85, 90, 88]\n",
      "David's scores: [92, 88, 90]\n",
      "No record found for student 'Alex'.\n",
      "\n",
      "7. REMOVING STUDENTS:\n",
      "Student 'Charlie' removed.\n",
      "No student found with the name 'Frank'.\n",
      "\n",
      "8. FINAL SUMMARY:\n",
      "\n",
      "Grade Summary Report:\n",
      "Name: Alice, Scores: [85, 90, 88], Average: 87.67\n",
      "Name: Bob, Scores: [70, 75, 88], Average: 77.67\n",
      "Name: David, Scores: [92, 88, 90], Average: 90.0\n",
      "Name: Sophea, Scores: [78, 82, 85], Average: 81.67\n",
      "\n",
      "9. FINAL STUDENT LIST:\n",
      "Alice: [85, 90, 88]\n",
      "Bob: [70, 75, 88]\n",
      "David: [92, 88, 90]\n",
      "Sophea: [78, 82, 85]\n",
      "\n",
      "===== DEMONSTRATION COMPLETE =====\n"
     ]
    }
   ],
   "source": [
    "students = [\n",
    "    (\"Alice\", [85, 90, 88]),\n",
    "    (\"Bob\", [70, 75, 80]),\n",
    "    (\"Charlie\", [95, 100, 98])\n",
    "]\n",
    "\n",
    "def get_average(scores):\n",
    "    return sum(scores) / len(scores)\n",
    "\n",
    "def add_student(name, scores):\n",
    "    for student in students:\n",
    "        if student[0].lower() == name.lower():\n",
    "            print(name + \" already exists.\")\n",
    "            return\n",
    "    students.append((name, scores))\n",
    "    print(name + \" added successfully.\")\n",
    "\n",
    "def get_all_averages(students):\n",
    "    averages = []\n",
    "    for name, scores in students:\n",
    "        avg = get_average(scores)\n",
    "        averages.append((name, avg))\n",
    "    return averages\n",
    "\n",
    "def show_top_students():\n",
    "    averages = get_all_averages(students)\n",
    "    averages.sort(key=lambda x: x[1], reverse=True)\n",
    "    print(\"\\nTop Students by Average:\")\n",
    "    for name, avg in averages:\n",
    "        print(f\"{name}: {round(avg, 2)}\")\n",
    "\n",
    "def update_score(name, index, new_score):\n",
    "    for i in range(len(students)):\n",
    "        if students[i][0].lower() == name.lower():\n",
    "            if index < 0 or index >= len(students[i][1]):\n",
    "                print(\"Invalid index.\")\n",
    "                return\n",
    "            students[i][1][index] = new_score\n",
    "            print(\"Score updated: \") \n",
    "            new_student_score(name)\n",
    "            return\n",
    "    print(\"Student not found.\")\n",
    "\n",
    "def new_student_score(name):\n",
    "    for student_name, scores in students:\n",
    "        if student_name.lower() == name.lower():\n",
    "            print(f\"{student_name}'s new scores: {scores}\")\n",
    "            return\n",
    "    print(f\"No update found for student '{name}'.\")\n",
    "\n",
    "def view_student_record(name):\n",
    "    for student_name, scores in students:\n",
    "        if student_name.lower() == name.lower():\n",
    "            print(f\"{student_name}'s scores: {scores}\")\n",
    "            return\n",
    "    print(f\"No record found for student '{name}'.\")\n",
    "\n",
    "def remove_student(name):\n",
    "    for student in students:\n",
    "        if student[0].lower() == name.lower():\n",
    "            students.remove(student)\n",
    "            print(f\"Student '{name}' removed.\")\n",
    "            return\n",
    "    print(f\"No student found with the name '{name}'.\")\n",
    "\n",
    "def print_summary():\n",
    "    print(\"\\nGrade Summary Report:\")\n",
    "    for name, scores in students:\n",
    "        avg = get_average(scores)\n",
    "        print(f\"Name: {name}, Scores: {scores}, Average: {round(avg, 2)}\")\n",
    "\n",
    "print(\"===== Student Mini Gradebook Manager =====\")\n",
    "# 1. Show last 3 students\n",
    "print(\"\\n1. LAST 3 STUDENTS:\")\n",
    "for name, scores in students[-3:]:\n",
    "    print(f\"{name}: {scores}\")\n",
    "\n",
    "# 2. Add new students\n",
    "print(\"\\n2. ADDING STUDENTS:\")\n",
    "add_student(\"David\", [92, 88, 90])\n",
    "add_student(\"Sophea\", [78, 82, 85])\n",
    "add_student(\"Alice\", [100, 100, 100])\n",
    "\n",
    "# 3. Show all averages\n",
    "print(\"\\n3. ALL AVERAGES:\")\n",
    "averages = get_all_averages(students)\n",
    "for name, avg in averages:\n",
    "    print(f\"{name}: {round(avg, 2)}\")\n",
    "\n",
    "# 4. Show top students\n",
    "print(\"\\n4. TOP PERFORMERS:\")\n",
    "show_top_students()\n",
    "\n",
    "# 5. Update scores\n",
    "print(\"\\n5. UPDATING SCORES:\")\n",
    "update_score(\"Bob\", 2, 88) \n",
    "update_score(\"Charlie\", 0, 97)  \n",
    "update_score(\"Alice\", 5, 100) \n",
    "\n",
    "# 6. View records\n",
    "print(\"\\n6. VIEWING RECORDS:\")\n",
    "view_student_record(\"Alice\")\n",
    "view_student_record(\"David\")\n",
    "view_student_record(\"Alex\")\n",
    "\n",
    "# 7. Remove students\n",
    "print(\"\\n7. REMOVING STUDENTS:\")\n",
    "remove_student(\"Charlie\")\n",
    "remove_student(\"Frank\") \n",
    "\n",
    "# 8. Final summary\n",
    "print(\"\\n8. FINAL SUMMARY:\")\n",
    "print_summary()\n",
    "\n",
    "# 9. Final student list\n",
    "print(\"\\n9. FINAL STUDENT LIST:\")\n",
    "for name, scores in students:\n",
    "    print(f\"{name}: {scores}\")\n",
    "\n",
    "print(\"\\n===== DEMONSTRATION COMPLETE =====\")"
   ]
  }
 ],
 "metadata": {
  "kernelspec": {
   "display_name": "Python 3",
   "language": "python",
   "name": "python3"
  },
  "language_info": {
   "codemirror_mode": {
    "name": "ipython",
    "version": 3
   },
   "file_extension": ".py",
   "mimetype": "text/x-python",
   "name": "python",
   "nbconvert_exporter": "python",
   "pygments_lexer": "ipython3",
   "version": "3.11.9"
  }
 },
 "nbformat": 4,
 "nbformat_minor": 5
}
