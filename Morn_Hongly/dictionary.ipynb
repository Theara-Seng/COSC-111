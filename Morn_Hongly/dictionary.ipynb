{
 "cells": [
  {
   "cell_type": "markdown",
   "id": "9226e062",
   "metadata": {},
   "source": [
    "## Dictionary Assignment\n",
    "#### Problem 1: Student Score Analysis\n",
    "\n",
    "You are given the following dictionary representing students and their scores on a test:\n",
    "\n",
    "```python\n",
    "scores = {\n",
    " 'Alice': 85,\n",
    " 'Bob': 92,\n",
    " 'Charlie': 78,\n",
    " 'David': 90,\n",
    " 'Eve': 88\n",
    "}\n",
    "Write a Python program to:\n",
    "• Find and print the name(s) of the student(s) with the highest score.\n",
    "• Calculate and print the average score of the class.\n",
    "• Create a new dictionary that only includes students who scored at least 80.\n",
    "\n"
   ]
  },
  {
   "cell_type": "code",
   "execution_count": 4,
   "id": "84dc9f49",
   "metadata": {},
   "outputs": [
    {
     "name": "stdout",
     "output_type": "stream",
     "text": [
      "['Bob']\n"
     ]
    }
   ],
   "source": [
    "scores = {\n",
    " 'Alice': 85,\n",
    " 'Bob': 92,\n",
    " 'Charlie': 78,\n",
    " 'David': 90,\n",
    " 'Eve': 88\n",
    "}\n",
    "high_score = max(scores.values())\n",
    "top_student = [name for name, score in scores.items() if (score == high_score)]\n",
    "print(top_student)\n",
    "    "
   ]
  },
  {
   "cell_type": "markdown",
   "id": "f4198327",
   "metadata": {},
   "source": [
    "#### Problem 2\n",
    "You’re given:\n",
    "``` python\n",
    " scores = {\n",
    " 'Alice': 85, 'Bob': 92, 'Charlie': 78,\n",
    " 'David': 90, 'Eve': 88, 'Frank': 95, 'Grace': 80\n",
    "}\n",
    "Write a program to:\n",
    "• Find the top 3 students with the highest scores and print their names and\n",
    "scores."
   ]
  },
  {
   "cell_type": "markdown",
   "id": "54e17f94",
   "metadata": {},
   "source": []
  },
  {
   "cell_type": "code",
   "execution_count": 41,
   "id": "5c22ead4",
   "metadata": {},
   "outputs": [
    {
     "name": "stdout",
     "output_type": "stream",
     "text": [
      "Top 3 Student in the class:\n",
      "1. Frank: 95\n",
      "2. Bob: 92\n",
      "3. David: 90\n"
     ]
    }
   ],
   "source": [
    "scores = {\n",
    " 'Alice': 85, 'Bob': 92, 'Charlie': 78,\n",
    " 'David': 90, 'Eve': 88, 'Frank': 95, 'Grace': 80\n",
    "}\n",
    "top = sorted(scores.items(), key=lambda x: x[1], reverse=True)\n",
    "top_student = top[:3]\n",
    "print(\"Top 3 Student in the class:\")\n",
    "i = 1\n",
    "while i<4:\n",
    "    for name, score in top_student:\n",
    "        print(f\"{i}. {name}: {score}\")\n",
    "        i+=1 \n",
    "   \n",
    "        \n",
    "\n"
   ]
  },
  {
   "cell_type": "markdown",
   "id": "9f2abc75",
   "metadata": {},
   "source": [
    "#### Problem3.\n",
    "Given\n",
    "```python data = {\n",
    " 'January': {'sales': 1000, 'expenses': 400},\n",
    " 'February': {'sales': 1200, 'expenses': 500},\n",
    " 'March': {'sales': 900, 'expenses': 450}\n",
    "}\n",
    "Write a program to:\n",
    "• Compute and print the total sales and total expenses for the quarter.\n",
    "• Also calculate the profit (sales - expenses) for each month."
   ]
  },
  {
   "cell_type": "code",
   "execution_count": 70,
   "id": "f9cc9a87",
   "metadata": {},
   "outputs": [
    {
     "name": "stdout",
     "output_type": "stream",
     "text": [
      "Total sale: $3100\n",
      "Total expenses: $1350\n",
      "The profit in January: $600\n",
      "The profit in February: $700\n",
      "The profit in March: $450\n",
      "Total profit: $1750\n"
     ]
    }
   ],
   "source": [
    "data = {\n",
    " 'January': {'sales': 1000, 'expenses': 400},\n",
    " 'February': {'sales': 1200, 'expenses': 500},\n",
    " 'March': {'sales': 900, 'expenses': 450}\n",
    "}\n",
    "sale = 0\n",
    "expen = 0 \n",
    "for i in data.values():\n",
    "    sale += i['sales']\n",
    "    expen += i['expenses']\n",
    "    total = sale - expen\n",
    "print(f\"Total sale: ${sale}\")\n",
    "print(f\"Total expenses: ${expen}\")\n",
    "\n",
    "for a, x in data.items():\n",
    "    sale = x['sales']\n",
    "    expen = x['expenses']\n",
    "    total_each = sale - expen\n",
    "    print(f\"The profit in {a}: ${total_each}\")\n",
    "print(f\"Total profit: ${total}\")\n",
    "\n",
    "\n"
   ]
  },
  {
   "cell_type": "markdown",
   "id": "602203e5",
   "metadata": {},
   "source": [
    "#### Problem 4\n",
    "```python You’re given a list of names:\n",
    "names = [\"Anna\", \"Benjamin\", \"Cathy\", \"Dann\", \"Eleanor\", \"Frank\"]\n",
    "Write a program to create a dictionary where the keys are name lengths and the values are lists of\n",
    "names of that length:\n",
    "Expected Output\n",
    "{\n",
    " 4: ['Anna', 'Dann'],\n",
    " 7: ['Benjamin'],\n",
    " 5: ['Cathy', 'Frank'],\n",
    " 7: ['Eleanor']\n",
    "}"
   ]
  },
  {
   "cell_type": "code",
   "execution_count": 87,
   "id": "24a8b4a3",
   "metadata": {},
   "outputs": [
    {
     "name": "stdout",
     "output_type": "stream",
     "text": [
      "{4: ['Anna', 'Dann'], 8: ['Benjamin'], 5: ['Cathy', 'Frank'], 7: ['Eleanor']}\n"
     ]
    }
   ],
   "source": [
    "names = [\"Anna\", \"Benjamin\", \"Cathy\", \"Dann\", \"Eleanor\", \"Frank\"]\n",
    "keys = {}\n",
    "for i in names:\n",
    "    if len(i) not in keys:\n",
    "        keys[len(i)] = []\n",
    "    keys[len(i)].append(i)\n",
    "    \n",
    "print(keys)"
   ]
  },
  {
   "cell_type": "markdown",
   "id": "d6e56d10",
   "metadata": {},
   "source": [
    "#### Problem 5. \n",
    "```python \n",
    "Build a simple console-based student management system that uses Python dictionaries to store\n",
    "and manage data about students, their courses, and grades.\n",
    "Store student data in a dictionary, where:\n",
    "• Each key is a student ID (or name).\n",
    "• Each value is another dictionary containing:\n",
    "o 'name': full name\n",
    "o 'courses': a dictionary of courses and grades.\n",
    "Example structure:\n",
    "students = {\n",
    " 'S001': {\n",
    " 'name': 'Alice',\n",
    " 'courses': {'Math': 90, 'English': 85}\n",
    " },\n",
    " 'S002': {\n",
    " 'name': 'Bob',\n",
    " 'courses': {'Math': 75, 'Science': 80}\n",
    " }\n",
    "}\n",
    "• Feature to implement\n",
    "1. Add a new student.\n",
    "2. Add or update a course & grade for a student.\n",
    "3. Remove a student by ID.\n",
    "4. Display all students with their courses and grades.\n",
    "5. Display the average grade for a given student.\n",
    "6. Find the student(s) with the highest average grade"
   ]
  },
  {
   "cell_type": "markdown",
   "id": "4430aa99",
   "metadata": {},
   "source": []
  },
  {
   "cell_type": "code",
   "execution_count": 131,
   "id": "9657a9b5",
   "metadata": {},
   "outputs": [
    {
     "name": "stdout",
     "output_type": "stream",
     "text": [
      "Student's id S003 is added to the system.\n",
      "Student's id S003 courses and grade is updated.\n",
      "Student's id S003 courses and grade is updated.\n",
      "Student Info:\n",
      "--------------------------------------------------\n",
      "S001 Alice:\n",
      "Math: 90\n",
      "English: 85\n",
      "--------------------------------------------------\n",
      "S002 Bob:\n",
      "Math: 75\n",
      "Science: 80\n",
      "--------------------------------------------------\n",
      "S003 Hongly:\n",
      "Geo: 90\n",
      "Bio: 85\n",
      "--------------------------------------------------\n",
      "Average score: \n",
      "Alice's average score: 87.50\n",
      "Bob's average score: 77.50\n",
      "Hongly's average score: 87.50\n",
      "Top student is ['Alice', 'Hongly'] with average: 87.50\n"
     ]
    }
   ],
   "source": [
    "students = {\n",
    " 'S001': {'name': 'Alice','courses': {'Math': 90, 'English': 85}},\n",
    " 'S002': {'name': 'Bob','courses': {'Math': 75, 'Science': 80}}}\n",
    "def add_student(id, name):\n",
    "    if id in students:\n",
    "        print(\"This ID is alread exit.\")\n",
    "    else: \n",
    "        students[id]= {'name': name, 'courses': {}}\n",
    "        print(f\"Student's id {id} is added to the system.\")\n",
    "    \n",
    "def update_courses(id, courses, grade):\n",
    "    if id in students:\n",
    "        students[id]['courses'][courses]= grade\n",
    "        print(f\"Student's id {id} courses and grade is updated.\")\n",
    "    else:\n",
    "        print(\"Not Found\")\n",
    "def remove_student(id):\n",
    "    if id in students:\n",
    "       del students[id]\n",
    "    else:\n",
    "        print(\"Not Found\")\n",
    "    print(f\"Student's id {id} is removed from the system.\")\n",
    "def display_all_student():\n",
    "    print(\"Student Info:\")\n",
    "    print('-'*50)\n",
    "    for id, info in students.items():\n",
    "        print(f\"{id} {info['name']}:\")\n",
    "        for sub, score in info['courses'].items():\n",
    "            print(f\"{sub}: {score}\")\n",
    "        print('-'*50)\n",
    "def average_grade():\n",
    "    print(\"Average score: \")\n",
    "    for id, info in students.items():\n",
    "        grade = students[id]['courses'].values()\n",
    "        if grade:\n",
    "            sum = 0 \n",
    "            for i in grade:\n",
    "                sum+= i \n",
    "                average = sum / len(grade)            \n",
    "            print(f\"{students[id]['name']}'s average score: {average:.2f}\")\n",
    "        else:\n",
    "            print(\"No grade available. \")\n",
    "def top_student():\n",
    "    high_avg = 0 \n",
    "    top = []\n",
    "    for id, info in students.items():\n",
    "        grade = info['courses'].values()\n",
    "        if grade:\n",
    "            sum = 0 \n",
    "            for i in grade:\n",
    "                sum+= i \n",
    "                average = sum / len(grade)\n",
    "                if average > high_avg:\n",
    "                    high_avg = average\n",
    "                    top = [info['name']]\n",
    "                elif average == high_avg:\n",
    "                    top.append(info['name'])\n",
    "    if top:\n",
    "        print(f\"Top student is {top} with average: {high_avg:.2f}\")\n",
    "    else:\n",
    "        print(\"No grade Found. \")\n",
    "\n",
    "# call function \n",
    "add_student('S003', 'Hongly' )\n",
    "update_courses('S003', 'Geo', 90)\n",
    "update_courses('S003', 'Bio', 85)\n",
    "# remove_student('S003')\n",
    "display_all_student()\n",
    "average_grade()\n",
    "top_student()\n",
    "\n",
    "\n",
    "\n",
    "    \n",
    "\n",
    "    "
   ]
  },
  {
   "cell_type": "code",
   "execution_count": null,
   "id": "180984e7",
   "metadata": {},
   "outputs": [],
   "source": []
  }
 ],
 "metadata": {
  "kernelspec": {
   "display_name": ".venv",
   "language": "python",
   "name": "python3"
  },
  "language_info": {
   "codemirror_mode": {
    "name": "ipython",
    "version": 3
   },
   "file_extension": ".py",
   "mimetype": "text/x-python",
   "name": "python",
   "nbconvert_exporter": "python",
   "pygments_lexer": "ipython3",
   "version": "3.13.5"
  }
 },
 "nbformat": 4,
 "nbformat_minor": 5
}
