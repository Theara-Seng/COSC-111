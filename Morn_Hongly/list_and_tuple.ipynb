{
 "cells": [
  {
   "cell_type": "markdown",
   "id": "80bdec99",
   "metadata": {},
   "source": [
    "# Practice1"
   ]
  },
  {
   "cell_type": "markdown",
   "id": "ff5fb5a8",
   "metadata": {},
   "source": [
    "### Createalist of 4 countries: [\"Cambodia\", \"China\", \"Vietnam\", \"Laos\"] Print the first country in the list."
   ]
  },
  {
   "cell_type": "code",
   "execution_count": 2,
   "id": "84ed903a",
   "metadata": {},
   "outputs": [
    {
     "data": {
      "text/plain": [
       "'Cambodia'"
      ]
     },
     "execution_count": 2,
     "metadata": {},
     "output_type": "execute_result"
    }
   ],
   "source": [
    "list = [\"Cambodia\", \"China\", \"Vietnam\", \"Laos\"]\n",
    "list[0]"
   ]
  },
  {
   "cell_type": "markdown",
   "id": "262b2bc3",
   "metadata": {},
   "source": [
    "### Createalist of animals: [\"dog\", \"cat\", \"rabbit\", \"hamster\"] Print the last animal using negative indexing."
   ]
  },
  {
   "cell_type": "code",
   "execution_count": 3,
   "id": "6b21fa82",
   "metadata": {},
   "outputs": [
    {
     "data": {
      "text/plain": [
       "'hamster'"
      ]
     },
     "execution_count": 3,
     "metadata": {},
     "output_type": "execute_result"
    }
   ],
   "source": [
    "list = [\"dog\", \"cat\", \"rabbit\", \"hamster\"]\n",
    "list[-1]"
   ]
  },
  {
   "cell_type": "markdown",
   "id": "2c4c42f9",
   "metadata": {},
   "source": [
    "# Practice2\n"
   ]
  },
  {
   "cell_type": "markdown",
   "id": "5dd90d2f",
   "metadata": {},
   "source": [
    "### Createalist of Fruits: [\"apple\", \"banana\", \"cherry\"]. Change \"banana\" to \"mango\" and print the list."
   ]
  },
  {
   "cell_type": "code",
   "execution_count": 4,
   "id": "e2cfc280",
   "metadata": {},
   "outputs": [
    {
     "name": "stdout",
     "output_type": "stream",
     "text": [
      "['apple', 'mango', 'cherry']\n"
     ]
    }
   ],
   "source": [
    "fruits = [\"apple\", \"banana\", \"cherry\"]\n",
    "fruits[1] = \"mango\"\n",
    "print(fruits)"
   ]
  },
  {
   "cell_type": "markdown",
   "id": "5bfd33fb",
   "metadata": {},
   "source": [
    "### Createalist called a = [1, 2, 3] \n",
    "### Assign b = a \n",
    "### Then set b[0] = 100 Print both a and b.\n"
   ]
  },
  {
   "cell_type": "markdown",
   "id": "b2b70cab",
   "metadata": {},
   "source": []
  },
  {
   "cell_type": "code",
   "execution_count": 6,
   "id": "716f7cbf",
   "metadata": {},
   "outputs": [
    {
     "name": "stdout",
     "output_type": "stream",
     "text": [
      "a: [1, 2, 3]\n",
      "b: [100, 2, 3]\n"
     ]
    }
   ],
   "source": [
    "a = [1, 2, 3]\n",
    "print(\"a:\", a)\n",
    "b = a\n",
    "b[0] = 100\n",
    "print(\"b:\", b)"
   ]
  },
  {
   "cell_type": "markdown",
   "id": "e74d3add",
   "metadata": {},
   "source": [
    "# Practice 3"
   ]
  },
  {
   "cell_type": "markdown",
   "id": "baeb7301",
   "metadata": {},
   "source": [
    "### Giventwolists.Writecodetoprint: [\"AliceSmith\",\"BobLee\"].Use elementaccessand+.\n",
    "\n"
   ]
  },
  {
   "cell_type": "code",
   "execution_count": 1,
   "id": "08c3b7df",
   "metadata": {},
   "outputs": [
    {
     "name": "stdout",
     "output_type": "stream",
     "text": [
      "Alice Smith\n",
      "Bob Lee\n"
     ]
    }
   ],
   "source": [
    "first_names=[\"Alice\",\"Bob\"]\n",
    "last_names=[\"Smith\",\"Lee\"]\n",
    "for i in range(len(first_names)):\n",
    "    print(f\"{first_names[i]} {last_names[i]}\")\n",
    "    \n"
   ]
  },
  {
   "cell_type": "markdown",
   "id": "42bfe08e",
   "metadata": {},
   "source": [
    "### given list a an b\n"
   ]
  },
  {
   "cell_type": "code",
   "execution_count": 4,
   "id": "020a3847",
   "metadata": {},
   "outputs": [
    {
     "name": "stdout",
     "output_type": "stream",
     "text": [
      "['A', '1', 'B', '2', 'C', '3']\n"
     ]
    }
   ],
   "source": [
    "a =[\"A\",\"B\",\"C\"]\n",
    "b =[\"1\",\"2\",\"3\"]\n",
    "new_list = []\n",
    "i = 0\n",
    "# Using a while loop to iterate through the lists\n",
    "while i< len(a):\n",
    "    new_list.append(a[i])\n",
    "    new_list.append(b[i])\n",
    "    i += 1\n",
    "print(new_list)\n",
    " "
   ]
  },
  {
   "cell_type": "markdown",
   "id": "d872ad6a",
   "metadata": {},
   "source": [
    "### given num \n",
    "### Splitthelistinto2halvesandswaptheirpositions.Finalresult: [44,55,66,11,22,33]"
   ]
  },
  {
   "cell_type": "code",
   "execution_count": 5,
   "id": "78ee9816",
   "metadata": {},
   "outputs": [
    {
     "name": "stdout",
     "output_type": "stream",
     "text": [
      "[44, 55, 66, 11, 22, 33]\n"
     ]
    }
   ],
   "source": [
    "nums=[11,22,33,44,55,66]\n",
    "half = len(nums) // 2\n",
    "first_half = nums[:half]\n",
    "second_half = nums[half:]\n",
    "swapped_list = second_half + first_half\n",
    "print(swapped_list)\n",
    "# given list a an b"
   ]
  },
  {
   "cell_type": "markdown",
   "id": "7bb99560",
   "metadata": {},
   "source": [
    "# Practice 4"
   ]
  },
  {
   "cell_type": "markdown",
   "id": "219a5304",
   "metadata": {},
   "source": [
    "### Given\n",
    "### t =(10,20,[30,40])\n",
    "### Changethevalue30to99. Isitpossible?Explainyouranswer"
   ]
  },
  {
   "cell_type": "code",
   "execution_count": 1,
   "id": "1eb973e5",
   "metadata": {},
   "outputs": [
    {
     "name": "stdout",
     "output_type": "stream",
     "text": [
      "(10, 20, [99, 40])\n"
     ]
    }
   ],
   "source": [
    "# yes we can change the value of 30 to 99 and to explain it we can say that\n",
    "# tuples are immutable but the list inside the tuple is mutable so we can change the value of\n",
    "t =(10,20,[30,40])\n",
    "t[2][0] = 99\n",
    "print(t)"
   ]
  },
  {
   "cell_type": "markdown",
   "id": "ba9638b6",
   "metadata": {},
   "source": [
    "### Given\n",
    "### data=(\"a\",\"b\",\"c\",\"a\",\"b\",\"a\")\n",
    "### Counthowmanytimes\"a\"appears.Findtheindexofthefirst\"b\"."
   ]
  },
  {
   "cell_type": "code",
   "execution_count": 5,
   "id": "2e483420",
   "metadata": {},
   "outputs": [
    {
     "name": "stdout",
     "output_type": "stream",
     "text": [
      "Count of 'a': 3\n",
      "Index of first 'b': 1\n"
     ]
    }
   ],
   "source": [
    "data = (\"a\",\"b\",\"c\",\"a\",\"b\",\"a\")\n",
    "count_a = data.count(\"a\")\n",
    "first_b_index = data.index(\"b\")\n",
    "print(f\"Count of 'a': {count_a}\\nIndex of first 'b': {first_b_index}\")\n"
   ]
  },
  {
   "cell_type": "markdown",
   "id": "45ff1a49",
   "metadata": {},
   "source": [
    "### Givenn student tumple and then print the name only"
   ]
  },
  {
   "cell_type": "code",
   "execution_count": 13,
   "id": "25a9e492",
   "metadata": {},
   "outputs": [
    {
     "name": "stdout",
     "output_type": "stream",
     "text": [
      "Name: Alice\n",
      "Name: Bob\n",
      "Name: Charlie\n"
     ]
    }
   ],
   "source": [
    "# give \n",
    "students=(\n",
    "    (\"Alice\", 20, \"A\"),\n",
    "    (\"Bob\", 22, \"B\"),\n",
    "    (\"Charlie\", 21, \"C\"))\n",
    "for student in students:\n",
    "    name, age, grade = student\n",
    "    print(f\"Name: {name}\") \n",
    "    "
   ]
  },
  {
   "cell_type": "markdown",
   "id": "a1f30406",
   "metadata": {},
   "source": [
    "# Practice 5 \n",
    "###  Print every other number(stepsize=2):"
   ]
  },
  {
   "cell_type": "code",
   "execution_count": 16,
   "id": "93732192",
   "metadata": {},
   "outputs": [
    {
     "name": "stdout",
     "output_type": "stream",
     "text": [
      "[1, 3, 5, 7]\n",
      "[2, 4, 6, 8]\n"
     ]
    }
   ],
   "source": [
    "# given\n",
    "data=[1,2,3,4,5,6,7,8]\n",
    "print(data[::2])  # Print every other number (step size = 2)\n",
    "print(data[1::2])  # Print every other number starting from index 1 (step size = 2)\n",
    "\n",
    "\n"
   ]
  },
  {
   "cell_type": "markdown",
   "id": "ad0ad071",
   "metadata": {},
   "source": [
    "### Printonlytheweekenddaysfromthetuple."
   ]
  },
  {
   "cell_type": "code",
   "execution_count": 21,
   "id": "f82f9a75",
   "metadata": {},
   "outputs": [
    {
     "name": "stdout",
     "output_type": "stream",
     "text": [
      "('Sat', 'Sun')\n"
     ]
    }
   ],
   "source": [
    "# given\n",
    "t =(\"Mon\",\"Tue\", \"Wed\",\"Thu\",\"Fri\", \"Sat\",\"Sun\")\n",
    "weekend_days = t[5:]  # Extracting weekend days (Saturday and Sunday)\n",
    "print(weekend_days)"
   ]
  },
  {
   "cell_type": "markdown",
   "id": "fbf00bf6",
   "metadata": {},
   "source": [
    "###  Remove the first and last elements from this list using slicing:"
   ]
  },
  {
   "cell_type": "code",
   "execution_count": 22,
   "id": "d5819525",
   "metadata": {},
   "outputs": [
    {
     "name": "stdout",
     "output_type": "stream",
     "text": [
      "['B', 'C', 'D']\n"
     ]
    }
   ],
   "source": [
    "# given\n",
    "letters =[\"A\",\"B\",\"C\",\"D\",\"E\"]\n",
    "remove = letters[1:-1]\n",
    "print(remove)  # Output: ['B', 'C', 'D']"
   ]
  },
  {
   "cell_type": "markdown",
   "id": "954c232b",
   "metadata": {},
   "source": [
    "# Practice 6\n"
   ]
  },
  {
   "cell_type": "code",
   "execution_count": null,
   "id": "c3583e9b",
   "metadata": {},
   "outputs": [],
   "source": [
    "# Given"
   ]
  }
 ],
 "metadata": {
  "kernelspec": {
   "display_name": ".venv",
   "language": "python",
   "name": "python3"
  },
  "language_info": {
   "codemirror_mode": {
    "name": "ipython",
    "version": 3
   },
   "file_extension": ".py",
   "mimetype": "text/x-python",
   "name": "python",
   "nbconvert_exporter": "python",
   "pygments_lexer": "ipython3",
   "version": "3.13.5"
  }
 },
 "nbformat": 4,
 "nbformat_minor": 5
}
