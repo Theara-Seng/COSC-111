{
 "cells": [
  {
   "cell_type": "markdown",
   "id": "e536378a",
   "metadata": {},
   "source": [
    "# Practice 1"
   ]
  },
  {
   "cell_type": "markdown",
   "id": "7f95a921",
   "metadata": {},
   "source": [
    "#### Create a list of 4 countries: [\"Cambodia\",\"China\",\"Vietnam\",\"Laos\"]"
   ]
  },
  {
   "cell_type": "code",
   "execution_count": 23,
   "id": "f3964234",
   "metadata": {},
   "outputs": [
    {
     "name": "stdout",
     "output_type": "stream",
     "text": [
      "list[0] is  Cambodia\n"
     ]
    }
   ],
   "source": [
    "list = ['Cambodia', 'China', 'Vietnam', 'Laos']\n",
    "print(\"list[0] is \", list[0])"
   ]
  },
  {
   "cell_type": "code",
   "execution_count": 24,
   "id": "b57af7ef",
   "metadata": {},
   "outputs": [
    {
     "name": "stdout",
     "output_type": "stream",
     "text": [
      "list[-1] is  hamster\n"
     ]
    }
   ],
   "source": [
    "list = ['dog','cat','rabbit','hamster']\n",
    "print(\"list[-1] is \", list[-1])"
   ]
  },
  {
   "cell_type": "markdown",
   "id": "f20d9dd6",
   "metadata": {},
   "source": [
    "# Practice 2"
   ]
  },
  {
   "cell_type": "code",
   "execution_count": 25,
   "id": "30e86477",
   "metadata": {},
   "outputs": [
    {
     "name": "stdout",
     "output_type": "stream",
     "text": [
      "['apple', 'mango', 'cherry']\n"
     ]
    }
   ],
   "source": [
    "list = ['apple', 'banana', 'cherry']\n",
    "list[1] = 'mango'\n",
    "print (list)"
   ]
  },
  {
   "cell_type": "code",
   "execution_count": 26,
   "id": "fc33d074",
   "metadata": {},
   "outputs": [
    {
     "name": "stdout",
     "output_type": "stream",
     "text": [
      "a is  [100, 2, 3]\n",
      "b is  [100, 2, 3]\n"
     ]
    }
   ],
   "source": [
    "a = [1, 2, 3]\n",
    "b = a\n",
    "b[0] = 100\n",
    "print(\"a is \", a)\n",
    "print(\"b is \", b)\n",
    "    \n"
   ]
  },
  {
   "cell_type": "markdown",
   "id": "00407099",
   "metadata": {},
   "source": [
    "# Practice3"
   ]
  },
  {
   "cell_type": "code",
   "execution_count": 12,
   "id": "77902253",
   "metadata": {},
   "outputs": [
    {
     "name": "stdout",
     "output_type": "stream",
     "text": [
      "name [ Alice Smith , Bob Lee ]\n"
     ]
    }
   ],
   "source": [
    "first_names = [\"Alice\", \"Bob\"]\n",
    "last_names = [\"Smith\", \"Lee\"]\n",
    "print(\"name [\", first_names[0] + ' ' + last_names[0],\",\", first_names[1] + ' ' + last_names[1], \"]\")\n"
   ]
  },
  {
   "cell_type": "code",
   "execution_count": 2,
   "id": "57220f9d",
   "metadata": {},
   "outputs": [
    {
     "name": "stdout",
     "output_type": "stream",
     "text": [
      "New list  ['A', '1', 'B', '2', 'C', '3']\n"
     ]
    }
   ],
   "source": [
    "a = [\"A\", \"B\", \"C\"]\n",
    "b = [\"1\", \"2\", \"3\"]\n",
    "print(\"New list \", [a[0], b[0], a[1], b[1], a[2], b[2]])"
   ]
  },
  {
   "cell_type": "code",
   "execution_count": 5,
   "id": "3753e8bf",
   "metadata": {},
   "outputs": [
    {
     "name": "stdout",
     "output_type": "stream",
     "text": [
      "Final result is  [44, 55, 66, 11, 22, 33]\n"
     ]
    }
   ],
   "source": [
    "nums = [11, 22, 33, 44, 55, 66]\n",
    "print(\"Final result is \", [nums[3], nums[4], nums[5], nums[0], nums[1], nums[2]])"
   ]
  },
  {
   "cell_type": "markdown",
   "id": "9e7ba07a",
   "metadata": {},
   "source": [
    "# Practice4\n",
    "#### Yes it is posible because t it self is tuple we can not change the tuple but the third element is a list which is imutable so we can change the contents of the list in the tuple.\n",
    "\n",
    "\n",
    "\n"
   ]
  },
  {
   "cell_type": "code",
   "execution_count": 4,
   "id": "ea19719b",
   "metadata": {},
   "outputs": [
    {
     "name": "stdout",
     "output_type": "stream",
     "text": [
      "(10, 20, [99, 40])\n"
     ]
    }
   ],
   "source": [
    "t = (10, 20, [30, 40])\n",
    "t[2][0] = 99\n",
    "print(t)"
   ]
  },
  {
   "cell_type": "code",
   "execution_count": 6,
   "id": "0853e95d",
   "metadata": {},
   "outputs": [
    {
     "name": "stdout",
     "output_type": "stream",
     "text": [
      "Count of 'a' in data is  3\n",
      "Index of first 'b' is 1\n"
     ]
    }
   ],
   "source": [
    "data = (\"a\", \"b\", \"c\", \"a\", \"b\", \"a\")\n",
    "print(\"Count of 'a' in data is \", data.count(\"a\"))\n",
    "print(\"Index of first 'b' is\", data.index(\"b\"))"
   ]
  },
  {
   "cell_type": "code",
   "execution_count": 8,
   "id": "5a7c7c93",
   "metadata": {},
   "outputs": [
    {
     "name": "stdout",
     "output_type": "stream",
     "text": [
      "Alice\n",
      "Bob\n",
      "Charlie\n"
     ]
    }
   ],
   "source": [
    "students = (\n",
    "    (\"Alice\", 18),\n",
    "    (\"Bob\", 20),\n",
    "    (\"Charlie\", 19)\n",
    ")\n",
    "for student in students:\n",
    "    print(student[0])"
   ]
  },
  {
   "cell_type": "markdown",
   "id": "5923504b",
   "metadata": {},
   "source": [
    "# practice5"
   ]
  },
  {
   "cell_type": "code",
   "execution_count": 9,
   "id": "683cb98a",
   "metadata": {},
   "outputs": [
    {
     "name": "stdout",
     "output_type": "stream",
     "text": [
      "[1, 3, 5, 7]\n"
     ]
    }
   ],
   "source": [
    "data = [1, 2, 3, 4, 5, 6, 7, 8]\n",
    "print(data[::2])"
   ]
  },
  {
   "cell_type": "code",
   "execution_count": 12,
   "id": "38bb16e5",
   "metadata": {},
   "outputs": [
    {
     "name": "stdout",
     "output_type": "stream",
     "text": [
      "weekend days are ('Sat', 'Sun')\n"
     ]
    }
   ],
   "source": [
    "t = (\"mon\", \"Tue\", \"Wed\", \"Thu\", \"Fri\", \"Sat\", \"Sun\")\n",
    "print(\"weekend days are\", t[5:7])"
   ]
  },
  {
   "cell_type": "code",
   "execution_count": 13,
   "id": "08173fa4",
   "metadata": {},
   "outputs": [
    {
     "name": "stdout",
     "output_type": "stream",
     "text": [
      "['B', 'C', 'D']\n"
     ]
    }
   ],
   "source": [
    "letters = [\"A\", \"B\", \"C\", \"D\", \"E\"]\n",
    "print(letters[1:4])"
   ]
  },
  {
   "cell_type": "markdown",
   "id": "e46c9347",
   "metadata": {},
   "source": [
    "# Practice6 "
   ]
  },
  {
   "cell_type": "code",
   "execution_count": 10,
   "id": "5938ba7e",
   "metadata": {},
   "outputs": [
    {
     "name": "stdout",
     "output_type": "stream",
     "text": [
      "\n",
      "Menu:\n",
      "1. Add Student\n",
      "2. Get All Averages\n",
      "3. Get individual Student Average\n",
      "4. Update Score\n",
      "5. Delete Student\n",
      "6. Exit\n",
      "Exiting the program.\n",
      "========================================\n",
      "Name         Scores               Average\n",
      "----------------------------------------\n",
      "Alice        85, 90, 78           84.33  \n",
      "Bob          92, 88, 95           91.67  \n",
      "Charlie      70, 75, 80           75.00  \n",
      "========================================\n"
     ]
    }
   ],
   "source": [
    "students_list = [\n",
    "    (\"Alice\", [85, 90, 78]),\n",
    "    (\"Bob\", [92, 88, 95]),\n",
    "    (\"Charlie\", [70, 75, 80])\n",
    "]\n",
    "\n",
    "def get_average(scores):\n",
    "    return sum(scores) / len(scores)\n",
    "\n",
    "def add_student(name, scores):\n",
    "    for existing_name, _ in students_list:\n",
    "        if name.lower() == existing_name.lower():\n",
    "            print(f\"Error: Student {name} already exists!\")\n",
    "            return\n",
    "    students_list.append((name, scores))\n",
    "    print(f\"Student {name} added successfully.\")\n",
    "\n",
    "\n",
    "\n",
    "def get_all_averages(name):\n",
    "    for student_name, scores in students_list:\n",
    "        if student_name.lower() == name.lower():\n",
    "            average = get_average(scores)\n",
    "            print(f\"{student_name}: {average:.2f}\")\n",
    "            return\n",
    "    print(f\"Error: Student {name} not found!\")\n",
    "    \n",
    "def get_all_average_with_order():\n",
    "    averages = []\n",
    "    for student_name, scores in students_list:\n",
    "        average = get_average(scores)\n",
    "        averages.append((student_name, average))\n",
    "    \n",
    "    # Sort by average score in descending order\n",
    "    averages.sort(key=lambda x: x[1], reverse=True)\n",
    "    \n",
    "    print(\"All students' averages (sorted):\")\n",
    "    for student_name, average in averages:\n",
    "        print(f\"{student_name}: {average:.2f}\")\n",
    "\n",
    "def update_score(name, index, new_score):\n",
    "    for student_name, scores in students_list:\n",
    "        if student_name.lower() == name.lower():\n",
    "            if 0 <= index < len(scores):\n",
    "                scores[index] = new_score\n",
    "                print(f\"Score updated for {student_name}.\")\n",
    "            else:\n",
    "                print(f\"Error: Invalid score index {index} for student {name}.\")\n",
    "            return\n",
    "    print(f\"Error: Student {name} not found!\")\n",
    "\n",
    "\n",
    "\n",
    "def delete_student(name):\n",
    "    for i, (student_name, _) in enumerate(students_list):\n",
    "        if student_name.lower() == name.lower():\n",
    "            del students_list[i]\n",
    "            print(f\"Student {name} deleted successfully.\")\n",
    "            return\n",
    "    print(f\"Error: Student {name} not found!\")\n",
    "\n",
    "def main():\n",
    "    while True:\n",
    "        print(\"\\nMenu:\")\n",
    "        print(\"1. Add Student\")\n",
    "        print(\"2. Get All Averages\")\n",
    "        print(\"3. Get individual Student Average\")\n",
    "        print(\"4. Update Score\")\n",
    "        print(\"5. Delete Student\")\n",
    "        print(\"6. Exit\")\n",
    "        choice = input(\"Enter your choice: \")\n",
    "        if choice == '1':\n",
    "            name=input(\"Enter student name: \")\n",
    "            scores = input(\"Enter scores separated by space: \")\n",
    "            scores = list(map(int, scores.split()))\n",
    "            add_student(name, scores)\n",
    "        elif choice == '2':\n",
    "            get_all_average_with_order()\n",
    "        elif choice == '3':\n",
    "            name = input(\"Enter student name: \")\n",
    "            get_all_averages(name)\n",
    "        elif choice == '4':\n",
    "            name = input(\"Enter student name: \")\n",
    "            index = int(input(\"Enter score index to update (0-based): \"))\n",
    "            new_score = int(input(\"Enter new score: \"))\n",
    "            update_score(name, index, new_score)\n",
    "        elif choice == '5':\n",
    "            name = input(\"Enter student name to delete: \")\n",
    "            delete_student(name)\n",
    "        elif choice == '6':\n",
    "            print(\"Exiting the program.\")\n",
    "            break\n",
    "\n",
    "\n",
    "if __name__ == \"__main__\":\n",
    "    main()  \n",
    "def print_grade_summary(students_list):\n",
    "    print(\"=\"*40)\n",
    "    print(\"{:<12} {:<20} {:<7}\".format(\"Name\", \"Scores\", \"Average\"))\n",
    "    print(\"-\"*40)\n",
    "    for name, scores in students_list:\n",
    "        avg = sum(scores) / len(scores)\n",
    "        scores_str = \", \".join(str(s) for s in scores)\n",
    "        print(\"{:<12} {:<20} {:<7.2f}\".format(name, scores_str, avg))\n",
    "    print(\"=\"*40)\n",
    "\n",
    "# Example usage:\n",
    "print_grade_summary(students_list)   \n",
    "\n"
   ]
  }
 ],
 "metadata": {
  "kernelspec": {
   "display_name": "Python 3",
   "language": "python",
   "name": "python3"
  },
  "language_info": {
   "codemirror_mode": {
    "name": "ipython",
    "version": 3
   },
   "file_extension": ".py",
   "mimetype": "text/x-python",
   "name": "python",
   "nbconvert_exporter": "python",
   "pygments_lexer": "ipython3",
   "version": "3.11.9"
  }
 },
 "nbformat": 4,
 "nbformat_minor": 5
}
