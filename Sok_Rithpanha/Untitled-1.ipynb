{
 "cells": [
  {
   "cell_type": "markdown",
   "id": "e536378a",
   "metadata": {},
   "source": [
    "# Practice 1"
   ]
  },
  {
   "cell_type": "markdown",
   "id": "7f95a921",
   "metadata": {},
   "source": [
    "#### Create a list of 4 countries: [\"Cambodia\",\"China\",\"Vietnam\",\"Laos\"]"
   ]
  },
  {
   "cell_type": "code",
   "execution_count": 23,
   "id": "f3964234",
   "metadata": {},
   "outputs": [
    {
     "name": "stdout",
     "output_type": "stream",
     "text": [
      "list[0] is  Cambodia\n"
     ]
    }
   ],
   "source": [
    "list = ['Cambodia', 'China', 'Vietnam', 'Laos']\n",
    "print(\"list[0] is \", list[0])"
   ]
  },
  {
   "cell_type": "code",
   "execution_count": 24,
   "id": "b57af7ef",
   "metadata": {},
   "outputs": [
    {
     "name": "stdout",
     "output_type": "stream",
     "text": [
      "list[-1] is  hamster\n"
     ]
    }
   ],
   "source": [
    "list = ['dog','cat','rabbit','hamster']\n",
    "print(\"list[-1] is \", list[-1])"
   ]
  },
  {
   "cell_type": "markdown",
   "id": "f20d9dd6",
   "metadata": {},
   "source": [
    "# Practice 2"
   ]
  },
  {
   "cell_type": "code",
   "execution_count": 25,
   "id": "30e86477",
   "metadata": {},
   "outputs": [
    {
     "name": "stdout",
     "output_type": "stream",
     "text": [
      "['apple', 'mango', 'cherry']\n"
     ]
    }
   ],
   "source": [
    "list = ['apple', 'banana', 'cherry']\n",
    "list[1] = 'mango'\n",
    "print (list)"
   ]
  },
  {
   "cell_type": "code",
   "execution_count": 26,
   "id": "fc33d074",
   "metadata": {},
   "outputs": [
    {
     "name": "stdout",
     "output_type": "stream",
     "text": [
      "a is  [100, 2, 3]\n",
      "b is  [100, 2, 3]\n"
     ]
    }
   ],
   "source": [
    "a = [1, 2, 3]\n",
    "b = a\n",
    "b[0] = 100\n",
    "print(\"a is \", a)\n",
    "print(\"b is \", b)\n",
    "    \n"
   ]
  },
  {
   "cell_type": "markdown",
   "id": "00407099",
   "metadata": {},
   "source": [
    "# Practice3"
   ]
  },
  {
   "cell_type": "code",
   "execution_count": 12,
   "id": "77902253",
   "metadata": {},
   "outputs": [
    {
     "name": "stdout",
     "output_type": "stream",
     "text": [
      "name [ Alice Smith , Bob Lee ]\n"
     ]
    }
   ],
   "source": [
    "first_names = [\"Alice\", \"Bob\"]\n",
    "last_names = [\"Smith\", \"Lee\"]\n",
    "print(\"name [\", first_names[0] + ' ' + last_names[0],\",\", first_names[1] + ' ' + last_names[1], \"]\")\n"
   ]
  },
  {
   "cell_type": "code",
   "execution_count": 2,
   "id": "57220f9d",
   "metadata": {},
   "outputs": [
    {
     "name": "stdout",
     "output_type": "stream",
     "text": [
      "New list  ['A', '1', 'B', '2', 'C', '3']\n"
     ]
    }
   ],
   "source": [
    "a = [\"A\", \"B\", \"C\"]\n",
    "b = [\"1\", \"2\", \"3\"]\n",
    "print(\"New list \", [a[0], b[0], a[1], b[1], a[2], b[2]])"
   ]
  },
  {
   "cell_type": "code",
   "execution_count": 5,
   "id": "3753e8bf",
   "metadata": {},
   "outputs": [
    {
     "name": "stdout",
     "output_type": "stream",
     "text": [
      "Final result is  [44, 55, 66, 11, 22, 33]\n"
     ]
    }
   ],
   "source": [
    "nums = [11, 22, 33, 44, 55, 66]\n",
    "print(\"Final result is \", [nums[3], nums[4], nums[5], nums[0], nums[1], nums[2]])"
   ]
  },
  {
   "cell_type": "code",
   "execution_count": null,
   "id": "9e7ba07a",
   "metadata": {},
   "outputs": [],
   "source": []
  }
 ],
 "metadata": {
  "kernelspec": {
   "display_name": "Python 3",
   "language": "python",
   "name": "python3"
  },
  "language_info": {
   "codemirror_mode": {
    "name": "ipython",
    "version": 3
   },
   "file_extension": ".py",
   "mimetype": "text/x-python",
   "name": "python",
   "nbconvert_exporter": "python",
   "pygments_lexer": "ipython3",
   "version": "3.11.9"
  }
 },
 "nbformat": 4,
 "nbformat_minor": 5
}
