{
 "cells": [
  {
   "cell_type": "markdown",
   "id": "28eafed7",
   "metadata": {},
   "source": [
    "# Dictionary Assignment \n",
    "#### 1. You are given the following dictionary representing students and their scores on a test: "
   ]
  },
  {
   "cell_type": "code",
   "execution_count": 2,
   "id": "b2759d1c",
   "metadata": {},
   "outputs": [
    {
     "name": "stdout",
     "output_type": "stream",
     "text": [
      "Student(s) with the highest score: ['Bob'] with score: 92\n"
     ]
    }
   ],
   "source": [
    "scores = { \n",
    "'Alice': 85, \n",
    "'Bob': 92, \n",
    "'Charlie': 78, \n",
    "'David': 90, \n",
    "'Eve': 88 \n",
    "} \n",
    "#Find and print the name(s) of the student(s) with the highest score.\n",
    "max_score = max(scores.values())\n",
    "print(\"Student(s) with the highest score:\", [name for name, score in scores.items() if score == max_score], \"with score:\", max_score)"
   ]
  },
  {
   "cell_type": "code",
   "execution_count": 3,
   "id": "625a1b3d",
   "metadata": {},
   "outputs": [
    {
     "name": "stdout",
     "output_type": "stream",
     "text": [
      "Average score of the class: 86.6\n"
     ]
    }
   ],
   "source": [
    "# Calculate and print the average score of the class.\n",
    "average_score = sum(scores.values()) / len(scores)\n",
    "print(\"Average score of the class:\", average_score)"
   ]
  },
  {
   "cell_type": "code",
   "execution_count": 4,
   "id": "3590a76d",
   "metadata": {},
   "outputs": [
    {
     "name": "stdout",
     "output_type": "stream",
     "text": [
      "Students who scored at least 80: {'Alice': 85, 'Bob': 92, 'David': 90, 'Eve': 88}\n"
     ]
    }
   ],
   "source": [
    "# Create a new dictionary that only includes students who scored at least 80.\n",
    "high_scorers = {name : score for name, score in scores.items() if score >= 80}\n",
    "print(\"Students who scored at least 80:\", high_scorers)"
   ]
  },
  {
   "cell_type": "markdown",
   "id": "8102cb5e",
   "metadata": {},
   "source": [
    "# 2. You’re given: \n"
   ]
  },
  {
   "cell_type": "code",
   "execution_count": 6,
   "id": "d605f628",
   "metadata": {},
   "outputs": [
    {
     "name": "stdout",
     "output_type": "stream",
     "text": [
      "Top 3 students with highest scores: [('Frank', 95), ('Bob', 92), ('David', 90)]\n"
     ]
    }
   ],
   "source": [
    "scores = { \n",
    "'Alice': 85, 'Bob': 92, 'Charlie': 78,  \n",
    "'David': 90, 'Eve': 88, 'Frank': 95, 'Grace': 80 \n",
    "}\n",
    "# Find the top 3 students with the highest scores and print their names and scores.\n",
    "# Use the existing 'scores' variable from previous cells\n",
    "\n",
    "top_3_students = sorted(scores.items(), key=lambda item: item[1], reverse=True)[:3]\n",
    "print(\"Top 3 students with highest scores:\", top_3_students)\n"
   ]
  },
  {
   "cell_type": "markdown",
   "id": "21f04647",
   "metadata": {},
   "source": [
    "# 3. Given"
   ]
  },
  {
   "cell_type": "code",
   "execution_count": 7,
   "id": "e8cb2eec",
   "metadata": {},
   "outputs": [
    {
     "name": "stdout",
     "output_type": "stream",
     "text": [
      "Total sales for the quarter: 3100\n",
      "Total expenses for the quarter: 1350\n"
     ]
    }
   ],
   "source": [
    "data = { \n",
    "'January': {'sales': 1000, 'expenses': 400}, \n",
    "'February': {'sales': 1200, 'expenses': 500}, \n",
    "'March': {'sales': 900, 'expenses': 450} \n",
    "} \n",
    "\n",
    "#Compute and print the total sales and total expenses for the quarter.\n",
    "total_sales = sum(month['sales'] for month in data.values())\n",
    "total_expenses = sum(month['expenses'] for month in data.values())\n",
    "print(\"Total sales for the quarter:\", total_sales)\n",
    "print(\"Total expenses for the quarter:\", total_expenses)"
   ]
  },
  {
   "cell_type": "code",
   "execution_count": 8,
   "id": "d56003ef",
   "metadata": {},
   "outputs": [
    {
     "name": "stdout",
     "output_type": "stream",
     "text": [
      "profit for month January: 600\n",
      "profit for month February: 700\n",
      "profit for month March: 450\n"
     ]
    }
   ],
   "source": [
    "#Also calculate the profit (sales - expenses) for each month.\n",
    "for month, values in data.items():\n",
    "    profit = values['sales'] - values['expenses']\n",
    "    print(f\"profit for month {month}:\", profit)"
   ]
  },
  {
   "cell_type": "markdown",
   "id": "ef32fc44",
   "metadata": {},
   "source": [
    "# 4. You’re given a list of names: "
   ]
  },
  {
   "cell_type": "code",
   "execution_count": 16,
   "id": "bca7b24d",
   "metadata": {},
   "outputs": [
    {
     "name": "stdout",
     "output_type": "stream",
     "text": [
      "Names grouped by length: {4: ['Anna', 'Dann'], 8: ['Benjamin'], 5: ['Cathy', 'Frank'], 7: ['Eleanor']}\n"
     ]
    }
   ],
   "source": [
    "names = [\"Anna\", \"Benjamin\", \"Cathy\", \"Dann\", \"Eleanor\", \"Frank\"]\n",
    "# Write a program to create a dictionary where the keys are name lengths and the values are lists of names of that length:\n",
    "\n",
    "name_length_dict = {}\n",
    "for name in names:\n",
    "    length = len(name)\n",
    "    if length not in name_length_dict:\n",
    "        name_length_dict[length] = [name]\n",
    "    else:\n",
    "        name_length_dict[length].append(name)\n",
    "print(\"Names grouped by length:\", name_length_dict) "
   ]
  },
  {
   "cell_type": "markdown",
   "id": "bcf9c2c7",
   "metadata": {},
   "source": [
    "## 5. Build a simple console-based student management system that uses Python dictionaries to store and manage data about students, their courses, and grades.\n"
   ]
  },
  {
   "cell_type": "code",
   "execution_count": 10,
   "id": "e39f1173",
   "metadata": {},
   "outputs": [
    {
     "name": "stdout",
     "output_type": "stream",
     "text": [
      "Added student Charlie with ID S003\n",
      "Added student Charlie's grade for Math: 88\n",
      "ID: S001, Name: Alice, Courses: {'Math': 90, 'English': 85}\n",
      "ID: S002, Name: Bob, Courses: {'Math': 75, 'Science': 80}\n",
      "ID: S003, Name: Charlie, Courses: {'Math': 88}\n",
      "Removed student Bob with ID S002\n",
      "Average grade for Charlie: 88.00\n",
      "Student(s) with the highest average grade (88.00): Charlie\n"
     ]
    }
   ],
   "source": [
    "# Store student data in a dictionary, where: \n",
    "# Each key is a student ID (or name). \n",
    "students = { \n",
    "    'S001': { \n",
    "        'name': 'Alice', \n",
    "        'courses': {'Math': 90, 'English': 85} \n",
    "    }, \n",
    "    'S002': { \n",
    "        'name': 'Bob', \n",
    "        'courses': {'Math': 75, 'Science': 80} \n",
    "    } \n",
    "}\n",
    "\n",
    "# function to add a new student \n",
    "def add_student(student_id, name):\n",
    "    if student_id in students:\n",
    "        print(\"Student ID already exists!\")\n",
    "    else:\n",
    "        students[student_id] = {'name': name, 'courses': {}}\n",
    "        print(f\"Added student {name} with ID {student_id}\")\n",
    "\n",
    "# Function to update a student's course grade\n",
    "def update_grade(student_id, course, grade):\n",
    "    if student_id in students:\n",
    "        students[student_id]['courses'][course] = grade\n",
    "        print(f\"Added student {students[student_id]['name']}'s grade for {course}: {grade}\")\n",
    "    else:\n",
    "        print(\"Student ID not found.\")\n",
    "\n",
    "# Function to print all students and their grades\n",
    "def print_students():\n",
    "    for sid, info in students.items():\n",
    "        print(f\"ID: {sid}, Name: {info['name']}, Courses: {info['courses']}\")\n",
    "\n",
    "# Function to remove a student by student_id\n",
    "def remove_student(student_id):\n",
    "    if student_id in students:\n",
    "        removed = students.pop(student_id)\n",
    "        print(f\"Removed student {removed['name']} with ID {student_id}\")\n",
    "    else:\n",
    "        print(\"Student ID not found.\")\n",
    "# Function to display the average grade for a given student       \n",
    "def average_grade(student_id):\n",
    "    if student_id in students:\n",
    "        courses = students[student_id]['courses']\n",
    "        if courses:\n",
    "            avg = sum(courses.values()) / len(courses)\n",
    "            print(f\"Average grade for {students[student_id]['name']}: {avg:.2f}\")\n",
    "        else:\n",
    "            print(f\"{students[student_id]['name']} has no courses.\")\n",
    "    else:\n",
    "        print(\"Student ID not found.\")\n",
    "\n",
    "# Function to find and print the student(s) with the highest average grade\n",
    "def highest_average_student():\n",
    "    max_avg = -1\n",
    "    top_students = []\n",
    "    for sid, info in students.items():\n",
    "        courses = info['courses']\n",
    "        if courses:\n",
    "            avg = sum(courses.values()) / len(courses)\n",
    "            if avg > max_avg:\n",
    "                max_avg = avg\n",
    "                top_students = [info['name']]\n",
    "            elif avg == max_avg:\n",
    "                top_students.append(info['name'])\n",
    "    if top_students:\n",
    "        print(f\"Student(s) with the highest average grade ({max_avg:.2f}): {', '.join(top_students)}\")\n",
    "    else:\n",
    "        print(\"No students with grades found.\")\n",
    "\n",
    "\n",
    "# Example usage:\n",
    "add_student('S003', 'Charlie')\n",
    "update_grade('S003', 'Math', 88)\n",
    "print_students()\n",
    "remove_student('S002')\n",
    "average_grade('S003')\n",
    "highest_average_student()\n",
    "\n"
   ]
  }
 ],
 "metadata": {
  "kernelspec": {
   "display_name": "Python 3",
   "language": "python",
   "name": "python3"
  },
  "language_info": {
   "codemirror_mode": {
    "name": "ipython",
    "version": 3
   },
   "file_extension": ".py",
   "mimetype": "text/x-python",
   "name": "python",
   "nbconvert_exporter": "python",
   "pygments_lexer": "ipython3",
   "version": "3.13.2"
  }
 },
 "nbformat": 4,
 "nbformat_minor": 5
}
