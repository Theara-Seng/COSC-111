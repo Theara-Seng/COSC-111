{
 "cells": [
  {
   "cell_type": "markdown",
   "id": "cc41c4cf-abf8-4825-8cfe-55101b21489d",
   "metadata": {
    "editable": true,
    "slideshow": {
     "slide_type": ""
    },
    "tags": []
   },
   "source": [
    "# Practice 1\n",
    "-  Create a list of 4 countries: `[\"Cambodia\", \"China\", \"Vietnam\", \"Laos\"]` and print the first country in the list\n",
    "- Create a list of animals: `[\"dog\", \"cat\", \"rabbit\", \"hamster\"]` Print the last animal using negative indexing"
   ]
  },
  {
   "cell_type": "code",
   "execution_count": 1,
   "id": "e7e92b22-c247-450c-be52-6e4a43e1beee",
   "metadata": {},
   "outputs": [
    {
     "data": {
      "text/plain": [
       "'Cambodia'"
      ]
     },
     "execution_count": 1,
     "metadata": {},
     "output_type": "execute_result"
    }
   ],
   "source": [
    "countries = [\"Cambodia\", \"China\", \"Vietnam\", \"Laos\"]\n",
    "# accessing the first country of the list\n",
    "countries[0]"
   ]
  },
  {
   "cell_type": "code",
   "execution_count": 2,
   "id": "f6cdb1c0-717f-495d-bda2-54217613624d",
   "metadata": {},
   "outputs": [
    {
     "data": {
      "text/plain": [
       "'hamster'"
      ]
     },
     "execution_count": 2,
     "metadata": {},
     "output_type": "execute_result"
    }
   ],
   "source": [
    "animals = [\"dog\", \"cat\", \"rabbit\", \"hamster\"]\n",
    "# accessing the last animal of the list using negative indexing\n",
    "animals[-1]"
   ]
  },
  {
   "cell_type": "markdown",
   "id": "2e884649-2c0c-4aae-80a6-1de9e3ad45d6",
   "metadata": {},
   "source": [
    "# Practice 2\n",
    "- Create a list of Fruits: `[\"apples\", \"banana\", \"cherry\"]`. Change \"banana\" to \"mango\" and print the list\n",
    "- Create a list called `a = [1, 2, 3]`\n",
    "    - Assign `b = a`\n",
    "    - Then set `b[0] = 100`\n",
    "    - print both `a and b`"
   ]
  },
  {
   "cell_type": "code",
   "execution_count": 3,
   "id": "95674973-a647-400f-b587-7531a9c2fb84",
   "metadata": {},
   "outputs": [
    {
     "name": "stdout",
     "output_type": "stream",
     "text": [
      "['apples', 'mango', 'cherry']\n"
     ]
    }
   ],
   "source": [
    "fruits = [\"apples\", \"banana\", \"cherry\"]\n",
    "# finding the fruit \"banana\" and assigning it to \"mango\" using list.index method\n",
    "fruits[fruits.index(\"banana\")] = \"mango\"\n",
    "print(fruits)"
   ]
  },
  {
   "cell_type": "code",
   "execution_count": 4,
   "id": "de3606b5-8965-44ec-9152-15d4c61ac583",
   "metadata": {},
   "outputs": [
    {
     "name": "stdout",
     "output_type": "stream",
     "text": [
      "[100, 2, 3] [100, 2, 3]\n"
     ]
    }
   ],
   "source": [
    "a = [1, 2, 3]\n",
    "# copying the list\n",
    "b = a\n",
    "# set 0th index to 100\n",
    "b[0] = 100\n",
    "print(a, b)"
   ]
  },
  {
   "cell_type": "markdown",
   "id": "758aa7d3-6ae3-4cbf-9eb1-aff065117321",
   "metadata": {},
   "source": [
    "# Practice 3\n",
    "- Given two lists. Write code to print: `[\"Alice Smith\", \"Bob Lee\"]`. Use\n",
    "element access and `+`.\n",
    "```python\n",
    "first_names = [\"Alice\", \"Bob\"]\n",
    "last_names = [\"Smith\", \"Lee\"]\n",
    "```\n",
    "- Given:\n",
    "  ```python\n",
    "    a = [\"A\", \"B\", \"C\"]\n",
    "    b = [\"1\", \"2\", \"3\"]\n",
    "  ```\n",
    "  - Create `[\"A\", \"1\", \"B\", \"2\", \"C\", \"3\"]`\n",
    "- Given:\n",
    "  ```python\n",
    "    nums = [11, 22, 33, 44, 55, 66]\n",
    "  ```\n",
    "  Split the list into 2 halves and swap their positions. Final result: `[44, 55, 33, 44, 55, 66]`"
   ]
  },
  {
   "cell_type": "code",
   "execution_count": 5,
   "id": "ac9fddba-e06a-4069-bee1-438464596f5e",
   "metadata": {},
   "outputs": [
    {
     "name": "stdout",
     "output_type": "stream",
     "text": [
      "['Alice Smith', 'Bob Lee']\n"
     ]
    }
   ],
   "source": [
    "first_names = [\"Alice\", \"Bob\"]\n",
    "last_names = [\"Smith\", \"Lee\"]\n",
    "full_names = []\n",
    "\n",
    "full_names.append(first_names[0] + \" \" + last_names[0])\n",
    "full_names.append(first_names[1] + \" \" + last_names[1])\n",
    "\n",
    "\n",
    "# for DRY code\n",
    "\n",
    "# for i in range(len(first_names)):\n",
    "#     full_names.append(f\"{first_names[i]} {last_names[i]}\")\n",
    "\n",
    "# or \n",
    "\n",
    "# full_names = [first_names[i] + \" \" + last_names[i] for i in range(len(first_names))]\n",
    "\n",
    "print(full_names)"
   ]
  },
  {
   "cell_type": "code",
   "execution_count": 6,
   "id": "b58cdf9b-6418-4fec-afba-a0d57e3dd975",
   "metadata": {},
   "outputs": [
    {
     "name": "stdout",
     "output_type": "stream",
     "text": [
      "['A', '1', 'B', '2', 'C', '3']\n"
     ]
    }
   ],
   "source": [
    "a = [\"A\", \"B\", \"C\"]\n",
    "b = [\"1\", \"2\", \"3\"]\n",
    "\n",
    "# let c be the new list\n",
    "c = [a[0]] + [b[0]] + [a[1]] + [b[1]] + [a[2]] + [b[2]]\n",
    "\n",
    "\n",
    "# DRY principle code\n",
    "# c = []\n",
    "# for i in range(len(a)):\n",
    "#     c+= (a[i] + b[i])\n",
    "\n",
    "print(c)"
   ]
  },
  {
   "cell_type": "code",
   "execution_count": 7,
   "id": "ab16fce7-5948-42a8-9639-b17a95947e30",
   "metadata": {},
   "outputs": [
    {
     "name": "stdout",
     "output_type": "stream",
     "text": [
      "[44, 55, 66, 11, 22, 33]\n"
     ]
    }
   ],
   "source": [
    "nums = [11, 22, 33, 44, 55, 66]\n",
    "nums = nums[3:] + nums[:3]\n",
    "\n",
    "# generalize to n dimension (assume n is even)\n",
    "# half_length = int(len(nums)/2)\n",
    "# nums = nums[half_length:] + nums[:half_length]\n",
    "\n",
    "print(nums)"
   ]
  },
  {
   "cell_type": "markdown",
   "id": "f6aedf6c-056a-46e8-bbd2-68df6dc035c6",
   "metadata": {},
   "source": [
    "# Practice 4\n",
    "- Given `t = (10, 20, [30, 40])`. Change the value 30 to 99. Is it possible? Explain your answer.\n",
    "- Given `data = (\"a\", \"b\" , \"c\", \"a\", \"b\", \"a\")`. Count how many times \"a\" appears. Find the index of the first \"b\".\n",
    "- Given `students = ((\"Alice\", 18), (\"Bob\", 20), (\"Charlie\", 19))`, print all names only, using a loop"
   ]
  },
  {
   "cell_type": "code",
   "execution_count": 8,
   "id": "ef6032dd-6f85-4d6c-bb3c-58ec52bb16c2",
   "metadata": {},
   "outputs": [
    {
     "name": "stdout",
     "output_type": "stream",
     "text": [
      "Address before operation:  140061301877248\n",
      "(10, 20, [30, 40])\n",
      "Address after operation:  140061301877248\n",
      "(10, 20, [99, 40])\n"
     ]
    }
   ],
   "source": [
    "\n",
    "# It is possible to change the value of 30 to 99 since it's contained in a list stored in a tuple.\n",
    "# Doing t[2][0] = 99 changes the composition of the list from [30, 40] to [99, 40]\n",
    "# however, the list is still of the same object and hence, this operation is still valid for tuples\n",
    "# to check, we can use the `id` function to verify that the list is of the same object after the operation\n",
    "\n",
    "t = (10, 20, [30, 40])\n",
    "print(\"Address before operation: \", id(t[2]))\n",
    "print(t)\n",
    "t[2][0] = 99\n",
    "print(\"Address after operation: \", id(t[2]))\n",
    "print(t)"
   ]
  },
  {
   "cell_type": "code",
   "execution_count": 9,
   "id": "97d33a37-5ab1-4b40-9e13-2e743f2c95f2",
   "metadata": {},
   "outputs": [
    {
     "name": "stdout",
     "output_type": "stream",
     "text": [
      "Count of a: 3\n",
      "Index of first b: 1\n"
     ]
    }
   ],
   "source": [
    "data = (\"a\", \"b\", \"c\", \"a\", \"b\", \"a\")\n",
    "\n",
    "a_count = 0\n",
    "first_b_index = -1\n",
    "# first_b_index is negative if 'b' isn't in the list\n",
    "\n",
    "for i in range(len(data)):\n",
    "    char = data[i]\n",
    "    if char == \"a\":\n",
    "        a_count += 1\n",
    "    elif char == \"b\" and first_b_index < 0:\n",
    "        # only record the first b index\n",
    "        first_b_index = i\n",
    "        \n",
    "print(f\"Count of a: {a_count}\")\n",
    "print(f\"Index of first b: {first_b_index}\")\n"
   ]
  },
  {
   "cell_type": "code",
   "execution_count": 10,
   "id": "0f417478-49d8-4f56-84e4-62baea542e6d",
   "metadata": {},
   "outputs": [
    {
     "name": "stdout",
     "output_type": "stream",
     "text": [
      "Alice\n",
      "Bob\n",
      "Charlie\n"
     ]
    }
   ],
   "source": [
    "students = ((\"Alice\", 18), (\"Bob\", 20), (\"Charlie\", 19))\n",
    "for name, age in students:\n",
    "    # only printing the names\n",
    "    print(name)\n",
    "    "
   ]
  },
  {
   "cell_type": "markdown",
   "id": "41601476-02e6-49d8-a4a7-e486b2357e96",
   "metadata": {},
   "source": [
    "# Practice 5\n",
    "- Given `data = [1, 2, 3, 4, 5, 6, 7, 8]`, print every other number (step size = 2)\n",
    "- Given `t = (\"Mon\", \"Tue\", \"Wed\", \"Thu\", \"Fri\", \"Sat\", \"Sun\")`. print only the weekend days from the tuple\n",
    "- Remove the first and last elements from this list using slicing"
   ]
  },
  {
   "cell_type": "code",
   "execution_count": 11,
   "id": "1631e453-83b4-46e9-9cdc-1293be365cfd",
   "metadata": {},
   "outputs": [
    {
     "name": "stdout",
     "output_type": "stream",
     "text": [
      "[1, 3, 5, 7]\n"
     ]
    }
   ],
   "source": [
    "data = [1, 2, 3, 4, 5, 6, 7, 8]\n",
    "\n",
    "\n",
    "# printing every other number\n",
    "print(data[::2])"
   ]
  },
  {
   "cell_type": "code",
   "execution_count": 12,
   "id": "0d30cb7d-15a5-4654-a51e-e39aee9958ce",
   "metadata": {},
   "outputs": [
    {
     "data": {
      "text/plain": [
       "('Sat', 'Sun')"
      ]
     },
     "execution_count": 12,
     "metadata": {},
     "output_type": "execute_result"
    }
   ],
   "source": [
    "t = (\"Mon\", \"Tue\", \"Wed\", \"Thu\", \"Fri\", \"Sat\", \"Sun\")\n",
    "# only printing from \"Sat\" onwards (Assume list is sorted by day of the week, starting from Monday)\n",
    "t[5:]"
   ]
  },
  {
   "cell_type": "code",
   "execution_count": 13,
   "id": "bd60cef8-f4d7-4d6d-bc4b-cddbe7ebd8e0",
   "metadata": {},
   "outputs": [
    {
     "data": {
      "text/plain": [
       "['B', 'C', 'D']"
      ]
     },
     "execution_count": 13,
     "metadata": {},
     "output_type": "execute_result"
    }
   ],
   "source": [
    "letters = [\"A\", \"B\", \"C\", \"D\", \"E\"]\n",
    "# taking out the first, and last element of the list\n",
    "letters[1:-1]"
   ]
  },
  {
   "cell_type": "markdown",
   "id": "4283012f-173f-417b-9c7e-d323a9fdeb55",
   "metadata": {},
   "source": [
    "# Practice 6\n",
    "\n",
    "**Objective**: Create a functional Python Program that allows users to manage and analyze student's grades using lists, tuples, and functions\n",
    "\n",
    "- Store student records as a list of tuples\n",
    "  ```python\n",
    "  students = [\n",
    "      (\"Alice\", [85, 99, 88]),\n",
    "      (\"Bob\", [70, 75, 80]),\n",
    "      (\"Charlie\", [95, 100, 98])\n",
    "  ]\n",
    "  ```\n",
    "- Perform slicing on the list to show specific student data\n",
    "- Write a function `get_average(scores)` to calculate the average from a list of scores\n",
    "- Write a function `add_student(name, scores)` to add a new student. Prevent duplicates based on name.\n",
    "- Write a function get_all_average(students) to return a list of tuples with stdent names and their average scores\n",
    "- Sort and display the top-performing students based on average score\n",
    "- Write a function `update_score(name, index, new_score)` to update a specific score of a student\n",
    "- Ask the user to enter a student name and print the student's full score record. If the name does not exist, print a message.\n",
    "\n",
    "**Bonus Challenge:**\n",
    "\n",
    "- Allow the user to remove a student by name.\n",
    "- print a formated grade summary report."
   ]
  },
  {
   "cell_type": "code",
   "execution_count": 14,
   "id": "63175a36-31c0-4508-a09e-a1fe48bab6a5",
   "metadata": {
    "scrolled": true
   },
   "outputs": [
    {
     "name": "stdout",
     "output_type": "stream",
     "text": [
      "Last 3 students added: [('Alice', [85, 99, 88]), ('Bob', [70, 75, 80]), ('Charlie', [95, 100, 98])]\n",
      "Top performing student: f('Charlie', 97.66666666666667)\n"
     ]
    },
    {
     "name": "stdin",
     "output_type": "stream",
     "text": [
      "Enter a student name:  Alice\n"
     ]
    },
    {
     "name": "stdout",
     "output_type": "stream",
     "text": [
      "Name: Alice\n",
      "Score: [85, 99, 88]\n"
     ]
    }
   ],
   "source": [
    "students = [\n",
    "      (\"Alice\", [85, 99, 88]),\n",
    "      (\"Bob\", [70, 75, 80]),\n",
    "      (\"Charlie\", [95, 100, 98])\n",
    "  ]\n",
    "\n",
    "# assume new students are added using list.append\n",
    "print(f\"Last 3 students added: {students[-3:]}\")\n",
    "\n",
    "def is_student_in_list(students, student_to_check):\n",
    "    # checks whether the student is in the list\n",
    "    # if student is found in the list, return True and its index\n",
    "    # if student isn't found, return False and None as its index\n",
    "    \n",
    "    found = False\n",
    "    found_at_index = None\n",
    "    for i in range(len(students)):\n",
    "        if students[i][0] == student_to_check:\n",
    "            found = True\n",
    "            found_at_index = i\n",
    "            # breaking out of the loop assuming the list \"student\" has no duplicates\n",
    "            break\n",
    "    return found, found_at_index\n",
    "\n",
    "def get_average(scores):\n",
    "    sum = 0\n",
    "    for score in scores:\n",
    "        sum += score\n",
    "    return sum/len(scores)\n",
    "\n",
    "def add_student(name, scores):\n",
    "    global students\n",
    "    # add a new student only if their name is NOT in the list\n",
    "    if not is_student_in_list(students, name)[0]:\n",
    "        students.append((name, scores))\n",
    "\n",
    "def get_all_averages(students):\n",
    "    # calculating the average of all of the students manually\n",
    "    return [(name, get_average(scores)) for name, scores in students]\n",
    " \n",
    "# print the top performing student (find max of the average grade)\n",
    "print(f\"Top performing student: f{max(get_all_averages(students), key=lambda x: x[1])}\")\n",
    "\n",
    "\n",
    "def update_score(name, index, new_score):\n",
    "    global students\n",
    "    # update score as long as name is in the list of students\n",
    "    for i in range(len(students)):\n",
    "        if students[i][0] == name:\n",
    "            students[i][1][index] = new_score\n",
    "\n",
    "\n",
    "input_name = input(\"Enter a student name: \").title()\n",
    "student_in_list, index = is_student_in_list(students, input_name)\n",
    "if student_in_list:\n",
    "    # retrieves the name and the student's score as long as they're in the list\n",
    "    print(f\"Name: {students[index][0]}\\nScore: {students[index][1]}\")\n",
    "else:\n",
    "    # otherwise, states that the student isn't in the list\n",
    "    print(\"Can't find '{}' in the list\".format(input_name))"
   ]
  },
  {
   "cell_type": "code",
   "execution_count": 15,
   "id": "f90d3738-0a86-4590-b487-8d4e00f0c3d8",
   "metadata": {},
   "outputs": [
    {
     "name": "stdin",
     "output_type": "stream",
     "text": [
      "Enter a student name:  Ben\n"
     ]
    },
    {
     "name": "stdout",
     "output_type": "stream",
     "text": [
      "Can't find the student in the list\n"
     ]
    }
   ],
   "source": [
    "# student removal program\n",
    "\n",
    "input_name = input(\"Enter a student name: \").title()\n",
    "student_in_list, index = is_student_in_list(students, input_name)\n",
    "if student_in_list:\n",
    "    # removing a student from list via slicing\n",
    "    students = students[:index] + students[index+1:]\n",
    "    print(f\"Removed {input_name}\")\n",
    "    print(students)\n",
    "else:\n",
    "    print(\"Can't find the student in the list\")\n"
   ]
  },
  {
   "cell_type": "code",
   "execution_count": 16,
   "id": "7017b7ff-4cbd-4c0b-a9e2-c41545add406",
   "metadata": {
    "editable": true,
    "slideshow": {
     "slide_type": ""
    },
    "tags": []
   },
   "outputs": [
    {
     "data": {
      "text/html": [
       "<div>\n",
       "<style scoped>\n",
       "    .dataframe tbody tr th:only-of-type {\n",
       "        vertical-align: middle;\n",
       "    }\n",
       "\n",
       "    .dataframe tbody tr th {\n",
       "        vertical-align: top;\n",
       "    }\n",
       "\n",
       "    .dataframe thead th {\n",
       "        text-align: right;\n",
       "    }\n",
       "</style>\n",
       "<table border=\"1\" class=\"dataframe\">\n",
       "  <thead>\n",
       "    <tr style=\"text-align: right;\">\n",
       "      <th></th>\n",
       "      <th>Alice</th>\n",
       "      <th>Bob</th>\n",
       "      <th>Charlie</th>\n",
       "    </tr>\n",
       "  </thead>\n",
       "  <tbody>\n",
       "    <tr>\n",
       "      <th>Subject 1</th>\n",
       "      <td>85.0</td>\n",
       "      <td>70.0</td>\n",
       "      <td>95.0</td>\n",
       "    </tr>\n",
       "    <tr>\n",
       "      <th>Subject 2</th>\n",
       "      <td>99.0</td>\n",
       "      <td>75.0</td>\n",
       "      <td>100.0</td>\n",
       "    </tr>\n",
       "    <tr>\n",
       "      <th>Subject 3</th>\n",
       "      <td>88.0</td>\n",
       "      <td>80.0</td>\n",
       "      <td>98.0</td>\n",
       "    </tr>\n",
       "    <tr>\n",
       "      <th>Mean</th>\n",
       "      <td>90.666667</td>\n",
       "      <td>75.0</td>\n",
       "      <td>97.666667</td>\n",
       "    </tr>\n",
       "    <tr>\n",
       "      <th>Std Dev</th>\n",
       "      <td>6.01849</td>\n",
       "      <td>4.082483</td>\n",
       "      <td>2.054805</td>\n",
       "    </tr>\n",
       "    <tr>\n",
       "      <th>Grade</th>\n",
       "      <td>A</td>\n",
       "      <td>C</td>\n",
       "      <td>A</td>\n",
       "    </tr>\n",
       "  </tbody>\n",
       "</table>\n",
       "</div>"
      ],
      "text/plain": [
       "               Alice       Bob    Charlie\n",
       "Subject 1       85.0      70.0       95.0\n",
       "Subject 2       99.0      75.0      100.0\n",
       "Subject 3       88.0      80.0       98.0\n",
       "Mean       90.666667      75.0  97.666667\n",
       "Std Dev      6.01849  4.082483   2.054805\n",
       "Grade              A         C          A"
      ]
     },
     "execution_count": 16,
     "metadata": {},
     "output_type": "execute_result"
    }
   ],
   "source": [
    "# print formated grade summary report\n",
    "import pandas as pd\n",
    "\n",
    "\n",
    "# converting to DataFrame For ease of manipulation.\n",
    "# assume subject list is of length 3\n",
    "df = pd.DataFrame({name:scores for name, scores in students}, index=[f\"Subject {i}\" for i in range(1, 4)])\n",
    "\n",
    "# Inserting \"Mean column\"\n",
    "df.rename(index={len(df): \"Mean\"})\n",
    "df.loc[\"Mean\"] = df.mean().values\n",
    "\n",
    "# Inserting \"Standard Deviation column\"\n",
    "df.rename(index={len(df): \"Std Dev\"})\n",
    "df.loc[\"Std Dev\"] = df.std().values\n",
    "\n",
    "df.rename(index={len(df): \"Grade\"})\n",
    "df.loc[\"Grade\"] = df.loc[\"Mean\"].map(lambda x: \"FFFFFEDCBAA\"[int(x//10)])\n",
    "# Grading Criteria:\n",
    "# A: [90, 100]\n",
    "# B: [80, 90)\n",
    "# C: [70, 80)\n",
    "# ...\n",
    "# F: [0, 50)\n",
    "\n",
    "df\n"
   ]
  },
  {
   "cell_type": "code",
   "execution_count": null,
   "id": "7ff6698a-33d6-4579-bc3c-0e19d9ebcbfe",
   "metadata": {},
   "outputs": [],
   "source": []
  }
 ],
 "metadata": {
  "kernelspec": {
   "display_name": "Python 3 (ipykernel)",
   "language": "python",
   "name": "python3"
  },
  "language_info": {
   "codemirror_mode": {
    "name": "ipython",
    "version": 3
   },
   "file_extension": ".py",
   "mimetype": "text/x-python",
   "name": "python",
   "nbconvert_exporter": "python",
   "pygments_lexer": "ipython3",
   "version": "3.10.12"
  }
 },
 "nbformat": 4,
 "nbformat_minor": 5
}
