


countries = ["Cambodia", "China", "Vietnam", "Laos"]
# accessing the first country of the list
countries[0]


animals = ["dog", "cat", "rabbit", "hamster"]
# accessing the last animal of the list using negative indexing
animals[-1]





fruits = ["apples", "banana", "cherry"]
# finding the fruit "banana" and assigning it to "mango" using list.index method
fruits[fruits.index("banana")] = "mango"
print(fruits)


a = [1, 2, 3]
# copying the list
b = a
# set 0th index to 100
b[0] = 100
print(a, b)





first_names = ["Alice", "Bob"]
last_names = ["Smith", "Lee"]
full_names = []

full_names.append(first_names[0] + " " + last_names[0])
full_names.append(first_names[1] + " " + last_names[1])


# for DRY code

# for i in range(len(first_names)):
#     full_names.append(f"{first_names[i]} {last_names[i]}")

# or 

# full_names = [first_names[i] + " " + last_names[i] for i in range(len(first_names))]

print(full_names)


a = ["A", "B", "C"]
b = ["1", "2", "3"]

# let c be the new list
c = [a[0]] + [b[0]] + [a[1]] + [b[1]] + [a[2]] + [b[2]]


# DRY principle code
# c = []
# for i in range(len(a)):
#     c+= (a[i] + b[i])

print(c)


nums = [11, 22, 33, 44, 55, 66]
nums = nums[3:] + nums[:3]

# generalize to n dimension (assume n is even)
# half_length = int(len(nums)/2)
# nums = nums[half_length:] + nums[:half_length]

print(nums)






# It is possible to change the value of 30 to 99 since it's contained in a list stored in a tuple.
# Doing t[2][0] = 99 changes the composition of the list from [30, 40] to [99, 40]
# however, the list is still of the same object and hence, this operation is still valid for tuples
# to check, we can use the `id` function to verify that the list is of the same object after the operation

t = (10, 20, [30, 40])
print("Address before operation: ", id(t[2]))
print(t)
t[2][0] = 99
print("Address after operation: ", id(t[2]))
print(t)


data = ("a", "b", "c", "a", "b", "a")

a_count = 0
first_b_index = -1
# first_b_index is negative if 'b' isn't in the list

for i in range(len(data)):
    char = data[i]
    if char == "a":
        a_count += 1
    elif char == "b" and first_b_index < 0:
        # only record the first b index
        first_b_index = i
        
print(f"Count of a: {a_count}")
print(f"Index of first b: {first_b_index}")



students = (("Alice", 18), ("Bob", 20), ("Charlie", 19))
for name, age in students:
    # only printing the names
    print(name)
    





data = [1, 2, 3, 4, 5, 6, 7, 8]


# printing every other number
print(data[::2])


t = ("Mon", "Tue", "Wed", "Thu", "Fri", "Sat", "Sun")
# only printing from "Sat" onwards (Assume list is sorted by day of the week, starting from Monday)
t[5:]


letters = ["A", "B", "C", "D", "E"]
# taking out the first, and last element of the list
letters[1:-1]





students = [
      ("Alice", [85, 99, 88]),
      ("Bob", [70, 75, 80]),
      ("Charlie", [95, 100, 98])
  ]

# assume new students are added using list.append
print(f"Last 3 students added: {students[-3:]}")

def is_student_in_list(students, student_to_check):
    # checks whether the student is in the list
    # if student is found in the list, return True and its index
    # if student isn't found, return False and None as its index
    
    found = False
    found_at_index = None
    for i in range(len(students)):
        if students[i][0] == student_to_check:
            found = True
            found_at_index = i
            # breaking out of the loop assuming the list "student" has no duplicates
            break
    return found, found_at_index

def get_average(scores):
    sum = 0
    for score in scores:
        sum += score
    return sum/len(scores)

def add_student(name, scores):
    global students
    # add a new student only if their name is NOT in the list
    if not is_student_in_list(students, name)[0]:
        students.append((name, scores))

def get_all_averages(students):
    # calculating the average of all of the students manually
    return [(name, get_average(scores)) for name, scores in students]
 
# print the top performing student (find max of the average grade)
print(f"Top performing student: f{max(get_all_averages(students), key=lambda x: x[1])}")


def update_score(name, index, new_score):
    global students
    # update score as long as name is in the list of students
    for i in range(len(students)):
        if students[i][0] == name:
            students[i][1][index] = new_score


input_name = input("Enter a student name: ").title()
student_in_list, index = is_student_in_list(students, input_name)
if student_in_list:
    # retrieves the name and the student's score as long as they're in the list
    print(f"Name: {students[index][0]}\nScore: {students[index][1]}")
else:
    # otherwise, states that the student isn't in the list
    print("Can't find '{}' in the list".format(input_name))


# student removal program

input_name = input("Enter a student name: ").title()
student_in_list, index = is_student_in_list(students, input_name)
if student_in_list:
    # removing a student from list via slicing
    students = students[:index] + students[index+1:]
    print(f"Removed {input_name}")
    print(students)
else:
    print("Can't find the student in the list")



# print formated grade summary report
import pandas as pd


# converting to DataFrame For ease of manipulation.
# assume subject list is of length 3
df = pd.DataFrame({name:scores for name, scores in students}, index=[f"Subject {i}" for i in range(1, 4)])

# Inserting "Mean column"
df.rename(index={len(df): "Mean"})
df.loc["Mean"] = df.mean().values

# Inserting "Standard Deviation column"
df.rename(index={len(df): "Std Dev"})
df.loc["Std Dev"] = df.std().values

df.rename(index={len(df): "Grade"})
df.loc["Grade"] = df.loc["Mean"].map(lambda x: "FFFFFEDCBAA"[int(x//10)])
# Grading Criteria:
# A: [90, 100]
# B: [80, 90)
# C: [70, 80)
# ...
# F: [0, 50)

df




